{
  "cells": [
    {
      "cell_type": "markdown",
      "metadata": {
        "id": "view-in-github",
        "colab_type": "text"
      },
      "source": [
        "<a href=\"https://colab.research.google.com/github/MegaDewi2/Chatbot-TA/blob/main/CHATBOT_TA_.ipynb\" target=\"_parent\"><img src=\"https://colab.research.google.com/assets/colab-badge.svg\" alt=\"Open In Colab\"/></a>"
      ]
    },
    {
      "cell_type": "code",
      "execution_count": null,
      "metadata": {
        "colab": {
          "base_uri": "https://localhost:8080/"
        },
        "id": "u_Rr6XxbXSik",
        "outputId": "97edb6eb-eef2-443f-95aa-52988baad166"
      },
      "outputs": [
        {
          "output_type": "stream",
          "name": "stderr",
          "text": [
            "[nltk_data] Downloading package punkt to /root/nltk_data...\n",
            "[nltk_data]   Unzipping tokenizers/punkt.zip.\n"
          ]
        },
        {
          "output_type": "execute_result",
          "data": {
            "text/plain": [
              "True"
            ]
          },
          "metadata": {},
          "execution_count": 1
        }
      ],
      "source": [
        "import json\n",
        "import nltk\n",
        "import numpy as np\n",
        "import tensorflow as tf\n",
        "from tensorflow import keras\n",
        "from tensorflow.keras.preprocessing.text import Tokenizer\n",
        "from sklearn.preprocessing import LabelEncoder\n",
        "from nltk.tokenize import word_tokenize\n",
        "\n",
        "nltk.download('punkt')"
      ]
    },
    {
      "cell_type": "code",
      "execution_count": null,
      "metadata": {
        "id": "iUt9hxfgXTp-"
      },
      "outputs": [],
      "source": [
        "import urllib.request\n",
        "import json\n",
        "import string\n",
        "import numpy as np\n",
        "import pandas as pd"
      ]
    },
    {
      "cell_type": "code",
      "execution_count": null,
      "metadata": {
        "colab": {
          "base_uri": "https://localhost:8080/"
        },
        "id": "TbUUXKFCXZLR",
        "outputId": "c573db06-76d6-45af-eecb-1c49318e87da"
      },
      "outputs": [
        {
          "output_type": "execute_result",
          "data": {
            "text/plain": [
              "('data.json', <http.client.HTTPMessage at 0x7efae79b47c0>)"
            ]
          },
          "metadata": {},
          "execution_count": 3
        }
      ],
      "source": [
        "#mengambil data dari github\n",
        "data_url = 'https://raw.githubusercontent.com/MegaDewi2/chatbot/main/pengetahuan.json'\n",
        "urllib.request.urlretrieve(data_url, 'data.json')"
      ]
    },
    {
      "cell_type": "code",
      "execution_count": null,
      "metadata": {
        "id": "IQ0DfoQZXbAG"
      },
      "outputs": [],
      "source": [
        "#meload data json\n",
        "with open('data.json', 'r') as f:\n",
        "  data = json.load(f)"
      ]
    },
    {
      "cell_type": "code",
      "execution_count": null,
      "metadata": {
        "colab": {
          "base_uri": "https://localhost:8080/"
        },
        "id": "UXvNOQyOlvk-",
        "outputId": "9aff729c-1ac5-4cef-ac32-e074283356ad"
      },
      "outputs": [
        {
          "output_type": "stream",
          "name": "stdout",
          "text": [
            "Collecting sastrawi\n",
            "  Downloading Sastrawi-1.0.1-py2.py3-none-any.whl (209 kB)\n",
            "\u001b[?25l     \u001b[90m━━━━━━━━━━━━━━━━━━━━━━━━━━━━━━━━━━━━━━━━\u001b[0m \u001b[32m0.0/209.7 kB\u001b[0m \u001b[31m?\u001b[0m eta \u001b[36m-:--:--\u001b[0m\r\u001b[2K     \u001b[91m━━━━━━━━━━━━━━━━━━━━━━━━━━━━━━━━━\u001b[0m\u001b[90m╺\u001b[0m\u001b[90m━━━━━━\u001b[0m \u001b[32m174.1/209.7 kB\u001b[0m \u001b[31m5.1 MB/s\u001b[0m eta \u001b[36m0:00:01\u001b[0m\r\u001b[2K     \u001b[90m━━━━━━━━━━━━━━━━━━━━━━━━━━━━━━━━━━━━━━━━\u001b[0m \u001b[32m209.7/209.7 kB\u001b[0m \u001b[31m4.6 MB/s\u001b[0m eta \u001b[36m0:00:00\u001b[0m\n",
            "\u001b[?25hInstalling collected packages: sastrawi\n",
            "Successfully installed sastrawi-1.0.1\n"
          ]
        }
      ],
      "source": [
        "pip install sastrawi"
      ]
    },
    {
      "cell_type": "code",
      "execution_count": null,
      "metadata": {
        "colab": {
          "base_uri": "https://localhost:8080/",
          "height": 36
        },
        "id": "Z3NtKiPplzay",
        "outputId": "cd003b56-1e72-40ef-9e2e-ab84217e8998"
      },
      "outputs": [
        {
          "output_type": "execute_result",
          "data": {
            "text/plain": [
              "'!\"#$%&\\'()*+,-./:;<=>?@[\\\\]^_`{|}~'"
            ],
            "application/vnd.google.colaboratory.intrinsic+json": {
              "type": "string"
            }
          },
          "metadata": {},
          "execution_count": 6
        }
      ],
      "source": [
        "from Sastrawi.Stemmer.StemmerFactory import StemmerFactory\n",
        "\n",
        "factory = StemmerFactory()\n",
        "stemmer = factory.create_stemmer()\n",
        "\n",
        "string.punctuation"
      ]
    },
    {
      "cell_type": "code",
      "execution_count": null,
      "metadata": {
        "id": "YmuLZF5NXe_W"
      },
      "outputs": [],
      "source": [
        "training_sentences = []\n",
        "training_labels = []\n",
        "labels = []\n",
        "responses = []\n",
        "\n",
        "# punct = ['!', '?', ',', '.']\n",
        "for intent in data['simanta']:\n",
        "    for pattern in intent['question']:\n",
        "        patternn = pattern.lower()\n",
        "        pattern = patternn.translate(str.maketrans(\"\",\"\",string.punctuation))\n",
        "        pattern = word_tokenize(pattern)\n",
        "        pattern = [stemmer.stem(w.lower()) for w in pattern if w not in string.punctuation]\n",
        "        training_sentences.append(pattern)\n",
        "        training_labels.append(intent['tag'])\n",
        "    responses.append(intent['answer'])\n",
        "\n",
        "    if intent['tag'] not in labels:\n",
        "        labels.append(intent['tag'])\n"
      ]
    },
    {
      "cell_type": "code",
      "execution_count": null,
      "metadata": {
        "colab": {
          "base_uri": "https://localhost:8080/"
        },
        "id": "bDbY0T7esLDG",
        "outputId": "65c4aafb-4f1a-4982-9da3-e83aac705a0a"
      },
      "outputs": [
        {
          "output_type": "stream",
          "name": "stdout",
          "text": [
            "['gimana', 'sih', 'sk', 'ta', 'itu']\n",
            "gimana sih sk ta itu?\n"
          ]
        }
      ],
      "source": [
        "print(pattern)\n",
        "print(patternn)"
      ]
    },
    {
      "cell_type": "code",
      "execution_count": null,
      "metadata": {
        "colab": {
          "base_uri": "https://localhost:8080/"
        },
        "id": "bxYoWaiqkrk0",
        "outputId": "a7f023d2-5f6b-4027-f5a6-ba5e1a2684ff"
      },
      "outputs": [
        {
          "output_type": "stream",
          "name": "stdout",
          "text": [
            "3460\n",
            "[['hai'], ['hallo'], ['halo'], ['haloo'], ['hello'], ['hai'], ['permisi'], ['hai', 'kak'], ['hai', 'min'], ['halo', 'kak'], ['halo', 'min'], ['permisi', 'kak'], ['permisi', 'min'], ['assalamualaikum'], ['assalamualaikum'], ['assalamualaikum', 'kak'], ['assalamualaikum', 'min'], ['assalamualaikum', 'kak'], ['assalamualaikum', 'min'], ['min', 'mau', 'nanya'], ['kak', 'mau', 'nanya'], ['permisi', 'mau', 'tanya'], ['permisi', 'mau', 'nanya'], ['mau', 'tanya', 'putar', 'ta'], ['saya', 'ingin', 'tanya'], ['aku', 'mau', 'nanya'], ['pagi'], ['selamat', 'pagi'], ['siang'], ['selamat', 'siang'], ['sore'], ['selamat', 'sore'], ['apa', 'kabs'], ['how', 'ar', 'u'], ['how', 'are', 'you'], ['halu'], ['min'], ['kak'], ['admin'], ['pagi', 'kak'], ['siang', 'kak'], ['sore', 'kak'], ['malam', 'kak'], ['selamat', 'pagi', 'kak'], ['selamat', 'siang', 'kak'], ['selamat', 'sore', 'kak'], ['selamat', 'malam', 'kak'], ['pagi', 'min'], ['siang', 'min'], ['sore', 'min'], ['malam', 'min'], ['selamat', 'pagi', 'min'], ['selamat', 'siang', 'min'], ['selamat', 'sore', 'min'], ['selamat', 'malam', 'min'], ['apa', 'kabar', 'kak'], ['apa', 'kabar', 'min'], ['gimana', 'kabar'], ['gimana', 'kabar', 'kak'], ['gimana', 'kabar', 'min'], ['annyeong'], ['annyeong', 'kak'], ['annyeong', 'min'], ['annyeong', 'admin'], ['pagi', 'admin'], ['siang', 'admin'], ['sore', 'admin'], ['malam', 'admin'], ['selamat', 'pagi', 'admin'], ['selamat', 'siang', 'admin'], ['selamat', 'sore', 'admin'], ['selamat', 'malam', 'admin'], ['terima', 'kasih'], ['terimakasih'], ['makasih'], ['thank', 'you'], ['thanks'], ['thx'], ['thank', 'u'], ['terima', 'kasih', 'kak'], ['terima', 'kasih', 'min'], ['makasih', 'kak'], ['makasih', 'min'], ['thank', 'you', 'kak'], ['thank', 'you', 'admin'], ['thank', 'you', 'min'], ['thank', 'u', 'kak'], ['thank', 'u', 'min'], ['thank', 'u', 'admin'], ['wassalamualaikum'], ['wassalamualaikum', 'kak'], ['wassalamualaikum', 'admin'], ['wassalamualaikum', 'min'], ['see', 'u'], ['see', 'u', 'min'], ['see', 'u', 'kak'], ['see', 'you', 'min'], ['see', 'you', 'kak'], ['bye', 'kak'], ['bye', 'min'], ['selamat', 'tinggal'], ['selamat', 'tinggal', 'admin'], ['selamat', 'tinggal', 'kak'], ['selamat', 'tinggal', 'min'], ['moga', 'hari', 'indah', 'kak'], ['moga', 'hari', 'indah', 'min'], ['moga', 'hari', 'indah', 'admin'], ['terimakasih', 'sudah', 'bantu'], ['makasih', 'udah', 'bantu'], ['makasih', 'kak', 'udah', 'bantu'], ['makasih', 'min', 'udah', 'bantu'], ['mantab', 'min', 'terimakasih'], ['mantab', 'kak', 'terimakasih'], ['mantab', 'terimakasih'], ['mantap', 'min', 'terimakasih'], ['mantap', 'kak', 'terimakasih'], ['mantap', 'terimakasih'], ['mantab', 'min', 'makasih'], ['mantab', 'kak', 'makasih'], ['mantab', 'makasih'], ['mantap', 'kak', 'makasih'], ['mantap', 'min', 'makasih'], ['mantap', 'makasih'], ['sip', 'makasih'], ['sip', 'terimakasih'], ['makasih', 'info'], ['terimakasih', 'informasi'], ['makasih', 'min', 'informasi'], ['makasih', 'kak', 'informasi'], ['makasih', 'informasi', 'kak'], ['makasih', 'informasi', 'min'], ['makasih', 'kak', 'info'], ['makasih', 'min', 'info'], ['terimakasih', 'informasi', 'kak'], ['teirmakasih', 'informasi', 'min'], ['terimakasih', 'kak', 'informasi'], ['terimakasih', 'min', 'informasi'], ['terimakasih', 'info'], ['terimakasih', 'info', 'kak'], ['terimakasih', 'info', 'min'], ['terimakasih', 'kak', 'info'], ['terimakasih', 'min', 'informasi'], ['oke', 'makasih'], ['oke', 'terimakasih'], ['apa', 'itu', 'tugas', 'akhir'], ['apa', 'itu', 'skripsi'], ['apa', 'yang', 'maksud', 'dengan', 'tugas', 'akhir'], ['apa', 'yang', 'maksud', 'dengan', 'skripsi'], ['skripsi'], ['tugas', 'akhir'], ['skripsi', 'itu', 'apa'], ['apa', 'sih', 'skripsi'], ['skripsi', 'itu', 'apa', 'sih'], ['skipsi', 'apa', 'ya'], ['skripsi', 'itu', 'apa', 'ya'], ['tugas', 'akhir', 'itu', 'apa'], ['apa', 'sih', 'tugas', 'akhir'], ['tugas', 'akhir', 'itu', 'apa', 'sih'], ['tugas', 'akhir', 'itu', 'apa'], ['apa', 'sih', 'tugas', 'akhir'], ['bentuk', 'tugas', 'akhir'], ['skripsi', 'itu'], ['guna', 'skripsi'], ['skripsi', 'buat', 'apa', 'sih'], ['yang', 'maksud', 'dengan', 'tugas', 'akhir'], ['yang', 'maksud', 'dengan', 'skripsi'], ['untuk', 'apa', 'skripsi'], ['kenapa', 'harus', 'ngerjain', 'skripsi'], ['berapa', 'sks', 'untuk', 'skripsi'], ['gimana', 'sih', 'skripsi'], ['skripsi', 'itu', 'bagaimana'], ['skripsi', 'gimana'], ['apakah', 'itu', 'skripsi'], ['apakah', 'skripsi', 'itu'], ['apakah', 'yang', 'maksud', 'dengan', 'skripsi'], ['apakah', 'skripsi', 'itu', 'sama', 'dengan', 'tugas', 'akhir'], ['apakah', 'skripsi', 'itu', 'beda', 'dengan', 'tugas', 'akhir'], ['apakah', 'itu', 'tugas', 'akhir'], ['apakah', 'tugas', 'akhir', 'itu'], ['apakah', 'yang', 'maksud', 'dengan', 'tugas', 'akhir'], ['tugas', 'akhir', 'itu'], ['erti', 'skprisi'], ['erti', 'skripsi', 'itu', 'apa'], ['erti', 'skripsi', 'apa'], ['erti', 'skripsi', 'adalah'], ['skripsi', 'apa', 'tuuh'], ['skripsi', 'tu', 'apa'], ['tugas', 'akhir', 'apa', 'tuh'], ['tugas', 'akhir', 'tu', 'apa'], ['tuju', 'ngerjain', 'skripsi'], ['tuju', 'kerja', 'skripsi'], ['tuju', 'dari', 'skrispi'], ['tuju', 'skripsi'], ['tuju', 'ngerjain', 'tugas', 'akhir'], ['tuju', 'kerja', 'tugas', 'akhir'], ['tuju', 'dari', 'tugas', 'akhir'], ['tuju', 'tugas', 'akhir'], ['apa', 'syarat', 'ikut', 'uji', 'tugas', 'akhir'], ['syarat', 'ikut', 'uji', 'ta'], ['syarat', 'uji', 'ta'], ['syarat', 'uji', 'akhir'], ['syarat', 'ikut', 'uji', 'tugas', 'akhir'], ['uji', 'tugas', 'akhir'], ['uji', 'ta'], ['syarat', 'uji', 'tugas', 'akhir'], ['syarat', 'uji', 'ta'], ['syarat', 'ikut', 'uji', 'ta'], ['syarat', 'ikut', 'uji', 'tugas', 'akhir'], ['syarat', 'uji', 'tugas', 'akhir', 'apa'], ['apa', 'syarat', 'ikut', 'uji', 'tugas', 'akhir'], ['syarat', 'uji', 'ta', 'apa'], ['apa', 'syarat', 'ikut', 'uji', 'ta'], ['syarat', 'untuk', 'uji', 'ta'], ['syarat', 'untuk', 'uji', 'akhir'], ['syarat', 'untuk', 'uji', 'skripsi'], ['untuk', 'ikut', 'uji', 'ta', 'harus', 'lulus', 'semua', 'matkul'], ['jika', 'masih', 'ada', 'tanggung', 'mata', 'kuliah', 'apakah', 'bisa', 'uji', 'ta'], ['bagaimana', 'syarat', 'untuk', 'ikut', 'uji', 'tugas', 'akhir'], ['bagaimana', 'syarat', 'untuk', 'ikut', 'uji', 'ta'], ['bagaimana', 'syarat', 'untuk', 'ikut', 'uji', 'akhir'], ['syarat', 'ikut', 'uji', 'akhir'], ['syarat', 'ikut', 'uji', 'ta'], ['syarat', 'mengikui', 'uji', 'tugas', 'akhir'], ['syarat', 'ikut', 'uji', 'skripsi'], ['untuk', 'ikut', 'uji', 'tugas', 'akhir', 'apa', 'aja', 'syarat'], ['uji', 'tugas', 'akhir', 'syarat', 'apa', 'aja'], ['bagaimana', 'syarat', 'ikut', 'uji', 'ta'], ['bagaimana', 'syarat', 'untuk', 'ikut', 'uji', 'skripsi'], ['gimana', 'syarat', 'untuk', 'ikut', 'uji', 'tugas', 'akhir'], ['gimana', 'syarat', 'untuk', 'ikut', 'uji', 'ta'], ['gimana', 'syarat', 'untuk', 'ikut', 'uji', 'skripsi'], ['bagaimana', 'syarat', 'ikut', 'uji', 'tugas', 'akhir'], ['bagaimana', 'syarat', 'ikut', 'uji', 'akhir'], ['bagaimana', 'syarat', 'ikut', 'uji', 'ta'], ['bagaimana', 'syarat', 'ikut', 'uji', 'skripsi'], ['gimana', 'syarat', 'ikut', 'uji', 'ta'], ['gimana', 'syarat', 'ikut', 'uji', 'tugas', 'akhir'], ['gimana', 'syarat', 'ikut', 'uji', 'skripsi'], ['uji', 'ta'], ['uji', 'skrispi'], ['uji', 'akhir'], ['uji', 'tugas', 'akhir'], ['informasi', 'tentang', 'syarat', 'uji', 'tugas', 'akhir'], ['informasi', 'tentang', 'syarat', 'uji', 'akhir'], ['informasi', 'tentang', 'syarat', 'uji', 'ta'], ['informasi', 'tentang', 'syarat', 'uji', 'skripsi'], ['info', 'syarat', 'uji', 'skripsi'], ['info', 'syarat', 'uji', 'ta'], ['info', 'syarat', 'uji', 'akhir'], ['info', 'syarat', 'uji', 'tugas', 'akhir'], ['apa', 'itu', 'proposal', 'tugas', 'akhir'], ['proposal', 'tugas', 'akhir'], ['apa', 'itu', 'proposal', 'ta'], ['proposal', 'ta'], ['proposal', 'ta', 'diri', 'dari', 'bab', 'apa', 'aja'], ['proposal', 'tugas', 'akhir', 'diri', 'dari', 'bab', 'apa', 'aja'], ['bab', 'proposal', 'ta'], ['bab', 'proposal', 'tugas', 'akhir'], ['bab', 'proposal', 'ta', 'ada', 'berapa'], ['bab', 'proposal', 'tugas', 'akhir', 'ada', 'berapa'], ['berapa', 'bab', 'proposal', 'ta'], ['berapa', 'bab', 'proposal', 'tugas', 'akhir'], ['bab', 'proposal', 'ta', 'berapa'], ['bab', 'proposal', 'tugas', 'akhir', 'berapa'], ['apa', 'aja', 'bab', 'proposal', 'ta'], ['apa', 'aja', 'bab', 'untuk', 'proposal', 'ta'], ['apa', 'aja', 'bab', 'proposal', 'tugas', 'akhir'], ['apa', 'aja', 'bab', 'untuk', 'proposal', 'tugas', 'akhir'], ['bab', 'proposal'], ['berapa', 'bab', 'untuk', 'proposal'], ['apa', 'aja', 'bab', 'untuk', 'proposal'], ['proposal', 'tugas', 'akhir', 'adalah'], ['proposal', 'ta', 'adalah'], ['proposal', 'tugas', 'akhir', 'itu', 'apa'], ['proposal', 'ta', 'itu', 'apa'], ['proposal', 'tugas', 'akhir', 'itu', 'untuk', 'apa'], ['proposal', 'ta', 'itu', 'untuk', 'apa'], ['proposal', 'tugas', 'akhir', 'apa', 'ya'], ['proposal', 'ta', 'apa', 'ya'], ['proposal', 'tugas', 'akhir', 'apa', 'ya'], ['proposal', 'ta', 'apa', 'ya'], ['apa', 'yang', 'maksud', 'dengan', 'proposal', 'tugas', 'akhir'], ['apa', 'yang', 'maksud', 'dengan', 'proposal', 'ta'], ['apakah', 'yang', 'maksud', 'dengan', 'proposal', 'tugas', 'akhir'], ['apakah', 'yang', 'maksud', 'dengan', 'proposal', 'ta'], ['apa', 'yang', 'maksud', 'proposal', 'tugas', 'akhir'], ['apa', 'yang', 'maksud', 'proposal', 'ta'], ['apakah', 'yang', 'maksud', 'proposal', 'tugas', 'akhir'], ['apakah', 'yang', 'maksud', 'proposal', 'ta'], ['proposal', 'ta', 'itu', 'apa', 'ya'], ['proposal', 'tugas', 'akhir', 'itu', 'apa', 'ya'], ['proposal', 'ta', 'itu', 'apa'], ['proposal', 'tugas', 'akhir', 'itu', 'apa'], ['proposal', 'ta', 'itu'], ['proposal', 'tugas', 'akhir', 'itu'], ['proposal', 'tugas', 'akhir', 'itu', 'gimana'], ['proposal', 'ta', 'itu', 'gimana'], ['proposal', 'ta', 'gimana', 'sih'], ['proposal', 'tugas', 'akhir', 'gimana', 'sih'], ['proposal', 'ta', 'tu', 'apa'], ['proposal', 'tugas', 'akhir', 'tu', 'apa'], ['proposal', 'tugas', 'akhir', 'apa', 'tuh'], ['proposal', 'ta', 'apa', 'tuh'], ['apa', 'itu', 'proposal', 'skripsi'], ['apa', 'proposal', 'skripsi'], ['proposal', 'skripsi', 'adalah'], ['apa', 'sih', 'proposal', 'skripsi'], ['proposal', 'skripsi', 'itu', 'apa'], ['proposal', 'skripsi', 'tu', 'apa'], ['yang', 'maksud', 'dengan', 'proposal', 'skripsi'], ['yang', 'maksud', 'proposal', 'skripsi'], ['apa', 'yang', 'maksud', 'dengan', 'proposal', 'skripsi'], ['apa', 'yang', 'maksud', 'dengan', 'proposal', 'skripsi'], ['apakah', 'yang', 'maksud', 'proposal', 'skripsi'], ['proposal', 'skripsi', 'itu'], ['proposal', 'skripsi'], ['berapa', 'bab', 'proposal', 'skripsi'], ['bab', 'untuk', 'proposal', 'skripsi'], ['total', 'bab', 'proposal', 'skripsi'], ['bab', 'proposal', 'skripsi'], ['bab', 'proposal', 'skripsi', 'ada', 'berapa'], ['untuk', 'proposal', 'skripsi', 'berapa', 'bab'], ['bab', 'dalam', 'proposal', 'skripsi'], ['apa', 'saja', 'bab', 'dalam', 'proposal', 'skripsi'], ['apa', 'aja', 'bab', 'untuk', 'proposal', 'skripsi'], ['jumlah', 'bab', 'untuk', 'proposal', 'skripsi'], ['jumlah', 'bab', 'dalam', 'proposal', 'skripsi'], ['bab', 'untuk', 'tulis', 'proposal', 'skripsi'], ['bab', 'dalam', 'tulis', 'proposal', 'skripsi'], ['berapa', 'bab', 'untuk', 'tulis', 'proposal', 'skripsi'], ['berapa', 'bab', 'dalam', 'tulis', 'proposal', 'skripsi'], ['bab', 'proposal', 'skripsi', 'apa', 'aja'], ['bab', 'proposal', 'skripsi', 'apa', 'saja'], ['bab', 'proposal', 'skripsi', 'itu', 'ada', 'berapa'], ['bab', 'untuk', 'proposal', 'skripsi', 'itu', 'ada', 'berapa'], ['bab', 'dalam', 'proposal', 'skripsi', 'itu', 'ada', 'berapa'], ['bab', '1', 'proposal', 'ta'], ['bab', '1', 'proposal', 'tugas', 'akhir'], ['bab', '1', 'proposal', 'skripsi'], ['bab', '2', 'proposal', 'ta'], ['bab', '2', 'proposal', 'tugas', 'akhir'], ['bab', '2', 'proposal', 'skripsi'], ['bab', '3', 'proposal', 'tugas', 'akhir'], ['bab', '3', 'proposal', 'ta'], ['bab', '3', 'proposal', 'skripsi'], ['isi', 'dari', 'bab', '1', 'proposal', 'ta'], ['isi', 'dari', 'bab', '1', 'proposal', 'tugas', 'akhir'], ['isi', 'dari', 'bab', '1', 'proposal', 'skripsi'], ['isi', 'dari', 'bab', '2', 'proposal', 'tugas', 'akhir'], ['isi', 'dari', 'bab', '2', 'proposal', 'ta'], ['isi', 'dari', 'bab', '2', 'proposal', 'skripsi'], ['isi', 'dari', 'bab', '3', 'proposal', 'ta'], ['isi', 'dari', 'bab', '3', 'proposal', 'tugas', 'akhir'], ['isi', 'dari', 'bab', '4', 'proposal', 'skripsi'], ['apa', 'itu', 'lapor', 'tugas', 'akhir'], ['lapor', 'tugas', 'akhir'], ['apa', 'itu', 'lapor', 'ta'], ['lapor', 'ta'], ['lapor', 'ta', 'itu', 'apa'], ['lapor', 'tugas', 'akhir', 'itu', 'apa'], ['lapor', 'ta', 'diri', 'dari', 'bab', 'apa', 'aja'], ['lapor', 'tugas', 'akhir', 'diri', 'dari', 'bab', 'apa', 'aja'], ['apa', 'aja', 'bab', 'dari', 'lapor', 'tugas', 'akhir'], ['apa', 'aja', 'bab', 'dari', 'lapor', 'ta'], ['bab', 'lapor', 'ta'], ['bab', 'lapor', 'tugas', 'akhir'], ['berapa', 'bab', 'untuk', 'lapor', 'tugas', 'akhir'], ['berapa', 'bab', 'untuk', 'lapor', 'ta'], ['bab', 'lapor', 'ta', 'berapa'], ['bab', 'lapor', 'tugas', 'akhir', 'berapa'], ['bab', 'lapor', 'ta', 'berapa'], ['bab', 'lapor', 'tugas', 'akhir', 'berapa'], ['apa', 'aja', 'bab', 'lapor', 'ta'], ['apa', 'aja', 'bab', 'lapor', 'tugas', 'akir'], ['berapa', 'bab', 'untuk', 'lapor', 'ta'], ['berapa', 'bab', 'untuk', 'lapor', 'tugas', 'akhir'], ['apa', 'itu', 'lapor', 'skripsi'], ['lapor', 'skripsi'], ['lapor', 'skripsi', 'adalah'], ['apa', 'yang', 'maksud', 'dengan', 'lapor', 'skripsi'], ['apakah', 'yang', 'maksud', 'dengan', 'lapor', 'skripsi'], ['lapor', 'skripsi', 'itu'], ['lapor', 'skripsi', 'itu', 'apa'], ['yang', 'maksud', 'dengan', 'lapor', 'skripsi'], ['bab', 'untuk', 'lapor', 'skripsi'], ['berapa', 'bab', 'untuk', 'tulis', 'lapor', 'skripsi'], ['lapor', 'skripsi', 'itu', 'apa', 'sih'], ['total', 'bab', 'lapor', 'skripsi'], ['total', 'bab', 'untuk', 'lapor', 'skripsi'], ['total', 'bab', 'dalam', 'lapor', 'skripsi'], ['total', 'bab', 'dalam', 'tulis', 'lapor', 'skripsi'], ['total', 'bab', 'untuk', 'tulis', 'lapor', 'skripsi'], ['jumlah', 'bab', 'untuk', 'lapor', 'skripsi'], ['jumlah', 'bab', 'dalam', 'lapor', 'skripsi'], ['jumlah', 'bab', 'untuk', 'tulis', 'lapor', 'skripsi'], ['jumlah', 'bab', 'dalam', 'tulis', 'lapor', 'skripsi'], ['lapor', 'skripsi', 'diri', 'bab', 'apa', 'aja'], ['lapor', 'skripsi', 'diri', 'dari', 'berapa', 'bab'], ['lapor', 'skripsi', 'itu', 'apa', 'ya'], ['kapan', 'lapor', 'tugas', 'akhir', 'tulis'], ['kapan', 'lapor', 'ta', 'tulis'], ['kapan', 'lapor', 'skripsi', 'tulis'], ['tulis', 'lapor', 'tugas', 'akhir'], ['tulis', 'lapor', 'ta'], ['tulis', 'lapor', 'skripsi'], ['lapor', 'ta', 'tu', 'apa'], ['lapor', 'tugas', 'akhir', 'tu', 'apa'], ['lapor', 'skripsi', 'tu', 'apa'], ['lapor', 'ta', 'apa', 'tuh'], ['lapor', 'tugas', 'akhir', 'apa', 'tuh'], ['lapor', 'skripsi', 'apa', 'tuh'], ['apa', 'aja', 'bab', 'lapor', 'skripsi'], ['apa', 'aja', 'bab', 'dalam', 'lapor', 'ta'], ['apa', 'aja', 'bab', 'dalam', 'lapor', 'tugas', 'akhir'], ['bab', '1', 'lapor', 'skripsi'], ['bab', '1', 'lapor', 'ta'], ['bab', '1', 'lapor', 'tugas', 'akhir'], ['bab', '2', 'lapor', 'ta'], ['bab', '2', 'lapor', 'skripsi'], ['bab', '2', 'lapor', 'tugas', 'akhir'], ['bab', '3', 'lapor', 'tugas', 'akhir'], ['bab', '3', 'lapor', 'ta'], ['bab', '3', 'lapor', 'skripsi'], ['bab', '4', 'lapor', 'tugas', 'akhir'], ['bab', '4', 'lapor', 'ta'], ['bab', '4', 'lapor', 'skripsi'], ['bab', '5', 'lapor', 'tugas', 'akhir'], ['bab', '5', 'lapor', 'ta'], ['bab', '5', 'lapor', 'skripsi'], ['isi', 'dari', 'bab', '1', 'lapor', 'ta'], ['isi', 'dari', 'bab', '1', 'lapor', 'tugas', 'akhir'], ['isi', 'dari', 'bab', '1', 'lapor', 'skripsi'], ['isi', 'dari', 'bab', '2', 'lapor', 'tugas', 'akhir'], ['isi', 'dari', 'bab', '2', 'lapor', 'ta'], ['isi', 'dari', 'bab', '2', 'lapor', 'skripsi'], ['isi', 'dari', 'bab', '3', 'lapor', 'tugas', 'akhir'], ['isi', 'dari', 'bab', '3', 'lapor', 'ta'], ['isi', 'dari', 'bab', '3', 'lapor', 'skripsi'], ['isi', 'dari', 'bab', '4', 'lapor', 'ta'], ['isi', 'dari', 'bab', '4', 'lapor', 'tugas', 'akhir'], ['isi', 'dari', 'bab', '4', 'lapor', 'skripsi'], ['isi', 'dari', 'bab', '5', 'lapor', 'tugas', 'akhir'], ['isi', 'dari', 'bab', '5', 'lapor', 'ta'], ['isi', 'dari', 'bab', '5', 'lapor', 'skripsi'], ['bab', 'untuk', 'lapor', 'ta', 'ada', 'berapa'], ['bab', 'untuk', 'lapor', 'tugas', 'akhir', 'ada', 'berapa'], ['bab', 'untuk', 'lapor', 'skripsi', 'ada', 'berapa'], ['bab', 'dalam', 'lapor', 'ta', 'ada', 'berapa'], ['bab', 'dalam', 'lapor', 'tugas', 'akhir', 'ada', 'berapa'], ['bab', 'dalam', 'lapor', 'skripsi', 'ada', 'berapa'], ['ada', 'berapa', 'bab', 'dalam', 'lapor', 'ta'], ['ada', 'berapa', 'bab', 'dalam', 'lapor', 'tugas', 'akhir'], ['ada', 'berapa', 'bab', 'dalam', 'lapor', 'skripsi'], ['ada', 'berapa', 'bab', 'untuk', 'lapor', 'ta'], ['ada', 'berapa', 'bab', 'untuk', 'lapor', 'tugas', 'akhir'], ['ada', 'berapa', 'ba', 'untuk', 'lapor', 'skripsi'], ['bagaimana', 'alur', 'kerja', 'tugas', 'akhir'], ['bagaimana', 'alur', 'kerja', 'ta'], ['alur', 'tugas', 'akhir'], ['alur', 'kerja', 'tugas', 'akhir'], ['alur', 'ta'], ['alur', 'kerja', 'ta'], ['urut', 'pengerjan', 'tugas', 'akhir'], ['urut', 'kerja', 'ta'], ['apakah', 'seminar', 'hasil', 'lebih', 'dulu', 'dari', 'pada', 'sidang'], ['antara', 'seminar', 'hasil', 'dan', 'sidang', 'mana', 'yang', 'lebih', 'dulu'], ['apa', 'kah', 'dapat', 'sidang', 'tugas', 'akhir'], ['apakah', 'dapat', 'seminar', 'hasil'], ['alur', 'dalam', 'kerja', 'tugas', 'akhir'], ['alur', 'dalam', 'mengerjaka', 'ta'], ['alur', 'kerja', 'ta', 'gimana'], ['alur', 'kerja', 'tugas', 'akhir', 'gimana'], ['alur', 'kerja', 'skripsi', 'gimana'], ['alur', 'ngerjain', 'skripsi', 'gimana'], ['alur', 'ngerjain', 'ta', 'gimana'], ['alur', 'ngerjain', 'tugas', 'akhir', 'gimana'], ['gimana', 'alur', 'kerja', 'tugas', 'akhir'], ['gimana', 'alur', 'kerja', 'skripsi'], ['gimana', 'alur', 'kerja', 'ta'], ['kerja', 'ta', 'dari', 'mana'], ['kerja', 'tugas', 'akhir', 'dari', 'mana'], ['kerja', 'skripsi', 'dari', 'mana'], ['gimana', 'sih', 'alur', 'ngerjain', 'tugas', 'akhir'], ['gimana', 'sih', 'alur', 'ngerjain', 'ta'], ['gimana', 'sih', 'alur', 'ngerjain', 'skripsi'], ['step', 'dalam', 'kerja', 'tugas', 'akhir'], ['step', 'dalam', 'kerja', 'ta'], ['step', 'dalam', 'kerja', 'skripsi'], ['step', 'kerja', 'tugas', 'akhir'], ['step', 'kerja', 'ta'], ['step', 'kerja', 'skripsi'], ['tahap', 'kerja', 'tugas', 'akhir'], ['tahap', 'kerja', 'ta'], ['tahap', 'kerja', 'skripsi'], ['bagaimana', 'tahap', 'dalam', 'kerja', 'skripsi'], ['bagaimana', 'tahap', 'dalam', 'kerja', 'tugas', 'akhir'], ['bagaimana', 'tahap', 'dalam', 'kerja', 'ta'], ['gimana', 'tahap', 'kerja', 'tugas', 'akhir'], ['gimana', 'tahap', 'kerja', 'ta'], ['gimana', 'tahap', 'kerja', 'skripsi'], ['bagaimana', 'step', 'dalam', 'kerja', 'tugas', 'akhir'], ['bagaimana', 'step', 'dalam', 'kerja', 'ta'], ['bagaimana', 'step', 'dalam', 'kerja', 'skripsi'], ['gimana', 'step', 'kerja', 'ta'], ['gimana', 'step', 'kerja', 'tugas', 'akhir'], ['gimana', 'step', 'kerja', 'skripsi'], ['gimana', 'step', 'dalam', 'kerja', 'ta'], ['gimana', 'step', 'dalam', 'kerja', 'tugas', 'akhir'], ['gimana', 'step', 'dalam', 'kerja', 'skripsi'], ['apa', 'itu', 'seminar', 'proposal'], ['apa', 'itu', 'sempro'], ['apa', 'yang', 'maksud', 'dengan', 'seminar', 'proposal'], ['apa', 'yang', 'maksud', 'dengan', 'sempro'], ['seminar', 'proposal', 'adalah'], ['sempro', 'adalah'], ['yang', 'maksud', 'dengan', 'seminar', 'proposal'], ['yang', 'maksud', 'dengan', 'sempro'], ['sempro', 'itu', 'apa'], ['seminar', 'proposal', 'itu', 'apa'], ['seminar', 'proposal'], ['sempro'], ['seminar', 'proposal', 'untuk', 'apa'], ['sempro', 'untuk', 'apa'], ['tuju', 'seminar', 'proposal'], ['tuju', 'sempro'], ['untuk', 'apa', 'seminar', 'proposal'], ['untuk', 'apa', 'sempro'], ['seminar', 'proposal', 'tuju', 'untuk'], ['sempro', 'tuju', 'untuk'], ['seminar', 'proposal', 'itu', 'apa', 'sih'], ['sempro', 'itu', 'apa', 'sih'], ['erti', 'sempro'], ['erti', 'seminar', 'proposal'], ['sempro', 'apa', 'ya'], ['seminar', 'proposal', 'apa', 'ya'], ['sempro', 'apa'], ['seminar', 'proposal', 'apa'], ['minta', 'tolong', 'jelasin', 'sempro', 'itu', 'apa'], ['jelas', 'sempro'], ['jelas', 'seminar', 'proposal'], ['langkah', 'lanjut', 'telah', 'proposal', 'selesai'], ['sempro', 'itu', 'gimana', 'sih'], ['seminar', 'proposal', 'itu', 'gimana', 'sih'], ['gimana', 'sih', 'sempro'], ['gimana', 'sih', 'seminar', 'proposal'], ['sempro', 'gimana'], ['seminar', 'proposal', 'gimana'], ['sempro', 'itu'], ['seminar', 'proposal', 'itu'], ['erti', 'sempro', 'adalah'], ['erti', 'seminar', 'proposal', 'adalah'], ['erti', 'sempro', 'itu', 'apa'], ['erti', 'seminar', 'proposal', 'itu', 'apa'], ['erti', 'sempro', 'apa'], ['erti', 'seminar', 'proposal', 'apa'], ['apa', 'erti', 'sempro'], ['apa', 'erti', 'seminar', 'proposal'], ['tuju', 'dari', 'seminar', 'proposal'], ['tuju', 'dari', 'sempro'], ['sempro', 'tuju', 'untuk', 'apa'], ['seminar', 'proposal', 'tuju', 'untuk', 'apa'], ['seminar', 'proposal', 'laku', 'untuk', 'apa'], ['sempro', 'laku', 'untuk', 'apa'], ['sempro', 'untuk', 'apa', 'sih'], ['untuk', 'apa', 'sih', 'sempro'], ['seminar', 'proposal', 'untuk', 'apa', 'sih'], ['untuk', 'apa', 'sih', 'seminar', 'proposal'], ['apa', 'itu', 'sidang', 'tugas', 'akhir'], ['apa', 'itu', 'sidang', 'ta'], ['apa', 'yang', 'maksud', 'dengan', 'sidang', 'tugas', 'akhir'], ['apa', 'yang', 'maksud', 'dengan', 'sidang', 'ta'], ['yang', 'maksud', 'dengan', 'sidang', 'tugas', 'akhir'], ['yang', 'maksud', 'dengan', 'sidang', 'ta'], ['sidang', 'tugas', 'akhir', 'adalah'], ['sidang', 'ta', 'adalah'], ['sidang', 'tugas', 'akhir', 'itu', 'apa'], ['sidang', 'ta', 'itu', 'apa'], ['sidang', 'tugas', 'akhir'], ['sidang', 'ta'], ['sidang', 'tugas', 'akhir', 'untuk', 'apa'], ['sidang', 'ta', 'untuk', 'apa'], ['tuju', 'sidang', 'tugas', 'akhir'], ['tuju', 'sidang', 'ta'], ['untuk', 'apa', 'sidang', 'ta'], ['untuk', 'apa', 'sidang', 'tugas', 'akhir'], ['sidang', 'tugas', 'akhir', 'tuju', 'untuk'], ['sidang', 'ta', 'tuju', 'untuk'], ['sidang', 'ta', 'apa'], ['sidang', 'tugas', 'akhir', 'apa'], ['sidang', 'skripsi', 'apa'], ['apa', 'sih', 'sidang', 'skripsi'], ['apa', 'sih', 'sidang', 'ta'], ['apa', 'sih', 'sidang', 'tugas', 'akhir'], ['sidang', 'itu', 'apa', 'sih'], ['sidang', 'ta', 'itu', 'apa', 'sih'], ['sidang', 'skripsi', 'itu', 'apa', 'sih'], ['sidang', 'tugas', 'akhir', 'itu', 'apa', 'sih'], ['erti', 'sidang'], ['erti', 'sidang', 'akhir'], ['erti', 'sidang', 'ta'], ['erti', 'sidang', 'tugas', 'akhir'], ['erti', 'sidang', 'skripsi'], ['apa', 'erti', 'sidang'], ['apa', 'erti', 'sidang', 'akhir'], ['apa', 'erti', 'sidang', 'tugas', 'akhir'], ['apa', 'erti', 'sidang', 'ta'], ['apa', 'erti', 'sidang', 'skripsi'], ['erti', 'dari', 'sidang'], ['erti', 'dari', 'sidang', 'ta'], ['erti', 'dari', 'sidang', 'tugas', 'akhir'], ['erti', 'dari', 'sidang', 'skripsi'], ['sidang', 'itu', 'gimana'], ['sidang', 'akhir', 'itu', 'gimana'], ['sidang', 'ta', 'itu', 'gimana'], ['sidang', 'tugas', 'akhir', 'itu', 'gimana'], ['sidang', 'skripsi', 'itu', 'gimana'], ['tuju', 'dari', 'sidang'], ['tuju', 'dari', 'sidang', 'akhir'], ['tuju', 'dari', 'sidang', 'ta'], ['tuju', 'dari', 'sidang', 'tugas', 'akhir'], ['tuju', 'dari', 'sidang', 'skripsi'], ['apa', 'itu', 'seminar', 'hasil'], ['apa', 'itu', 'semhas'], ['apa', 'yang', 'maksud', 'dengan', 'seminar', 'hasil'], ['apa', 'yang', 'maksud', 'dengan', 'semhas'], ['seminar', 'hasil', 'adalah'], ['semhas', 'adalah'], ['mah', 'hasil', 'itu', 'apa'], ['semhas', 'itu', 'apa'], ['seminar', 'hasil', 'itu', 'apa', 'ya'], ['semhas', 'itu', 'apa', 'ya'], ['seminar', 'hasil'], ['semhas'], ['seminar', 'hasil', 'tuju', 'untuk'], ['semhas', 'tuju', 'untuk'], ['seminar', 'hasil', 'untuk', 'apa'], ['semhas', 'untuk', 'apa'], ['tuju', 'seminar', 'hasil'], ['tuju', 'semhas'], ['untuk', 'apa', 'seminar', 'hasil'], ['untuk', 'apa', 'semhas'], ['yang', 'maksud', 'dengan', 'seminar', 'hasil'], ['yang', 'maksud', 'dengan', 'semhas'], ['semhas', 'apa'], ['seminar', 'hasil', 'apa'], ['semhas', 'apa', 'ya'], ['seminar', 'hasil', 'apa', 'ya'], ['apa', 'sih', 'semhas'], ['apa', 'sih', 'seminar', 'hasil'], ['apa', 'sih', 'semhas', 'itu'], ['apa', 'sih', 'seminar', 'hasil', 'itu'], ['semhas', 'apa', 'sih'], ['seminar', 'hasil', 'apa', 'sih'], ['erti', 'semhas'], ['erti', 'seminar', 'hasil'], ['jelas', 'tentang', 'semhas'], ['jelas', 'tentnag', 'seminar', 'hasil'], ['jelas', 'semhas'], ['jelas', 'seminar', 'hasil'], ['semhas', 'bagaimana'], ['semhas', 'gimana'], ['seminar', 'hasil', 'bagaimana'], ['seminar', 'hasil', 'gimana'], ['gimana', 'sih', 'semhas'], ['gimana', 'sih', 'seminar', 'hasil'], ['semhas', 'itu'], ['seminar', 'hasil', 'itu'], ['erti', 'seminar', 'hasil', 'adalah'], ['erti', 'semhas', 'adalah'], ['erti', 'semhas', 'itu', 'apa'], ['erti', 'seminar', 'hasil', 'itu', 'apa'], ['semhas', 'itu', 'gimana'], ['seminar', 'has', 'itu', 'gimana'], ['apa', 'itu', 'yudisium'], ['apa', 'yang', 'maksud', 'dengan', 'yudisium'], ['yang', 'maksud', 'dengan', 'yudisium'], ['yudisium', 'adalah'], ['yudisium', 'itu', 'apa'], ['yudisium', 'itu', 'apa', 'ya'], ['yudisium'], ['apakah', 'itu', 'yudisium'], ['apakah', 'yang', 'maksud', 'dengan', 'yudisium'], ['kelulus', 'mahasiswa'], ['apa', 'sih', 'yudisium'], ['yudisium', 'itu', 'apa', 'sih'], ['kapan', 'laksana', 'yudisium'], ['laksana', 'yudisium', 'kapan'], ['laksana', 'yudisium'], ['yudisium', 'untuk', 'apa'], ['tuju', 'yudisium'], ['tuju', 'yudisium', 'adalah'], ['gimana', 'sih', 'yudisium'], ['apa', 'yang', 'laku', 'saat', 'yudisium'], ['yudisium', 'itu', 'gimana'], ['bagaimana', 'sih', 'yudisium'], ['yudisium', 'itu', 'bagaimana'], ['yudisium', 'apa'], ['apa', 'yudisium'], ['apa', 'tu', 'yudisium'], ['yudisium', 'tu', 'apa'], ['yudisium', 'tu', 'apa', 'sih'], ['bagaimana', 'laksa', 'yudisium'], ['gimana', 'laksana', 'yudisium'], ['yudisium', 'bagaimana', 'sih'], ['yudisium', 'gimana', 'sih'], ['erti', 'yudisium'], ['apa', 'erti', 'yudisium'], ['erti', 'yudisium', 'apa'], ['erti', 'yudisium', 'apa', 'sih'], ['erti', 'yudisium', 'tu', 'apa'], ['erti', 'yudisium', 'itu', 'apa'], ['jelas', 'tentang', 'yudisium'], ['jelasin', 'tentang', 'yudisium', 'dong'], ['jelas', 'yudisium', 'dong'], ['jelas', 'tentang', 'yudisium', 'dong'], ['jelasin', 'dong', 'tentang', 'yudisium'], ['jelasin', 'erti', 'yudisium'], ['jelasin', 'erti', 'yudisium', 'dong'], ['erti', 'yudisium', 'dong'], ['erti', 'dari', 'yudisium'], ['jelas', 'dari', 'yudisium'], ['yudisium', 'itu', 'apa', 'erti'], ['yudisium', 'itu', 'apa', 'jelas'], ['jelas', 'yudisium'], ['apa', 'itu', 'wisuda'], ['apa', 'yang', 'maksud', 'dengan', 'wisuda'], ['wisuda', 'itu', 'apa'], ['wisuda', 'itu', 'apa', 'ya'], ['wisuda'], ['wisuda', 'adalah'], ['proses', 'akhir', 'dari', 'kuliah'], ['apa', 'proposal', 'paling', 'akhir', 'dari', 'kuliah'], ['proses', 'akhir', 'dari', 'kuliah'], ['proses', 'akhir', 'kuliah'], ['apakah', 'yang', 'maksud', 'dengan', 'wisuda'], ['apa', 'sih', 'wisuda'], ['yang', 'maksud', 'dengan', 'wisuda'], ['yang', 'maksud', 'wisuda'], ['wisuda', 'maksud'], ['wisuda', 'itu', 'apa', 'sih'], ['kapan', 'laksana', 'wisuda'], ['laksana', 'wisuda', 'kapan'], ['laksana', 'wisuda'], ['wisuda', 'untuk', 'apa'], ['tuju', 'wisuda'], ['tuju', 'wisuda', 'adalah'], ['gimana', 'sih', 'wisuda'], ['apa', 'yang', 'laku', 'saat', 'wisuda'], ['wisuda', 'itu', 'gimana'], ['bagaimana', 'sih', 'wisuda'], ['wisuda', 'itu', 'bagaimana'], ['wisuda', 'apa'], ['apa', 'wisuda'], ['apa', 'tu', 'wisuda'], ['wisuda', 'tu', 'apa'], ['wisuda', 'tu', 'apa', 'sih'], ['bagaimana', 'laksana', 'wisuda'], ['gimana', 'laksana', 'wisuda'], ['wisuda', 'bagaimana', 'sih'], ['wisuda', 'gimana', 'sih'], ['erti', 'wisuda'], ['apa', 'erti', 'wisuda'], ['erti', 'wisuda', 'apa'], ['erti', 'wisuda', 'apa', 'sih'], ['erti', 'wisuda', 'tu', 'apa'], ['erti', 'wisuda', 'itu', 'apa'], ['jelas', 'tentang', 'wisuda'], ['jelasin', 'tentang', 'wisuda', 'dong'], ['jelas', 'wisuda', 'dong'], ['jelas', 'tentang', 'wisuda', 'dong'], ['jelasin', 'dong', 'tentang', 'wisuda'], ['jelasin', 'keri', 'wisuda'], ['jelasin', 'keri', 'wisuda', 'dong'], ['erti', 'wisuda', 'dong'], ['keri', 'dari', 'wisuda'], ['jelas', 'dari', 'wisuda'], ['wisuda', 'itu', 'apa', 'erti'], ['wisuda', 'itu', 'apa', 'jelas'], ['jelas', 'wisuda'], ['apa', 'saja', 'syarat', 'untuk', 'seminar', 'proposal'], ['apa', 'saja', 'syarat', 'untuk', 'sempro'], ['syarat', 'seminar', 'proposal'], ['syarat', 'sempro'], ['apa', 'aja', 'syarat', 'seminar', 'proposal'], ['apa', 'aja', 'syarat', 'sempro'], ['syarat', 'untuk', 'seminar', 'proposal'], ['syarat', 'untuk', 'sempro'], ['yang', 'butuh', 'untuk', 'seminar', 'proposal'], ['yang', 'butuh', 'untuk', 'sempro'], ['apa', 'aja', 'yang', 'butuh', 'untuk', 'seminar', 'proposal'], ['apa', 'aja', 'yang', 'butuh', 'untuk', 'sempro'], ['syarat', 'untuk', 'daftar', 'sempro'], ['syarat', 'untuk', 'daftar', 'seminar', 'proposal'], ['dokumen', 'untuk', 'daftar', 'seminar', 'proposal'], ['dokumen', 'untuk', 'daftar', 'sempro'], ['apakah', 'form', 'rekomendasi', 'judul', 'ta', 'oleh', 'dosen', 'bimbing', 'harus', 'ditandatangani', 'oleh', 'dua', 'dosen', 'bimbing'], ['apakah', 'boleh', 'form', 'rekomendasi', 'judul', 'ta', 'oleh', 'dosen', 'bimbing', 'hanya', 'ditandatangani', 'oleh', 'salah', 'satu', 'dari', 'dosen', 'bimbing'], ['apakah', 'boleh', 'form', 'rekomendasi', 'judul', 'ta', 'oleh', 'dosen', 'bimbing', 'ditandatangan', 'oleh', 'bimbing', '1', 'saja'], ['berapa', 'jumlah', 'judul', 'dari', 'tugas', 'akhir', 'semhas', 'yang', 'harus', 'penuh'], ['berapa', 'jumlah', 'judul', 'dari', 'tugas', 'akhir', 'seminar', 'yang', 'harus', 'penuh'], ['jumlah', 'judul', 'tugas', 'akhir', 'seminar', 'hasil'], ['jumlah', 'judul', 'tugas', 'akhir', 'semhas'], ['apakah', 'lembar', 'kendali', 'hadir', 'semhas', 'harus', 'ditangangi', 'oleh', 'ketua', 'tugas', 'akhir'], ['siapa', 'yang', 'harus', 'menandatangai', 'lembar', 'kendali', 'hadir', 'semhas'], ['berapa', 'kali', 'harus', 'hadir', 'seminar', 'hasil'], ['berapa', 'kali', 'harus', 'hadir', 'semhas'], ['jumlah', 'minimal', 'kadir', 'semhas'], ['jumlah', 'minimal', 'hadir', 'seminar', 'hasil'], ['hadir', 'semhas', 'berapa', 'kali'], ['hadir', 'seminar', 'hasil', 'berapa', 'kali'], ['apa', 'saja', 'syarat', 'untuk', 'daftar', 'seminar', 'proposal'], ['apa', 'saja', 'syarat', 'untuk', 'daftar', 'sempro'], ['syarat', 'daftar', 'sempro'], ['syarat', 'daftar', 'seminar', 'proposal'], ['bagaimana', 'syarat', 'untuk', 'sempro'], ['bagaimana', 'syarat', 'untuk', 'seminar', 'proposal'], ['gimana', 'syarat', 'untuk', 'sempro'], ['gimana', 'syarat', 'untuk', 'seminar', 'proposal'], ['bagaimana', 'syarat', 'daftar', 'sempro'], ['bagaimana', 'syarat', 'daftar', 'seminar', 'proposal'], ['gimana', 'syarat', 'daftar', 'sempro'], ['gimana', 'syarat', 'daftar', 'seminar', 'proposal'], ['syarat', 'sempro', 'gimana'], ['syarat', 'seminar', 'proposal', 'gimana'], ['syarat', 'sempro', 'bagaimana'], ['syarat', 'seminar', 'proposal', 'bagaimana'], ['syarat', 'daftar', 'sempro'], ['syarat', 'daftar', 'seminar', 'proposal'], ['syarat', 'untuk', 'daftar', 'sempro', 'gimana'], ['syarat', 'untuk', 'daftar', 'seminar', 'proposal', 'gimana'], ['syarat', 'untuk', 'daftar', 'sempro', 'gimana'], ['syarat', 'untuk', 'daftar', 'seminar', 'proposal', 'gimana'], ['syarat', 'untuk', 'daftar', 'sempro', 'bagaimana'], ['syarat', 'untuk', 'daftar', 'seminar', 'proposal', 'bagaimana'], ['syarat', 'sempro', 'apa', 'aja', 'ya'], ['syarat', 'seminar', 'proposal', 'apa', 'aja', 'ya'], ['syarat', 'buat', 'daftar', 'sempro', 'apa', 'ya'], ['syarat', 'buat', 'daftar', 'seminar', 'proposal', 'apa', 'ya'], ['syarat', 'buat', 'daftar', 'sempro', 'apa', 'aja', 'ya'], ['syarat', 'buat', 'daftar', 'seminar', 'proposal', 'apa', 'aja', 'ya'], ['syarat', 'buat', 'daftar', 'sempro'], ['syarat', 'buat', 'daftar', 'seminar', 'proposal'], ['untuk', 'daftar', 'sempro', 'apa', 'aja', 'syarat'], ['untuk', 'daftar', 'seminar', 'proposal', 'apa', 'aja', 'syarat'], ['untuk', 'daftar', 'sempro', 'gimana', 'syarat'], ['untuk', 'daftar', 'seminar', 'proposal', 'gimana', 'syarat'], ['apakah', 'ada', 'syarat', 'untuk', 'daftar', 'sempro'], ['apakah', 'ada', 'syarat', 'untuk', 'daftar', 'seminar', 'proposal'], ['apa', 'aja', 'sih', 'syarat', 'buat', 'sempro'], ['apa', 'aja', 'sih', 'syarat', 'buat', 'seminar', 'proposal'], ['apa', 'saja', 'syarat', 'untuk', 'sidang', 'tugas', 'akhir'], ['apa', 'saja', 'syarat', 'untuk', 'sidang'], ['apa', 'saja', 'syarat', 'untuk', 'sidang', 'ta'], ['syarat', 'sidang', 'tugas', 'akhir'], ['syarat', 'sidang', 'ta'], ['syarat', 'sidang'], ['dokumen', 'untuk', 'daftar', 'sidang', 'ta'], ['dokumen', 'untuk', 'daftar', 'tugas', 'akhir'], ['dokumen', 'apa', 'aja', 'yang', 'butuh', 'untuk', 'daftar', 'sidang', 'tugas', 'akhir'], ['dokumen', 'apa', 'aja', 'yang', 'butuh', 'untuk', 'daftar', 'sidang', 'ta'], ['dokumen', 'yang', 'butuh', 'untuk', 'daftar', 'sidang', 'ta'], ['dokumen', 'yang', 'butuh', 'untuk', 'daftar', 'sidang', 'tugas', 'akhir'], ['apakah', 'lapor', 'tugas', 'akhir', 'kumpul', 'cara', 'pisah', 'tiap', 'bab'], ['apakah', 'cek', 'plagiarisme', 'butuh', 'untuk', 'daftar', 'sidang', 'tugas', 'akhir'], ['apakah', 'cek', 'plagiarisme', 'butuh', 'untuk', 'daftar', 'sidang', 'ta'], ['apakah', 'form', 'cek', 'plagiarisme', 'butuh', 'tandatangan', 'dari', 'dosen', 'bimbing'], ['apakah', 'tandatangan', 'dosen', 'bimbing', 'butuh', 'untuk', 'form', 'cek', 'plagiarisme'], ['format', 'kumpul', 'lapor', 'ta'], ['format', 'kumpul', 'lapor', 'tugas', 'akhir'], ['lapor', 'tugas', 'akhir', 'kumpul', 'dalam', 'format', 'apa'], ['lapor', 'ta', 'kumpul', 'dalam', 'format', 'apa'], ['apa', 'saja', 'syarat', 'untuk', 'daftar', 'sidang', 'tugas', 'akhir'], ['apa', 'saja', 'syarat', 'untuk', 'daftar', 'sidang', 'ta'], ['syarat', 'daftar', 'sidang', 'tugas', 'akhir'], ['syarat', 'daftar', 'sidang', 'ta'], ['syarat', 'daftar', 'sidang', 'tugas', 'akhir'], ['syarat', 'daftar', 'sidang', 'ta'], ['dokumen', 'untuk', 'sidang', 'ta'], ['dokumen', 'untuk', 'sidang', 'tugas', 'akhir'], ['dokumen', 'untuk', 'daftar', 'sidang', 'tugas', 'akhir'], ['dokumen', 'untuk', 'daftar', 'sidang', 'ta'], ['apa', 'saja', 'syarat', 'buat', 'daftar', 'sidang', 'ta'], ['apa', 'saja', 'syarat', 'buat', 'daftar', 'sidang', 'tugas', 'akhir'], ['apa', 'saja', 'syarat', 'buat', 'daftar', 'sidang', 'skripsi'], ['apa', 'saja', 'syarat', 'buat', 'daftar', 'sidang', 'akhir'], ['syarat', 'daftar', 'sidang'], ['syarat', 'daftar', 'sidang', 'ta'], ['syarat', 'daftar', 'sidang', 'tugas', 'akhir'], ['syarat', 'daftar', 'sidang', 'akhir'], ['syarat', 'daftar', 'sidang', 'skripsi'], ['bagaimana', 'syarat', 'untuk', 'sidang'], ['bagaimana', 'syarat', 'untuk', 'sidang', 'ta'], ['bagaimana', 'syarat', 'untuk', 'sidang', 'tugas', 'akhir'], ['bagaimana', 'syarat', 'untuk', 'sidang', 'akhir'], ['bagaimana', 'syarat', 'untuk', 'sidang', 'skripsi'], ['gimana', 'syarat', 'untuk', 'sidang', 'akhir'], ['gimana', 'syarat', 'untuk', 'sidang', 'ta'], ['gimana', 'syarat', 'untuk', 'sidang', 'tugas', 'akhir'], ['gimana', 'syarat', 'untuk', 'sidang', 'skripsi'], ['syarat', 'buat', 'daftar', 'sidang'], ['syarat', 'buat', 'daftar', 'sidang', 'skripsi'], ['syarat', 'buat', 'daftar', 'sidang', 'tugas', 'akhir'], ['syarat', 'buat', 'daftar', 'sidang', 'akhir'], ['apa', 'aja', 'sih', 'syarat', 'sidang'], ['apa', 'aja', 'sih', 'syarat', 'daftar', 'sidang'], ['apa', 'aja', 'sih', 'syarat', 'buat', 'sidang', 'ta'], ['apa', 'aja', 'sih', 'syarat', 'buat', 'sidang', 'akhir'], ['apa', 'aja', 'sih', 'syarat', 'buat', 'sidang', 'skripsi'], ['syarat', 'sidang', 'apa', 'aja', 'ya'], ['syarat', 'sidang', 'skripsi', 'apa', 'aja', 'ya'], ['syarat', 'sidang', 'akhir', 'apa', 'sih'], ['syarat', 'sidang', 'tugas', 'akhir', 'apa', 'sih'], ['apa', 'aja', 'sih', 'syarat', 'sidang', 'tugas', 'akhir'], ['apa', 'aja', 'sih', 'syarat', 'daftar', 'sidang', 'tugas', 'akhir'], ['sidang', 'akhir', 'apa', 'aja', 'syarat'], ['sidang', 'ta', 'apa', 'aja', 'syarat'], ['sidang', 'skripsi', 'apa', 'aja', 'syarat'], ['gimana', 'syarat', 'sidang', 'tugas', 'akhir'], ['gimana', 'ya', 'syarat', 'daftar', 'sidang', 'ta'], ['gimana', 'ya', 'syarat', 'untuk', 'daftar', 'sidang'], ['dokumen', 'buat', 'daftar', 'sidang'], ['dokumen', 'buat', 'daftar', 'sidang', 'akhir'], ['dokumen', 'buat', 'daftar', 'sidang', 'skripsi'], ['berkas', 'untuk', 'daftar', 'sidang'], ['berkas', 'untuk', 'daftar', 'sidang', 'skripsi'], ['berkas', 'buat', 'daftar', 'sidang'], ['berkas', 'buat', 'daftar', 'sidang', 'akhir'], ['berkas', 'buat', 'daftar', 'sidang', 'tugas', 'akhir'], ['syarat', 'daftar', 'buat', 'sidang'], ['syarat', 'daftar', 'buat', 'sidang', 'akhir'], ['syarat', 'daftar', 'buat', 'sidang', 'ta'], ['syarat', 'daftar', 'buat', 'sidang', 'tugas', 'akhir'], ['syarat', 'daftar', 'buat', 'sidang', 'skripsi'], ['syarat', 'buat', 'daftar', 'sidang'], ['syarat', 'buat', 'daftar', 'sidang', 'akhir'], ['syarat', 'buat', 'daftar', 'sidang', 'ta'], ['syarat', 'buat', 'daftar', 'sidang', 'tugas', 'akhir'], ['syarat', 'buat', 'daftar', 'sidang', 'skripsi'], ['apakah', 'ada', 'syarat', 'untuk', 'sidang'], ['apakah', 'ada', 'syarat', 'untuk', 'sidang', 'akhir'], ['apakah', 'ada', 'syarat', 'untuk', 'sidang', 'ta'], ['apakah', 'ada', 'syarat', 'untuk', 'sidang', 'tugas', 'akhir'], ['apakah', 'ada', 'syarat', 'untuk', 'sidang', 'skripsi'], ['apakah', 'ada', 'syarat', 'buat', 'sidang'], ['apakah', 'ada', 'syarat', 'buat', 'sidang', 'skripsi'], ['apakah', 'ada', 'syarat', 'buat', 'sidang', 'ta'], ['apakah', 'ada', 'syarat', 'buat', 'sidang', 'akhir'], ['apakah', 'ada', 'syarat', 'buat', 'sidang', 'tugas', 'akhir'], ['apakah', 'ada', 'syarat', 'untuk', 'daftar', 'sidang'], ['apakah', 'ada', 'syarat', 'untuk', 'daftar', 'sidang', 'akhir'], ['apakah', 'ada', 'syarat', 'untuk', 'daftar', 'sidang', 'ta'], ['apakah', 'ada', 'syarat', 'untuk', 'daftar', 'sidang', 'tugas', 'akhir'], ['apakah', 'ada', 'syarat', 'untuk', 'daftar', 'sidang', 'skripsi'], ['apakah', 'ada', 'syarat', 'buat', 'daftar', 'sidang'], ['apakah', 'ada', 'syarat', 'buat', 'daftar', 'sidang', 'skripsi'], ['apakah', 'ada', 'syarat', 'buat', 'daftar', 'sidang', 'ta'], ['apakah', 'ada', 'syarat', 'buat', 'daftar', 'sidang', 'tugas', 'akhir'], ['apa', 'saja', 'syarat', 'untuk', 'seminar', 'hasil'], ['apa', 'saja', 'syarat', 'untuk', 'semhas'], ['syarat', 'seminar', 'hasil'], ['syarat', 'semhas'], ['syarat', 'untuk', 'seminar', 'hasil'], ['syarat', 'untuk', 'semhas'], ['apa', 'saja', 'syarat', 'untuk', 'daftar', 'seminar', 'hasil'], ['apa', 'saja', 'syarat', 'untuk', 'daftar', 'semhas'], ['syarat', 'untuk', 'daftar', 'seminar', 'hasil'], ['seminar', 'untuk', 'daftar', 'semhas'], ['apa', 'syarat', 'untuk', 'seminar', 'hasil'], ['apa', 'syarat', 'untuk', 'semhas'], ['apa', 'syarat', 'seminar', 'hasil'], ['apa', 'syarat', 'semhas'], ['apa', 'syarat', 'untuk', 'daftar', 'seminar', 'hasil'], ['apa', 'syarat', 'untuk', 'daftar', 'semhas'], ['syarat', 'untuk', 'daftar', 'seminar', 'hasil'], ['syarat', 'untuk', 'daftar', 'semhas'], ['syarat', 'daftar', 'seminar', 'hasil'], ['syarat', 'daftar', 'semhas'], ['syarat', 'daftar', 'seminar', 'hasil'], ['syarat', 'daftar', 'semhas'], ['apakah', 'ada', 'syarat', 'untuk', 'daftar', 'seminar', 'hasil'], ['apakah', 'ada', 'syarat', 'untuk', 'daftar', 'semhas'], ['apakah', 'ada', 'syarat', 'buat', 'daftar', 'semhas'], ['apakah', 'ada', 'syarat', 'buat', 'daftar', 'seminar', 'hasil'], ['syarat', 'buat', 'semhas'], ['syarat', 'buat', 'seminar', 'hasil'], ['apa', 'saja', 'syarat', 'buat', 'daftar', 'semhas'], ['apa', 'saja', 'syarat', 'buat', 'daftar', 'seminar', 'hasil'], ['apa', 'syarat', 'buat', 'semhas'], ['apa', 'syarat', 'buat', 'seminar', 'hasil'], ['syarat', 'daftar', 'semhas'], ['syarat', 'daftar', 'seminar', 'hasil'], ['syarat', 'untuk', 'daftar', 'semhas'], ['syarat', 'untuk', 'daftar', 'seminar', 'hasil'], ['syarat', 'buat', 'daftar', 'semhas'], ['syarat', 'buat', 'daftar', 'seminar', 'hasil'], ['dokumen', 'untuk', 'semhas'], ['dokumen', 'untuk', 'seminar', 'hasil'], ['dokumen', 'buat', 'semhas'], ['dokumen', 'buat', 'seminar', 'has'], ['syarat', 'semhas'], ['syarat', 'seminar', 'hasil'], ['syarat', 'daftar', 'semhas'], ['syarat', 'daftar', 'seminar', 'hasil'], ['gimana', 'syarat', 'semhas'], ['gimana', 'syarat', 'seminar', 'hasil'], ['bagaimana', 'syarat', 'semhas'], ['bagaimana', 'syarat', 'seminar', 'hasil'], ['syarat', 'semhas', 'apa', 'aja', 'sih'], ['syarat', 'seminar', 'hasil', 'apa', 'aja', 'sih'], ['syarat', 'daftar', 'semhas', 'apa', 'aja'], ['syarat', 'daftar', 'seminar', 'hasil', 'apa', 'aja'], ['apa', 'aja', 'sih', 'syarat', 'semhas'], ['apa', 'aja', 'sih', 'syarat', 'seminar', 'hasil'], ['apa', 'aja', 'sih', 'syarat', 'daftar', 'semhas'], ['apa', 'aja', 'sih', 'syarat', 'daftar', 'seminar', 'hasil'], ['gimana', 'sih', 'syarat', 'daftar', 'semhas'], ['gimana', 'sih', 'syarat', 'daftar', 'seminar', 'hasil'], ['apa', 'saja', 'syarat', 'untuk', 'yudisium'], ['syarat', 'yudisium'], ['syarat', 'untuk', 'yudisium'], ['apa', 'saja', 'syarat', 'untuk', 'yudisium'], ['apa', 'saja', 'syarat', 'untuk', 'daftar', 'yudisium'], ['apa', 'saja', 'syarat', 'untuk', 'daftar', 'yudisium'], ['syarat', 'daftar', 'yudisium'], ['syarat', 'daftar', 'yudisium'], ['syarat', 'untuk', 'daftar', 'yudisium'], ['syarat', 'untuk', 'daftar', 'yudisium'], ['apa', 'saja', 'syarat', 'untuk', 'daftar', 'yudisium'], ['apa', 'saja', 'syarat', 'untuk', 'daftar', 'yudisium'], ['apa', 'syarat', 'yudisium'], ['apa', 'syarat', 'daftar', 'yudisium'], ['apa', 'syarat', 'buat', 'daftar', 'yudisium'], ['apa', 'syarat', 'untuk', 'daftar', 'yudisisum'], ['apa', 'syarat', 'untuk', 'daftar', 'yudisium'], ['apa', 'syarat', 'buat', 'daftar', 'yudisium'], ['syarat', 'untuk', 'yudisium'], ['syarat', 'untuk', 'daftar', 'yudisium'], ['syarat', 'untuk', 'daftar', 'yudisium'], ['syarat', 'untuk', 'daftar', 'yudisium'], ['syarat', 'buat', 'yudisium'], ['syarat', 'buat', 'daftar', 'yudisium'], ['syarat', 'buat', 'daftar', 'yudisium'], ['syarat', 'buat', 'daftar', 'yudisium'], ['apakah', 'ada', 'syarat', 'untuk', 'yudisium'], ['apakah', 'ada', 'syarat', 'buat', 'yudisium'], ['apakah', 'ada', 'syarat', 'daftar', 'yudisium'], ['apakah', 'ada', 'syarat', 'daftar', 'yudisium'], ['apakah', 'ada', 'syarat', 'daftar', 'yudisium'], ['apakah', 'ada', 'syarat', 'untuk', 'daftar', 'yudisium'], ['apakah', 'ada', 'syarat', 'untuk', 'daftar', 'yudisium'], ['apakah', 'ada', 'syarat', 'untuk', 'daftar', 'yudisium'], ['apakah', 'ada', 'syarat', 'buat', 'daftar', 'yudisium'], ['apakah', 'ada', 'syarat', 'buat', 'daftar', 'yudisium'], ['apakah', 'ada', 'syarat', 'buat', 'daftar', 'yudisium'], ['dokumen', 'untuk', 'yudisium'], ['dokumen', 'untuk', 'daftar', 'yudisium'], ['dokumen', 'untuk', 'daftar', 'yudisium'], ['dokumen', 'untuk', 'daftar', 'yudisium'], ['dokumen', 'buat', 'yudisium'], ['dokumen', 'buat', 'daftar', 'yudisium'], ['dokumen', 'buat', 'daftar', 'yudisium'], ['dokumen', 'buat', 'daftar', 'yudisium'], ['dokumen', 'yudisium'], ['dokumen', 'daftar', 'yudisium'], ['berkas', 'yudisium'], ['berkas', 'daftar', 'yudisium'], ['berkas', 'untuk', 'yudisium'], ['berkas', 'untuk', 'daftar', 'yudisium'], ['berkas', 'untuk', 'daftar', 'yudisium'], ['berkas', 'untuk', 'daftar', 'yudisium'], ['berkas', 'buat', 'yudisium'], ['berkas', 'buat', 'daftar', 'yudisium'], ['berkas', 'buat', 'daftar', 'yudisium'], ['berkas', 'buat', 'daftar', 'yudisium'], ['gimana', 'sih', 'syarat', 'daftar', 'yudisium'], ['gimana', 'sih', 'syarat', 'daftar', 'yudisium'], ['gimana', 'sih', 'syarat', 'daftar', 'yudisium'], ['bagaimana', 'syarat', 'daftar', 'yudisium'], ['gimana', 'syarat', 'untuk', 'daftar', 'yudisium'], ['gimana', 'syarat', 'untuk', 'daftar', 'yudisium'], ['gimana', 'syarat', 'untuk', 'daftar', 'yudisium'], ['gimana', 'syarat', 'buat', 'daftar', 'yudisium'], ['gimana', 'syarat', 'buat', 'daftar', 'yudisium'], ['gimana', 'syarat', 'buat', 'daftar', 'yudisium'], ['apa', 'saja', 'syarat', 'untuk', 'wisuda'], ['syarat', 'wisuda'], ['syarat', 'untuk', 'wisuda'], ['apa', 'saja', 'syarat', 'untuk', 'wisuda'], ['apa', 'saja', 'syarat', 'untuk', 'daftar', 'wisuda'], ['apa', 'saja', 'syarat', 'untuk', 'daftar', 'wisuda'], ['syarat', 'daftar', 'wisuda'], ['syarat', 'daftar', 'wisuda'], ['syarat', 'untuk', 'daftar', 'wisuda'], ['syarat', 'untuk', 'daftar', 'wisuda'], ['apa', 'saja', 'syarat', 'untuk', 'daftar', 'wisuda'], ['apa', 'saja', 'syarat', 'untuk', 'daftar', 'wisuda'], ['telah', 'lengkap', 'syarat', 'apakah', 'perlu', 'laku', 'konfirmasi'], ['konfirmasi', 'telah', 'lengkap', 'syarat', 'wisuda', 'mana'], ['apa', 'syarat', 'wisuda'], ['apa', 'syarat', 'daftar', 'wisuda'], ['apa', 'syarat', 'buat', 'daftar', 'wisuda'], ['apa', 'syarat', 'untuk', 'daftat', 'wisuda'], ['apa', 'syarat', 'untuk', 'daftar', 'wisuda'], ['apa', 'syarat', 'untuk', 'daftar', 'wisuda'], ['apa', 'syarat', 'buat', 'daftar', 'wisuda'], ['apa', 'syarat', 'buat', 'daftar', 'wisuda'], ['syarat', 'untuk', 'wisuda'], ['syarat', 'untuk', 'daftar', 'wisuda'], ['syarat', 'untuk', 'daftar', 'wisuda'], ['syarat', 'untuk', 'daftar', 'wisuda'], ['syarat', 'buat', 'wisuda'], ['syarat', 'buat', 'daftar', 'wisuda'], ['syarat', 'buat', 'daftar', 'wisuda'], ['syarat', 'buat', 'daftar', 'wisuda'], ['apakah', 'ada', 'syarat', 'untuk', 'daftar', 'wisuda'], ['apakah', 'ada', 'syarat', 'untuk', 'daftar', 'wisuda'], ['apakah', 'ada', 'syarat', 'untuk', 'daftar', 'wisuda'], ['apakah', 'ada', 'syarat', 'buat', 'daftar', 'wisuda'], ['apakah', 'ada', 'syarat', 'buat', 'daftar', 'wisuda'], ['apakah', 'ada', 'syarat', 'buat', 'daftar', 'wisuda'], ['dokumen', 'untuk', 'wisuda'], ['dokumen', 'wisuda'], ['dokumen', 'untuk', 'daftar', 'wisuda'], ['dokumen', 'untuk', 'daftar', 'wisuda'], ['dokumen', 'untuk', 'daftar', 'wisuda'], ['dokumen', 'buat', 'wisuda'], ['dokumen', 'buat', 'daftar', 'wisuda'], ['dokumen', 'buat', 'daftar', 'wisuda'], ['dokumen', 'buat', 'daftar', 'wisuda'], ['berkas', 'wisuda'], ['berkas', 'untuk', 'daftar', 'wisuda'], ['berkas', 'untuk', 'daftar', 'wisuda'], ['berkas', 'untuk', 'daftar', 'wisuda'], ['berkas', 'buat', 'daftar', 'wisuda'], ['berkas', 'buat', 'wisuda'], ['berkas', 'buat', 'daftar', 'wisuda'], ['berkas', 'buat', 'daftar', 'wisuda'], ['syarat', 'wisuda', 'apa', 'aja'], ['syarat', 'untuk', 'wisuda', 'apa', 'aja'], ['syarat', 'buat', 'wisuda', 'apa', 'aja'], ['syarat', 'buat', 'daftar', 'wisuda', 'apa', 'ya'], ['syarat', 'untuk', 'daftar', 'wisuda', 'apa', 'ya'], ['apa', 'aja', 'sih', 'syarat', 'buat', 'wisuda'], ['apa', 'aja', 'sih', 'syarat', 'untuk', 'wisuda'], ['apa', 'aja', 'sih', 'syarat', 'buat', 'daftar', 'wisuda'], ['apa', 'aja', 'sih', 'syarat', 'untuk', 'daftar', 'wisudas'], ['berapa', 'jumlah', 'dosen', 'bimbing', 'dalam', 'kerja', 'tugas', 'akhir'], ['jumlah', 'dosen', 'bimbing', 'kerja', 'tugas', 'akhir'], ['berapa', 'jumlah', 'dosen', 'bimbing', 'tugas', 'akhir'], ['jumlah', 'bimbing', 'tugas', 'akhir'], ['jumlah', 'bimbing'], ['berapa', 'jumlah', 'dosen', 'pembinging', 'dalam', 'pengerjan', 'ta'], ['berapa', 'jumlah', 'dosen', 'bimbing', 'ta'], ['jumlah', 'bimbing', 'ta'], ['jumlah', 'dosen', 'bimbing', 'tugas', 'akhir'], ['jumlah', 'dosen', 'bimbing', 'ta'], ['jumlah', 'dosen', 'bimbing'], ['berapa', 'jumlah', 'dospem', 'untuk', 'tugas', 'akhir'], ['berapa', 'jumlah', 'dosbing', 'untuk', 'tugas', 'akhir'], ['jumlah', 'dospem', 'untuk', 'tugas', 'akhir'], ['jumlah', 'dosbing', 'untuk', 'tugas', 'akhir'], ['berapa', 'jumlah', 'dospem', 'tugas', 'akhir'], ['berapa', 'jumlah', 'dosbing', 'tugas', 'akhir'], ['jumlah', 'dopem', 'tugas', 'akhir'], ['jumlah', 'dosbing', 'tugas', 'akhir'], ['berapa', 'dosen', 'bimbing', 'ta'], ['berapa', 'dosen', 'bimbing', 'tugas', 'akhir'], ['berapa', 'jumlah', 'dospem', 'untuk', 'ta'], ['berapa', 'jumlah', 'dosbing', 'untuk', 'ta'], ['berapa', 'jumlah', 'dospem', 'ta'], ['jumlah', 'dospem', 'ta'], ['jumlah', 'dosbing', 'ta'], ['jumlah', 'dospem', 'dalam', 'kerja', 'tugas', 'akhir'], ['jumlah', 'dosbing', 'dalam', 'kerja', 'tugas', 'akhir'], ['jumlah', 'dospem', 'dalam', 'kerja', 'ta'], ['jumlah', 'dosbing', 'dalam', 'kerja', 'ta'], ['jumlah', 'dospem'], ['jumlah', 'dosbing'], ['dosbing', 'ta'], ['dosbing', 'tugas', 'akhir'], ['dospem', 'ta'], ['dospem', 'tugas', 'akhir'], ['berapa', 'jumlah', 'dosen', 'bimbing', 'ta'], ['berapa', 'jumlah', 'dosen', 'bimbing', 'skripsi'], ['berapa', 'jumlah', 'dosen', 'bimbing', 'tugas', 'akhir'], ['berapa', 'jumlah', 'dospem', 'ta'], ['berapa', 'jumlah', 'dosbing', 'ta'], ['berapa', 'jumlah', 'bimbing', 'tugas', 'akhir'], ['dosen', 'bimbing', 'jumlah', 'berapa'], ['ada', 'berapa', 'bimbing', 'untuk', 'ta'], ['dosen', 'bimbing', 'ada', 'berapa'], ['dosen', 'bimbing', 'ta', 'ada', 'berapa'], ['ada', 'berapa', 'dosen', 'bimbing', 'ta'], ['bimbing', 'ta', 'jumlah', 'berapa'], ['dosen', 'bimbing', 'ta', 'jumlah', 'berapa'], ['total', 'bimbing', 'untuk', 'tugas', 'akhir'], ['total', 'bimbing', 'untuk', 'ta'], ['dosen', 'bimbing', 'ta', 'ada', 'berapa', 'jumlah'], ['dosbing', 'ta', 'ada', 'berapa'], ['dospem', 'ta', 'ada', 'berapa'], ['dosbing', 'jumlah', 'berapa'], ['dospem', 'jumlah', 'berapa'], ['total', 'dosbing'], ['total', 'dospem'], ['total', 'dosbing', 'ta'], ['total', 'dospem', 'ta'], ['berapa', 'total', 'dosen', 'bimbing', 'untuk', 'tugas', 'akhir'], ['berapa', 'total', 'dosen', 'bimbing', 'buat', 'tugas', 'akhir'], ['apakah', 'dosen', 'bimbing', 'tugas', 'akhir', 'tentu', 'langsung', 'oleh', 'program', 'studi'], ['apakah', 'dosen', 'bimbing', 'tugas', 'akhir', 'pilih', 'sendiri'], ['apakah', 'dosen', 'bimbing', 'tugas', 'akhir', 'tentu', 'oleh', 'mahasiswa', 'sendiri'], ['apakah', 'mahasiswa', 'bebas', 'untuk', 'pilih', 'dosen', 'bimbing'], ['dosen', 'bimbing', 'tentu', 'oleh', 'siapa'], ['dosen', 'bimbing', 'pilih', 'oleh', 'siapa'], ['dospem', 'tentu', 'sendiri', 'atau', 'prodi'], ['dosbing', 'tentu', 'sendiri', 'atau', 'prodi'], ['dospem', 'pilih', 'oleh', 'siapa'], ['dosbing', 'pilih', 'oleh', 'siapa'], ['dospem', 'tentu', 'oleh', 'siapa'], ['dosbing', 'tentu', 'oleh', 'siapa'], ['tentu', 'dosbing', 'oleh', 'siapa'], ['tentu', 'dospem', 'oleh', 'siapa'], ['mahasiswa', 'boleh', 'nentuin', 'dosen', 'bimbing', 'sendiri'], ['mahasiswa', 'boleh', 'nentuin', 'dospem', 'sendiri'], ['mahasiswa', 'boleh', 'nentuin', 'dosbing', 'sendiri'], ['boleh', 'ga', 'mahasiswa', 'nentuin', 'bimbing', 'sendiri'], ['boleh', 'ga', 'mahasiswa', 'nentuk', 'dosen', 'bimbing', 'sendiri'], ['boleh', 'ga', 'mahasiswa', 'nentuin', 'dospem', 'sendiri'], ['boleh', 'ga', 'mahasiswa', 'nentuin', 'dosbing', 'sendiri'], ['apa', 'boleh', 'mahasiswa', 'tentu', 'dospemnya', 'sendiri'], ['apa', 'boleh', 'mahasiswa', 'tentu', 'dosbingnya', 'sendiri'], ['apa', 'boleh', 'mahasiswa', 'tentu', 'pembimbinganya', 'sendiri'], ['dospem', 'dari', 'prodi'], ['dosbing', 'dari', 'prodi'], ['bimbing', 'dari', 'prodi'], ['prodi', 'yang', 'nentuin', 'dospem', 'mahasiswa'], ['prodi', 'yang', 'nentuin', 'dosbing', 'mahasiswa'], ['prodi', 'yang', 'nentuin', 'bimbing', 'ta', 'mahasiswa'], ['mahasiswa', 'atau', 'prodi', 'yang', 'nentuin', 'bimbing', 'ta'], ['mahasiswa', 'atau', 'prodi', 'yang', 'tentu', 'bimbing', 'ta'], ['boleh', 'ga', 'milih', 'dospem', 'sendiri'], ['boleh', 'ga', 'nentuin', 'bimbing', 'ta', 'sendiri'], ['mahasiswa', 'yang', 'nentuin', 'dospem', 'sendiri'], ['mahasiswa', 'yang', 'nentuin', 'dosbing', 'sendiri'], ['penetuan', 'dospem', 'oleh', 'mahasiswa', 'atau', 'prodi'], ['tentu', 'dosbing', 'oleh', 'mahasiswa', 'atau', 'prodi'], ['tentu', 'dosen', 'bimbing', 'oleh', 'mahasiswa', 'tau', 'prodi'], ['tentu', 'bimbing', 'mahasiswa', 'atau', 'prodi'], ['siapa', 'yang', 'tentu', 'dosen', 'bimbing'], ['siapa', 'yang', 'nentuin', 'dosen', 'bimbing', 'ta'], ['mahasiswa', 'apakah', 'boleh', 'pilih', 'dosen', 'bimbing', 'sendiri'], ['apakah', 'boleh', 'mahasiswa', 'tentu', 'dosen', 'bimbing'], ['dospem', 'dari', 'prodi', 'atau', 'mahasiswa', 'sendiiri'], ['apakah', 'prodi', 'yang', 'tentu', 'dosen', 'bimbing', 'ta', 'untuk', 'mahasiswa'], ['apakah', 'prodi', 'yang', 'nentuin', 'dospem', 'untuk', 'mahasiswa'], ['apakah', 'prodi', 'yang', 'tentu', 'dospem', 'untuk', 'mahasiswa'], ['apakah', 'prodi', 'yang', 'tentu', 'dosbing', 'untuk', 'mahasiswa'], ['apakah', 'prodi', 'yang', 'nentuin', 'dosbing', 'ta', 'untuk', 'mahasiswa'], ['apakah', 'prodi', 'yang', 'nentuin', 'dosen', 'bimbing', 'ta', 'untuk', 'mahasiswa'], ['bagaimana', 'cara', 'pilih', 'dosen', 'bimbing'], ['pilih', 'dosen', 'bimbing'], ['cara', 'pilih', 'dosen', 'bimbing'], ['apakah', 'pilih', 'dosen', 'bimbing', 'hus', 'sesuai', 'dengan', 'jurus', 'yang', 'ambil'], ['apakah', 'tugas', 'akhir', 'dengan', 'bidang', 'minat', 'data', 'science', 'harus', 'pilih', 'dosen', 'bimbing', 'dari', 'data', 'science', 'juga'], ['apakah', 'tugas', 'akhir', 'dengan', 'bidang', 'minat', 'rpl', 'harus', 'pilih', 'dosen', 'bimbing', 'dari', 'rpl', 'juga'], ['apakah', 'tugas', 'akhir', 'dengan', 'bidang', 'minat', 'jaring', 'harus', 'pilih', 'dosen', 'bimbing', 'dari', 'jaring', 'juga'], ['apakah', 'tugas', 'akhir', 'dengan', 'bidang', 'minat', 'game', 'cerdas', 'harus', 'pilih', 'dosen', 'bimbing', 'dari', 'game', 'cerdas', 'juga'], ['bagaimana', 'cara', 'pilih', 'dospem'], ['bagaimana', 'cara', 'pilih', 'dosbing'], ['cara', 'pilih', 'dospem'], ['cara', 'pilih', 'dosbing'], ['pilih', 'dospem'], ['pilih', 'dosbing'], ['nentuin', 'dospem'], ['nentuin', 'dosbing'], ['tentu', 'dosbing'], ['tentu', 'dospem'], ['nentuin', 'dosen', 'bimbing'], ['nentuin', 'bimbing'], ['tentu', 'dosen', 'bimbing'], ['tentu', 'bimbing'], ['gimana', 'sih', 'cara', 'nentuin', 'dosen'], ['gimana', 'sih', 'cara', 'nentuin', 'dosen', 'bimbing'], ['gimana', 'sih', 'cara', 'nentuin', 'dospem'], ['gimana', 'sih', 'cara', 'nentuin', 'dosbing'], ['bagaimana', 'cara', 'pilih', 'dospem', 'ta'], ['bagaimana', 'cara', 'pilih', 'bimbing', 'ta'], ['bagaimana', 'cara', 'pilih', 'dosen', 'bimbing', 'ta'], ['bagaimana', 'pilih', 'bimbing', 'untuk', 'ta'], ['bagaimana', 'pilih', 'dosen', 'bimbing', 'untuk', 'ta'], ['bagaimana', 'pilih', 'dosbing', 'untuk', 'ta'], ['bagaimana', 'pilih', 'dospem', 'untuk', 'ta'], ['bagaimana', 'pilih', 'dosbing', 'buat', 'ta'], ['bagaimana', 'pilih', 'dospem', 'buat', 'ta'], ['bagaimana', 'pilih', 'bimbing', 'buat', 'ta'], ['pilih', 'dospem', 'harus', 'sesuai', 'jurus'], ['pilih', 'dosbing', 'harus', 'sesuai', 'dengan', 'jurus'], ['apakah', 'jurus', 'pengaruh', 'dalam', 'pilih', 'dosen', 'pembimmbing'], ['pilih', 'dosen', 'bimbing', 'tugas', 'akhir', 'harus', 'sesuai', 'jurus'], ['apakah', 'boleh', 'pilih', 'dospem', 'dengan', 'jurus', 'yang', 'beda'], ['pilih', 'dospem', 'harus', 'sesuai', 'dengan', 'jurus'], ['pilih', 'dosbing', 'harus', 'sesuai', 'dengan', 'jurus'], ['pilih', 'dosen', 'bimbing', 'harus', 'sesuai', 'dengan', 'jurus'], ['pilih', 'dospem', 'dari', 'jurus', 'yang', 'sama'], ['pilih', 'dosbing', 'dari', 'jurus', 'yang', 'sama'], ['pilih', 'dosen', 'bimbing'], ['pilih', 'dosen', 'bimbing', 'tugas', 'akhir'], ['pilih', 'dosen', 'bimbing', 'ta'], ['pilih', 'dospem', 'tugas', 'akhir'], ['pilih', 'dospem', 'ta'], ['pilih', 'dosbing', 'tugas', 'akhir'], ['pilih', 'dosbing', 'ta'], ['berapa', 'jumlah', 'minimal', 'laku', 'bimbing', 'tugas', 'akhir'], ['minimal', 'bimbing', 'tugas', 'akhir'], ['jumlah', 'minimal', 'bimbing', 'tugas', 'akhir'], ['jumlah', 'minimal', 'bimbing', 'ta'], ['minimal', 'bimbing', 'ta'], ['berapa', 'jumlah', 'minimal', 'bimbing', 'ta'], ['berapa', 'jumlah', 'minimal', 'bimbing', 'tugas', 'akhir', 'ke', 'tiap', 'dosen', 'bimbing'], ['berapa', 'jumlah', 'minimal', 'bimbing', 'tugas', 'akhir', 'ke', 'dosen', 'bimbing'], ['berapa', 'jumlah', 'bimbing', 'tugas', 'akhir'], ['berapa', 'jumlah', 'bimbing', 'tugas', 'akhir', 'ke', 'tiap', 'dosen', 'bimbing'], ['berapa', 'jumlah', 'bimbing', 'tugas', 'akhir', 'ke', 'dosen', 'bimbing'], ['jumlah', 'bimbing', 'tugas', 'akhir', 'ke', 'bimbing'], ['jumlah', 'bimbing', 'ta', 'ke', 'bimbing'], ['jumlah', 'bimbing', 'ta', 'ke', 'dosen', 'bimbing'], ['jumlah', 'bimbing', 'ta', 'ke', 'dospem'], ['jumlah', 'bimbing', 'ta', 'ke', 'dosbing'], ['jumlah', 'bimbing', 'tugas', 'akhir', 'ke', 'dospem'], ['jumlah', 'bimbing', 'tugas', 'akhir', 'ke', 'dospem'], ['berapa', 'kali', 'minimal', 'bimbing', 'tugas', 'akhir'], ['berapa', 'kali', 'minimal', 'bimbing', 'ta'], ['bimbing', 'tugas', 'akhir', 'ke', 'dosen', 'bimbing', 'berapa', 'kali'], ['bimbing', 'tugas', 'akhir', 'ke', 'dospem', 'berapa', 'kali'], ['bimbing', 'tugas', 'akhir', 'ke', 'dosbing', 'berapa', 'kali'], ['apakah', 'ada', 'jumlah', 'minimal', 'untuk', 'bimbing', 'tugas', 'akhir'], ['minimal', 'bimbing', 'berapa', 'kali'], ['minimal', 'bimbing', 'ta', 'berapa', 'kali'], ['minimal', 'bimbing', 'tugas', 'akhir', 'berapa', 'kali'], ['jumlah', 'bimbing', 'yang', 'harus', 'penuh'], ['total', 'bimbing', 'yang', 'harus', 'penuh'], ['berapa', 'jumlah', 'bimbing', 'tugas', 'akhir'], ['berapa', 'bimbing', 'yang', 'harus', 'penuh'], ['berapa', 'minimal', 'bimbing', 'tugas', 'akhir'], ['berapa', 'minimal', 'bimbing', 'ta'], ['berapa', 'minimal', 'bimbing', 'skripsi'], ['berapa', 'jumlah', 'bimbing', 'tugas', 'akhir'], ['berapa', 'jumlah', 'bimbing', 'ta'], ['berapa', 'jumlah', 'bimbing', 'skripsi'], ['jumlah', 'bimbing', 'yang', 'harus', 'penuh', 'berapa'], ['bimbing', 'skripsi', 'minimal', 'berapa'], ['bimbing', 'tugas', 'akhir', 'minimal', 'berapa'], ['bimbing', 'ta', 'minimal', 'berapa'], ['jumlah', 'minimal', 'untuk', 'bimbing', 'ta'], ['jumlah', 'minimal', 'untuk', 'bimbing', 'tugas', 'akhir'], ['jumlah', 'minimal', 'untuk', 'bimbing', 'skripsi'], ['jumlah', 'minimal', 'buat', 'bimbing'], ['jumlah', 'minimal', 'buat', 'bimbing', 'ta'], ['jumlah', 'minimal', 'buat', 'bimbing', 'tugas', 'akhir'], ['jumlah', 'minimal', 'buat', 'bimbing', 'skripsi'], ['total', 'untuk', 'bimbing', 'ta'], ['total', 'untuk', 'bimbing', 'tugas', 'akhir'], ['total', 'untuk', 'bimbing', 'skripsi'], ['total', 'buat', 'bimbing'], ['total', 'buat', 'bimbing', 'ta'], ['total', 'buat', 'bimbing', 'tugas', 'akhir'], ['total', 'buat', 'bimbing', 'skripsi'], ['apakah', 'ada', 'template', 'untul', 'draft', 'lapor', 'tugas', 'akhir', 'lengkap'], ['template', 'draft', 'lapor', 'tugas', 'akhir', 'lengkap'], ['template', 'lapor', 'tugas', 'akhir'], ['tempalate', 'lapor', 'tugas', 'akhir', 'dapat', 'akses', 'mana'], ['template', 'draft', 'lapor', 'tugas', 'akhir', 'dapat', 'akses', 'mana'], ['template', 'lapor', 'ta', 'lengkap'], ['template', 'lapor', 'ta'], ['template', 'lapor', 'ta', 'dapat', 'akses', 'mana'], ['template', 'draft', 'lapor', 'ta', 'dapat', 'akses', 'mana'], ['akses', 'template', 'lapor', 'tugas', 'akhir'], ['akses', 'template', 'lapor', 'ta'], ['template', 'draft', 'lapor', 'ta', 'dapat', 'lihat', 'mana'], ['template', 'lapor', 'ta', 'dapat', 'lihat', 'mana'], ['template', 'draft', 'lapor', 'tugas', 'akhir', 'dapa', 'lihat', 'mana'], ['template', 'lapor', 'tugas', 'akhir', 'dapat', 'lihat', 'mana'], ['download', 'template', 'lapor', 'tugas', 'akhir'], ['download', 'template', 'lapor', 'ta'], ['template', 'lapor', 'tugas', 'akhir', 'akses', 'mana'], ['template', 'lapor', 'tugas', 'akhir', 'lihat', 'mana'], ['template', 'lapor', 'tugas', 'akhir', 'sedia', 'mana'], ['template', 'lapor', 'ta', 'akses', 'mana'], ['template', 'lapor', 'skripsi', 'akses', 'mana'], ['template', 'lapor', 'ta', 'lihat', 'mana'], ['template', 'lapor', 'skripsi', 'lihat', 'mana'], ['template', 'lapor', 'ta', 'sedia', 'mana'], ['template', 'lapor', 'skirpsi', 'sedia', 'mana'], ['template', 'lapor', 'tugas', 'akhir', 'mana', 'ya'], ['template', 'lapor', 'ta', 'mana', 'ya'], ['template', 'lapor', 'skripsi', 'mana', 'ya'], ['template', 'lapor', 'tugas', 'akhir', 'bisa', 'akses', 'mana', 'ya'], ['template', 'lapor', 'ta', 'bisa', 'akses', 'mana', 'ya'], ['template', 'lapor', 'skripsi', 'bisa', 'akses', 'mana', 'ya'], ['mana', 'akses', 'buat', 'template', 'lapor', 'tugas', 'akhir'], ['mana', 'akses', 'buat', 'template', 'lapor', 'ta'], ['mana', 'akses', 'buat', 'template', 'lapor', 'skrispi'], ['akses', 'untuk', 'template', 'lapor', 'tugas', 'akhir'], ['akses', 'untuk', 'template', 'lapor', 'ta'], ['akses', 'untuk', 'template', 'lapor', 'skripsi'], ['akses', 'buat', 'template', 'lapor', 'tugas', 'akhir'], ['akses', 'buat', 'template', 'lapor', 'ta'], ['akses', 'buat', 'template', 'lapor', 'skirpsi'], ['template', 'lapor', 'tugas', 'akhir', 'mana'], ['template', 'lapor', 'ta', 'mana'], ['template', 'lapor', 'skripsi', 'mana'], ['akses', 'untuk', 'dapat', 'template', 'lapor', 'ta'], ['akses', 'untuk', 'dapat', 'template', 'lapor', 'tugas', 'akhir'], ['akses', 'untuk', 'dapat', 'template', 'lapor', 'skripsi'], ['akses', 'untuk', 'dapat', 'template', 'lapor', 'ta'], ['akses', 'untuk', 'dapat', 'template', 'lapor', 'tugas', 'akhir'], ['akses', 'untuk', 'dapat', 'template', 'lapor', 'skripsi'], ['akses', 'buat', 'template', 'lapor', 'ta'], ['akses', 'buat', 'template', 'lapor', 'tugas', 'akhir'], ['akses', 'buat', 'template', 'lapor', 'skripsi'], ['apakah', 'ada', 'template', 'untuk', 'proposal', 'tugas', 'akhir'], ['template', 'proposal', 'tugas', 'akhir'], ['apakah', 'ada', 'template', 'untuk', 'proposal', 'ta'], ['template', 'proposal', 'ta'], ['template', 'untuk', 'proposal', 'tugas', 'akhir'], ['template', 'untuk', 'proposal', 'ta'], ['template', 'proposal', 'tugas', 'akhir', 'dapat', 'akses', 'mana'], ['template', 'proposal', 'ta', 'dapat', 'akses', 'mana'], ['template', 'proposal', 'tugas', 'akhir', 'dapat', 'lihat', 'mana'], ['template', 'proposal', 'ta', 'dapat', 'lihat', 'mana'], ['akses', 'untuk', 'template', 'proposal', 'tugas', 'akhir'], ['akses', 'untuk', 'template', 'proposal', 'ta'], ['mana', 'saya', 'bisa', 'mengkases', 'proposal', 'tugas', 'akhir'], ['mana', 'saya', 'bisa', 'akses', 'proposal', 'ta'], ['mana', 'untuk', 'mendownload', 'template', 'proposal', 'tugas', 'akhir'], ['mana', 'untuk', 'mendownload', 'template', 'proposal', 'ta'], ['download', 'proposal', 'tugas', 'akhir'], ['download', 'proposal', 'ta'], ['template', 'proposal', 'tugas', 'akhir', 'akses', 'mana'], ['template', 'proposal', 'ta', 'akses', 'mana'], ['template', 'proposal', 'tugas', 'akhir', 'lihat', 'mana'], ['template', 'proposal', 'ta', 'lihat', 'mana'], ['template', 'proposal', 'tugas', 'akhir', 'sedia', 'mana'], ['template', 'proposal', 'ta', 'sedia', 'mana'], ['template', 'proposal', 'tugas', 'akhir', 'mana'], ['template', 'proposal', 'tugas', 'akhir', 'mana', 'ya'], ['template', 'proposal', 'skripsi', 'lihat', 'mana'], ['template', 'proposal', 'skripsi', 'akses', 'mana'], ['template', 'proposal', 'skirpsi', 'sedia', 'mana'], ['template', 'proposal', 'ta', 'mana'], ['template', 'proposal', 'skripsi', 'mana'], ['template', 'proposal', 'ta', 'mana', 'ya'], ['template', 'proposal', 'skripsi', 'mana', 'ya'], ['template', 'proposal', 'tugas', 'akhir', 'bisa', 'akses', 'mana'], ['template', 'proposal', 'ta', 'bisa', 'akses', 'mana'], ['template', 'proposal', 'skripsi', 'bisa', 'diaskes', 'mana'], ['mana', 'akses', 'buat', 'template', 'proposal', 'tugas', 'akhir'], ['mana', 'akses', 'buat', 'template', 'proposal', 'ta'], ['mana', 'akses', 'buat', 'template', 'proposal', 'skripsi'], ['akses', 'untuk', 'template', 'proposal', 'tugas', 'akhir'], ['akses', 'unutuk', 'templaye', 'proposal', 'ta'], ['akses', 'untuk', 'template', 'proposal', 'skirpsi'], ['akses', 'buat', 'template', 'proposal', 'tugas', 'akhir'], ['akses', 'buat', 'template', 'proposal', 'ta'], ['akses', 'buat', 'template', 'proposal', 'skripsi'], ['template', 'proposal', 'ta', 'mana'], ['template', 'proposal', 'tugas', 'akhir', 'mana'], ['template', 'proposal', 'skripsi', 'mana'], ['akses', 'untuk', 'dapat', 'template', 'proposal', 'ta'], ['akses', 'untuk', 'dapat', 'template', 'proposal', 'tugas', 'akhir'], ['akses', 'untuk', 'dapat', 'template', 'proposal', 'skripsi'], ['akses', 'buat', 'dapat', 'template', 'proposal', 'skripsi'], ['akses', 'buat', 'dapat', 'template', 'proposal', 'ta'], ['akses', 'buat', 'dapat', 'template', 'proposal', 'tugas', 'akhir'], ['bagaimana', 'tahu', 'jadwal', 'bimbing', 'tiap', 'dosen'], ['jadwal', 'bimbing', 'tiap', 'dosen'], ['jadwal', 'bimbing'], ['tahu', 'bimbing', 'tiap', 'dosen', 'bimbing'], ['jadwal', 'bimbing', 'dengan', 'dosen', 'bimbing'], ['jadwal', 'bimbing', 'dosen', 'bimbing'], ['jadwal', 'bimbing', 'dospem'], ['jadwal', 'bimbing', 'dosbing'], ['informasi', 'kena', 'bimbing', 'tiap', 'dosen'], ['informasi', 'kena', 'bimbing', 'dosen', 'bimbing'], ['info', 'jadwal', 'bimbing', 'dosen'], ['info', 'jadwal', 'bimbing', 'dosen', 'bimbing'], ['info', 'jadwal', 'bimbing'], ['info', 'jadwal', 'bimbing', 'dospem'], ['info', 'jadwal', 'bimbing', 'dosbing'], ['gimana', 'tahu', 'jadwal', 'bimbing', 'dosen', 'bimbing'], ['gimana', 'tahu', 'jadwal', 'bimbing', 'dosen'], ['gimana', 'tahu', 'jadwal', 'bimbing', 'dospem'], ['gimana', 'tahu', 'jadwal', 'bimbing', 'dosbing'], ['bagaimana', 'tahu', 'jadwal', 'bimbing', 'dosbing'], ['bagaimana', 'tahu', 'jadwal', 'bimbing', 'dosen'], ['bagaimana', 'tahu', 'jadwal', 'bimbing', 'dosen', 'bimbing'], ['bagaimana', 'tahu', 'jadwal', 'bimbing', 'dosen', 'bimbing'], ['informasi', 'jadwal', 'bimbing', 'dosen', 'dari', 'mana'], ['informasi', 'jadwal', 'bimbing', 'dosen', 'bimbing', 'dari', 'mana'], ['informasi', 'jadwal', 'bimbing', 'dospem', 'dari', 'mana'], ['informasi', 'jadwal', 'bimbing', 'dosbim', 'dari', 'mana'], ['akses', 'jadwal', 'bimbing', 'dosen', 'mana'], ['akses', 'jadwal', 'bimbing', 'dosen', 'bimbing', 'mana'], ['akses', 'jadwal', 'bimbing', 'dospem', 'mana'], ['akses', 'jadwal', 'bimbing', 'dosbing', 'mana'], ['jadwal', 'bimbing', 'akses', 'mana'], ['jadwal', 'bimbing', 'dosen', 'akses', 'mana'], ['jadwal', 'bimbing', 'dosen', 'bimbing', 'akses', 'mana'], ['jadwal', 'bimbing', 'dospem', 'akses', 'mana'], ['jadwal', 'bimbing', 'dosbing', 'akses', 'mana'], ['jadwal', 'bimbing', 'dosen'], ['jadwal', 'buat', 'bimbing', 'mana'], ['jadwal', 'untuk', 'bimbing', 'mana'], ['jadwal', 'bimbing', 'tiap', 'dosen', 'bimbing'], ['jadwal', 'bimbing', 'tiap', 'dosen'], ['bimbing', 'dosen', 'jadwal', 'mana'], ['jadwal', 'bimbing', 'dosen', 'mana', 'ya'], ['jadwal', 'bimbing', 'dosen', 'bisa', 'lihat', 'mana', 'ya'], ['akses', 'buat', 'lihat', 'jadwal', 'bimbing'], ['akses', 'buat', 'lihat', 'jadwal', 'bimbing', 'dosen'], ['akses', 'buat', 'lihat', 'jadwal', 'bimbing', 'dosen', 'bimbing'], ['akses', 'buat', 'lihat', 'jadwal', 'bimbing', 'dospem'], ['akses', 'buat', 'lihat', 'jadwal', 'bimbing', 'dosbing'], ['jadwal', 'bimbing', 'dosen', 'lihat', 'mana'], ['jadwal', 'bimbing', 'dosen', 'bimbing', 'lihat', 'mana'], ['apakah', 'ada', 'batas', 'untuk', 'judul', 'tugas', 'akhir'], ['batas', 'judul', 'tugas', 'akhir'], ['pilih', 'topik', 'ta'], ['tentu', 'topik', 'ta'], ['referensi', 'topik', 'ta'], ['tawar', 'topik', 'tugas', 'akhir', 'dari', 'dosen'], ['pilih', 'topik', 'tugas', 'akhir'], ['tentu', 'topik', 'tugas', 'akhir'], ['referensi', 'topik', 'tugas', 'akhir'], ['batas', 'pilih', 'topik'], ['batas', 'pilih', 'topik', 'ta'], ['batas', 'pilih', 'topik', 'tugas', 'akhir'], ['pilih', 'topik', 'tugas', 'akhir'], ['tentu', 'topik', 'ta'], ['gimana', 'tentu', 'judul', 'ta'], ['gimana', 'tentu', 'judul', 'tugas', 'akhir'], ['gimana', 'tentu', 'topik', 'ta'], ['gimana', 'tentu', 'topik', 'tugas', 'akhir'], ['nentuin', 'judul', 'ta'], ['nentuin', 'judul', 'tugas', 'akhir'], ['nentuin', 'topik', 'ta'], ['nentuin', 'topik', 'tugas', 'akhir'], ['judul', 'ta'], ['judul', 'tugas', 'akhir'], ['topik', 'ta'], ['topik', 'tugas', 'akhir'], ['bagaimana', 'tentu', 'judul', 'tugas', 'akhir'], ['bagaimana', 'tentu', 'judul', 'ta'], ['bagaimana', 'tentu', 'topik', 'ta'], ['bagaimana', 'tentu', 'topik', 'tugas', 'akhir'], ['ada', 'ga', 'sih', 'batas', 'dalam', 'nentuin', 'judul', 'ta'], ['ada', 'ga', 'sih', 'batas', 'dalam', 'nentuin', 'judul', 'tugas', 'akhir'], ['ada', 'ga', 'sih', 'batas', 'dalam', 'nentuin', 'topik', 'tugas', 'akhir'], ['ada', 'ga', 'sih', 'batas', 'dalam', 'nentuin', 'topik', 'ta'], ['batas', 'dalam', 'buat', 'judul', 'ta'], ['batas', 'dalam', 'buat', 'judul', 'tugas', 'akhir'], ['batas', 'buat', 'judul', 'ta'], ['batas', 'buat', 'judul', 'tugas', 'akhir'], ['batas', 'buat', 'topik', 'ta'], ['batas', 'buat', 'topik', 'tugas', 'akhir'], ['gimana', 'sih', 'nentuin', 'judul', 'ta'], ['gimana', 'sih', 'nentuin', 'judul', 'tugas', 'akhir'], ['nentuin', 'judul', 'tugas', 'akhir', 'gimana'], ['nentuin', 'judul', 'ta', 'gimana'], ['gimana', 'sih', 'nentuin', 'topik', 'ta'], ['gimana', 'sih', 'nentuin', 'topik', 'tugas', 'akhir'], ['nentuin', 'topik', 'ta', 'gimana'], ['nentuin', 'topik', 'tugas', 'akhir', 'gimana'], ['tentu', 'judul', 'tugas', 'akhir', 'bagaimana'], ['tentu', 'judul', 'ta', 'bagaimana'], ['tentu', 'topik', 'ta', 'bagaimana'], ['tentu', 'topik', 'tugas', 'akhir', 'bagaimana'], ['apakah', 'boleh', 'ambil', 'tugas', 'akhir', 'ketika', 'masih', 'ada', 'mata', 'kuliah', 'yang', 'belum', 'selesai'], ['ambil', 'tugas', 'akhir', 'tapi', 'masih', 'ada', 'mata', 'kuliah'], ['kerja', 'skripsi', 'saat', 'masih', 'ada', 'mata', 'kuliah'], ['apakah', 'boleh', 'ambil', 'skripsi', 'ketika', 'masih', 'ada', 'mata', 'kuliah', 'yang', 'belum', 'selesai'], ['ambil', 'mata', 'kuliah', 'skripsi', 'ketika', 'masih', 'ada', 'mata', 'kuliah'], ['jika', 'dapat', 'mata', 'kuliah', 'yang', 'belum', 'selesai', 'apakah', 'boleh', 'ambil', 'tugas', 'akhir'], ['ketika', 'dapat', 'mata', 'kuliah', 'yang', 'masih', 'harus', 'selesai', 'apakah', 'boleh', 'ambil', 'tugas', 'akhir'], ['ambil', 'skripsi', 'namun', 'masih', 'ada', 'mata', 'kuliah', 'yang', 'belum', 'selesai'], ['aku', 'mau', 'ngambil', 'skripsi', 'tapi', 'mata', 'kuliah', 'belum', 'selesai'], ['ngambil', 'skripsi', 'tapi', 'mata', 'kuliah', 'masih', 'ada', 'yang', 'belum', 'selesai'], ['ambil', 'skripsi', 'sambil', 'selesai', 'mata', 'kuliah'], ['apakah', 'boleh', 'ambil', 'skripsi', 'sambil', 'selesai', 'mata', 'kuliah'], ['ambil', 'skripsi', 'sambil', 'selesai', 'matkul'], ['apakah', 'bisa', 'kerja', 'tugas', 'akhir', 'ketika', 'masih', 'ada', 'matkul', 'yang', 'harus', 'diselesaiin'], ['apakah', 'bisa', 'kerja', 'ta', 'ketika', 'masih', 'ada', 'matkul', 'yang', 'harus', 'diselesaiin'], ['ngerjain', 'ta', 'sambil', 'kuliah'], ['ngerjain', 'tugas', 'akhir', 'sambil', 'kuliah'], ['kuliah', 'sambil', 'ngerjain', 'ta'], ['kuliah', 'sambil', 'ngerjain', 'tugas', 'akhir'], ['kerja', 'tugas', 'akhir', 'sambil', 'kuliah'], ['kerja', 'ta', 'sambil', 'kuliah'], ['kerja', 'skripsi', 'sambil', 'kuliah'], ['bisa', 'ga', 'sih', 'ngerjain', 'ta', 'sambil', 'kuliah'], ['bisa', 'ga', 'sih', 'ngerjain', 'tugas', 'akhir', 'sambil', 'kuliah'], ['bisa', 'ga', 'sih', 'ngerjain', 'skripsi', 'sambil', 'kuliah'], ['boleh', 'ga', 'ngerjain', 'skripsi', 'sambil', 'kuliah'], ['boleh', 'ga', 'ngerjain', 'ta', 'sambil', 'kuliah'], ['boleh', 'ga', 'ngerjain', 'tugas', 'akhir', 'sambil', 'kuliah'], ['apa', 'bisa', 'ngerjain', 'ta', 'sambil', 'kuliah'], ['apa', 'bisa', 'ngerjain', 'tugas', 'akhir', 'sambil', 'kuliah'], ['apa', 'bisa', 'ngerjain', 'skripsi', 'sambil', 'kuliah'], ['apa', 'bisa', 'kerja', 'skripsi', 'sambil', 'kuliah'], ['apa', 'bisa', 'kerja', 'ta', 'sambil', 'kuliah'], ['apa', 'bisa', 'mngerjakan', 'tugas', 'akhir', 'sambil', 'kuliah'], ['gimana', 'jika', 'ngerjain', 'skripsi', 'sambil', 'kuliah'], ['gimana', 'jika', 'ngerjain', 'ta', 'sambil', 'kuliah'], ['gimana', 'jika', 'ngerjain', 'tugas', 'akhir', 'sambil', 'kuliah'], ['bagaimana', 'jika', 'ngerjain', 'skripsi', 'sambil', 'kuliah'], ['bagaimana', 'jika', 'ngerjain', 'ta', 'sambil', 'kuliah'], ['bagaimana', 'jika', 'ngerjain', 'tugas', 'akhir', 'sambil', 'kuliah'], ['gimana', 'kalo', 'ngambil', 'tugas', 'akhir', 'sambil', 'kuliah'], ['gimana', 'kalo', 'ngambil', 'ta', 'sambil', 'kuliah'], ['gimana', 'kalo', 'ngambil', 'skripsi', 'sambil', 'kuliah'], ['ngambil', 'ta', 'sambil', 'kuliah'], ['ngambil', 'tugas', 'akhir', 'sambil', 'kuliah'], ['ngambil', 'skripsi', 'sambil', 'kuliah'], ['ngambil', 'ta', 'pas', 'masih', 'ada', 'matkul'], ['ngambil', 'tugas', 'akhir', 'pas', 'masih', 'ada', 'matkul'], ['ngambil', 'skripsi', 'pas', 'masih', 'ada', 'matkul'], ['ngambil', 'ta', 'pas', 'masih', 'ada', 'kuliah'], ['ngambil', 'tugas', 'akhir', 'pas', 'maish', 'ada', 'kuliah'], ['ngambil', 'skripsi', 'pas', 'masih', 'ada', 'kuliah'], ['bagaimana', 'cara', 'aju', 'judul', 'tugas', 'akhir'], ['aju', 'judul', 'tugas', 'akhir'], ['aju', 'judul', 'ta'], ['aju', 'judul', 'skripsi'], ['aju', 'judul', 'skripsi', 'harus', 'mana'], ['apakah', 'aju', 'judul', 'ta', 'langsung', 'ke', 'dosen', 'yang', 'jadi', 'dosen', 'bimbing'], ['aju', 'judul', 'ta', 'langsung', 'ke', 'dosen'], ['aju', 'judul', 'skripsi', 'langsung', 'ke', 'dosen', 'bimbing'], ['mangajukan', 'judul', 'tugas', 'akhir', 'langsung', 'ke', 'dosen'], ['aju', 'judul', 'skripsi', 'langsung', 'ke', 'dosen'], ['aju', 'judul', 'ta', 'langsung', 'ke', 'dosen', 'bimbing'], ['aju', 'judul', 'skripsi', 'langsung', 'ke', 'dosen', 'bimbing'], ['aju', 'judul', 'skripsi', 'langsung', 'ke', 'calon', 'dosen', 'bimbing'], ['aju', 'judul', 'ta', 'langsung', 'ke', 'calon', 'dosen', 'bimbing'], ['aju', 'judul', 'tugsa', 'akhir', 'langsung', 'ke', 'calon', 'dosen', 'bimbing'], ['bagaimana', 'aju', 'judul', 'tugas', 'akhir'], ['bagaimana', 'aju', 'judul', 'ta'], ['bagaimana', 'aju', 'judul', 'skripsi'], ['bagaimana', 'aju', 'topik', 'tugas', 'akhir'], ['bagaimana', 'aju', 'topik', 'ta'], ['bagaimana', 'aju', 'topik', 'skripsi'], ['aju', 'judul', 'ta', 'gimana', 'ya'], ['aju', 'judul', 'tugas', 'akhir', 'gimana', 'ya'], ['aju', 'judul', 'skripsi', 'gimana', 'ya'], ['aju', 'topik', 'ta', 'gimana', 'ya'], ['aju', 'topik', 'tugas', 'akhir', 'gimana', 'ya'], ['aju', 'topik', 'skripsi', 'gimana', 'ya'], ['aju', 'judul', 'ta', 'bagaimana'], ['aju', 'judul', 'tugas', 'akhir', 'bagaimana'], ['aju', 'judul', 'skripsi', 'bagaimana'], ['aju', 'topik', 'ta', 'bagaimana'], ['aju', 'topik', 'tugas', 'akhir', 'bagaimana'], ['aju', 'topik', 'skripsi', 'bagaimana'], ['gimana', 'ngajuin', 'judul', 'ta'], ['gimana', 'ngajuin', 'judul', 'tugas', 'akhir'], ['gimana', 'ngajuin', 'judul', 'skripsi'], ['gimana', 'ngajuin', 'topik', 'skripsi'], ['gimana', 'ngajuin', 'topik', 'tugas', 'akhir'], ['gimana', 'ngajuin', 'topik', 'skripsi'], ['ngajuin', 'judul', 'ta', 'gimana', 'sih'], ['ngajuin', 'judul', 'tugas', 'akhir', 'gimana', 'sih'], ['ngajuin', 'judul', 'skripsi', 'gimana', 'sih'], ['ngajuin', 'topik', 'ta', 'gimana', 'sih'], ['ngajiun', 'topik', 'tugas', 'akhir', 'gimana', 'sih'], ['ngajuin', 'topik', 'skripsi', 'gimana', 'sih'], ['konsultasi', 'kena', 'judul', 'ta'], ['konsultasi', 'kena', 'judul', 'tugas', 'akhir'], ['konsultasi', 'kena', 'judul', 'skripsi'], ['konsultasi', 'kena', 'topik', 'ta'], ['konsultasi', 'kena', 'topik', 'tugas', 'akhir'], ['konsultasi', 'kena', 'topik', 'skripsi'], ['data', 'yang', 'guna', 'apakah', 'harus', 'cari', 'data', 'sendiri', 'atau', 'dapat', 'guna', 'data', 'yang', 'sudah', 'ada'], ['ambil', 'data'], ['ambil', 'data', 'untuk', 'teliti'], ['ambil', 'data', 'untuk', 'teliti', 'tugas', 'akhir'], ['kumpul', 'data'], ['kumpul', 'data', 'untuk', 'teliti'], ['kumpul', 'data', 'untuk', 'teliti', 'tugas', 'akhir'], ['untuk', 'data', 'yang', 'guna', 'apakah', 'harus', 'kumpul', 'data', 'sendiri'], ['apakah', 'boleh', 'guna', 'data', 'yang', 'sudah', 'ada'], ['guna', 'data', 'yang', 'sudah', 'ada', 'untuk', 'teliti'], ['kumpul', 'data', 'sendiri', 'untuk', 'teliti'], ['cara', 'kumpul', 'data', 'untuk', 'teliti'], ['bagaimana', 'kumpul', 'data', 'untuk', 'teliti'], ['cara', 'untuk', 'kumpul', 'data', 'teliti'], ['cara', 'kumpul', 'data', 'untuk', 'teliti', 'tugas', 'akhir'], ['bagaimana', 'kumpul', 'data', 'untuk', 'teliti', 'tugas', 'akhir'], ['ngumpulin', 'data', 'buat', 'teliti', 'gimana'], ['ngumpulin', 'data', 'buat', 'tugas', 'akhir', 'gimana'], ['ngumpulin', 'data', 'buat', 'teliti', 'ta', 'gimana'], ['ngumpulin', 'data', 'buat', 'teliti', 'tugas', 'akhir', 'gimana'], ['gimana', 'ya', 'ngumpulin', 'data', 'teliti'], ['gimana', 'ya', 'ngumpulin', 'data', 'tugas', 'akhir'], ['gimana', 'ya', 'ngumpulin', 'data', 'teliti', 'ta'], ['gimana', 'ya', 'ngumpulin', 'data', 'teliti', 'tugas', 'akhir'], ['gimana', 'ya', 'ngumpulin', 'data', 'teliti', 'skripsi'], ['cari', 'data', 'untuk', 'teliti', 'gimana'], ['cari', 'data', 'untuk', 'teliti', 'tugas', 'akhir', 'gimana'], ['cari', 'data', 'untuk', 'teliti', 'ta', 'gimana'], ['cari', 'data', 'untuk', 'teliti', 'skripsi', 'gimana'], ['gimana', 'sih', 'cari', 'data', 'buat', 'teliti'], ['gimana', 'sih', 'cari', 'data', 'buat', 'teliti', 'ta'], ['gimana', 'sih', 'cari', 'data', 'buat', 'teliti', 'tugas', 'akhir'], ['gimana', 'sih', 'cari', 'data', 'buat', 'teliti', 'skripsi'], ['cari', 'data', 'mana'], ['cari', 'data', 'tugas', 'akhir', 'mana'], ['cari', 'data', 'skripsi', 'mana'], ['cari', 'data', 'buat', 'teliti', 'mana'], ['cari', 'data', 'teliti', 'tugas', 'akhir', 'mana'], ['cari', 'data', 'teliti', 'skripsi', 'mana'], ['mana', 'tempat', 'untuk', 'cari', 'data', 'teliti'], ['mana', 'tempat', 'cari', 'data', 'teliti', 'tugas', 'akhir'], ['mana', 'tempat', 'buat', 'cari', 'data', 'teliti', 'ta'], ['tempat', 'untuk', 'cari', 'data'], ['cari', 'data', 'mana'], ['gimana', 'cari', 'data'], ['gimana', 'sih', 'nyari', 'data'], ['nyari', 'data', 'buat', 'teliti'], ['nyari', 'data', 'buat', 'teliti', 'ta'], ['nyari', 'data', 'buat', 'teliti', 'tugas', 'akhir'], ['gimana', 'ya', 'nyari', 'data', 'buat', 'teliti'], ['gimana', 'ya', 'nyari', 'daata', 'buat', 'teliti', 'ta'], ['apa', 'beda', 'dari', 'seminar', 'proposal', 'seminar', 'hasil', 'dan', 'yudisium'], ['beda', 'tiap', 'tahap', 'pada', 'alur', 'kerja', 'tugas', 'akhir'], ['beda', 'antara', 'sidang', 'dan', 'semhas'], ['beda', 'antara', 'sidang', 'tugas', 'akhir', 'dan', 'seminar', 'hasil'], ['apa', 'beda', 'tiap', 'tahap', 'pada', 'alur', 'kerja'], ['beda', 'tiap', 'tahap', 'pada', 'alur', 'kerja', 'apa'], ['apa', 'beda', 'dari', 'tiap', 'tahap', 'pada', 'alur', 'kerja'], ['beda', 'antara', 'sempro', 'dan', 'sidang'], ['apa', 'beda', 'sempro', 'dan', 'sidang'], ['beda', 'antara', 'seminar', 'proposal', 'dan', 'sidang'], ['beda', 'antara', 'seminar', 'proposal', 'dan', 'sidang', 'tugas', 'akhir'], ['beda', 'antara', 'seminar', 'proposal', 'dan', 'sidang', 'skripsi'], ['beda', 'antara', 'sempro', 'dan', 'sidang', 'skripsi'], ['apakah', 'sidang', 'dan', 'semhas', 'beda'], ['apakah', 'sidang', 'dan', 'semhas', 'sama'], ['apakah', 'sidang', 'skripsi', 'dan', 'seminar', 'hasil', 'beda'], ['apakah', 'sidang', 'ta', 'dan', 'seminar', 'hasil', 'beda'], ['beda', 'tiap', 'tahap', 'pada', 'alur', 'kerja', 'itu', 'apa', 'sih'], ['sempro', 'sama', 'sidang', 'beda', 'apa', 'sih'], ['kalo', 'sempro', 'sama', 'sidang', 'beda', 'apa'], ['seminar', 'proposal', 'sama', 'sidang', 'beda', 'apa'], ['sidang', 'akhir', 'sama', 'seminar', 'hasil', 'beda', 'mana', 'ya'], ['sidang', 'akhir', 'sama', 'semhas', 'beda', 'apa', 'ya'], ['apa', 'sih', 'beda', 'sidang', 'sama', 'semhas'], ['beda', 'sidang', 'sama', 'semhas', 'apa', 'ya'], ['apa', 'sih', 'beda', 'tahap', 'alur', 'ta'], ['tiap', 'tahap', 'di', 'alur', 'kerja', 'ta', 'beda', 'apa', 'sih'], ['sempro', 'sama', 'sidang', 'beda', 'ya'], ['sidang', 'sama', 'semhas', 'beda', 'ya'], ['apa', 'sih', 'beda', 'semhas', 'sama', 'sempro'], ['apa', 'sih', 'beda', 'antara', 'sempro', 'dan', 'semhas'], ['seminar', 'proposal', 'sama', 'seminar', 'hasil', 'tu', 'gimana'], ['gimana', 'sih', 'beda', 'sidang', 'sama', 'semhas'], ['gimana', 'sih', 'beda', 'sempro', 'sama', 'sidang'], ['gimana', 'sih', 'beda', 'sempro', 'sama', 'semhas'], ['sempro', 'semhas', 'beda', 'apa', 'siih'], ['sempro', 'sidang', 'semhas', 'beda', 'apa'], ['beda', 'sempro', 'sidang', 'semhas'], ['apa', 'beda', 'sempro', 'sama', 'sidang'], ['apa', 'beda', 'sempro', 'sama', 'semhas'], ['apa', 'beda', 'sidang', 'sama', 'semhas'], ['beda', 'tahap', 'sempro', 'sidang', 'sama', 'semhas'], ['beda', 'sempro', 'sidang', 'semhas', 'apa', 'yaa'], ['gimana', 'sih', 'beda', 'sempro', 'sidang', 'semhas'], ['gimana', 'sih', 'beda', 'sempro', 'sama', 'sidang'], ['gimana', 'sih', 'beda', 'sempro', 'sama', 'semhas'], ['gimana', 'sih', 'beda', 'sidang', 'sama', 'semhas'], ['apa', 'yang', 'bedain', 'antara', 'sempro', 'sidang', 'sama', 'semhas'], ['apa', 'yang', 'bedain', 'sempro', 'sama', 'sidang'], ['apa', 'yang', 'bedain', 'sempro', 'sama', 'semhas'], ['apa', 'yang', 'bedain', 'sidang', 'sama', 'semhas'], ['informasi', 'kena', 'tugas', 'akhir', 'dapat', 'akses', 'mana'], ['informasi', 'kena', 'tugas', 'akhir'], ['informasi', 'kena', 'ta'], ['informasi', 'kena', 'skripsi'], ['informasi', 'tentang', 'tugas', 'akhir'], ['informasi', 'tentang', 'ta'], ['informasi', 'tentang', 'skripsi'], ['mana', 'tempat', 'cari', 'tahu', 'tentang', 'tugas', 'akhir'], ['mana', 'tempat', 'untuk', 'cari', 'tahu', 'tentang', 'ta'], ['apakah', 'harus', 'tanya', 'kepada', 'tata', 'usaha', 'untuk', 'tahu', 'informasi', 'kena', 'ta'], ['akses', 'informasi', 'kena', 'ta'], ['informasi', 'kena', 'ta', 'dapat', 'lihat', 'mana'], ['informasi', 'kena', 'ta', 'dalam', 'akses', 'mana'], ['informasi', 'kena', 'tugas', 'akhir', 'lengkap', 'dapat', 'lihat', 'mana'], ['untuk', 'kena', 'tahaptahap', 'kerja', 'skripsi', 'dapat', 'lihat', 'mana'], ['informasi', 'sempro'], ['informasi', 'seminar', 'proposal'], ['informasi', 'sidang'], ['informasi', 'sidang', 'ta'], ['informasi', 'sidang', 'tugas', 'akhir'], ['infromasi', 'sidang', 'akhir'], ['informasi', 'sidang', 'skripsi'], ['informasi', 'semhas'], ['informasi', 'seminar', 'hasil'], ['informasi', 'kena', 'yudisium'], ['informasi', 'ta', 'mana'], ['informasi', 'lengkap', 'tentang', 'tugas', 'akhir'], ['update', 'tentang', 'tugas', 'akhir'], ['update', 'tentang', 'ta'], ['update', 'tentang', 'ta', 'lihat', 'mana'], ['update', 'tentang', 'tugas', 'akhir', 'lihat', 'mana'], ['mana', 'bisa', 'akses', 'updatean', 'tentang', 'tugas', 'akhir'], ['mana', 'bisa', 'akses', 'updatean', 'ta'], ['info', 'tentang', 'ta'], ['info', 'tentang', 'tugas', 'akhir'], ['info', 'ta', 'dong'], ['info', 'tugas', 'akhir', 'dong'], ['website', 'buat', 'liat', 'informasi', 'tentang', 'ta'], ['website', 'buat', 'liat', 'informasi', 'tentang', 'tugas', 'akhir'], ['informasi', 'ta', 'dapat', 'mana'], ['informasi', 'tentang', 'tugas', 'akhir', 'dapat', 'mana'], ['informasi', 'ta', 'bisa', 'lihat', 'mana'], ['informasi', 'tugas', 'akhir', 'bisa', 'lihat', 'mana'], ['tempat', 'buat', 'lihat', 'informasi', 'tentang', 'ta'], ['tempat', 'buat', 'lihat', 'informasi', 'tentang', 'tugas', 'akhir'], ['untuk', 'tahu', 'informasi', 'tentang', 'ta', 'mana'], ['untuk', 'tahu', 'informasi', 'tentang', 'tugas', 'akhir', 'mana'], ['buat', 'tahu', 'informasi', 'tentang', 'ta', 'mana', 'ya'], ['buat', 'tahu', 'informasi', 'tentang', 'tugas', 'akhir', 'mana', 'ya'], ['mana', 'sih', 'buat', 'akses', 'informasi', 'ta'], ['mana', 'sih', 'buat', 'akses', 'informasi', 'tugas', 'akhir'], ['bagaimana', 'tata', 'cara', 'laku', 'daftar', 'seminar', 'proposal'], ['daftar', 'seminar', 'proposal'], ['daftar', 'sempro'], ['bagaimana', 'daftar', 'sempro'], ['daftar', 'sempro'], ['ingin', 'daftar', 'sempro'], ['saya', 'ingin', 'daftar', 'sempro'], ['daftar', 'seminar', 'proposal'], ['ingin', 'daftar', 'sempro'], ['daftar', 'seminar', 'proposal'], ['daftar', 'sempro'], ['cara', 'untuk', 'daftar', 'sempro'], ['tata', 'cara', 'daftar', 'seminar', 'proposal'], ['cara', 'untuk', 'daftar', 'seminar', 'proposal'], ['tata', 'cara', 'daftar', 'seminar', 'proposal'], ['bagaimana', 'cara', 'daftar', 'sempro'], ['pandu', 'untuk', 'daftar', 'seminar', 'proposal'], ['pandu', 'untuk', 'daftar', 'sempro'], ['pandu', 'untuk', 'daftar', 'sempro'], ['pandu', 'untuk', 'daftar', 'seminar', 'proposal'], ['daftar', 'sempro'], ['daftar', 'seminar', 'proposal'], ['yang', 'butuh', 'untuk', 'daftar', 'sempro'], ['yang', 'butuh', 'untuk', 'daftar', 'seminar', 'proposal'], ['dokumen', 'untuk', 'daftar', 'sempro'], ['dokumen', 'untuk', 'daftar', 'seminar', 'proposal'], ['dokumen', 'untuk', 'sempro'], ['dokumen', 'untuk', 'seminar', 'proposal'], ['dokumen', 'untuk', 'daftar', 'sempro'], ['dokumen', 'untuk', 'daftar', 'seminar', 'proposal'], ['daftar', 'sempro', 'gimana'], ['daftar', 'seminar', 'proposal', 'gimana'], ['pandu', 'daftar', 'sempro', 'gimana', 'ya'], ['pandu', 'daftar', 'seminar', 'proposal', 'gimana', 'ya'], ['daftar', 'sempro', 'bagaimana', 'ya'], ['daftar', 'seminar', 'proposal', 'bagaimana', 'ya'], ['mau', 'daftar', 'sempro', 'gimana', 'ya'], ['mau', 'daftar', 'seminar', 'proposal', 'gimana', 'ya'], ['untuk', 'daftar', 'sempro', 'harus', 'gimana', 'ya'], ['mau', 'daftar', 'seminar', 'proposal', 'harus', 'gimana', 'ya'], ['daftar', 'sempro', 'itu', 'gimana'], ['daftar', 'seminar', 'proposal', 'itu', 'gimana'], ['gimana', 'ya', 'daftar', 'sempro'], ['gimana', 'ya', 'daftar', 'seminar', 'proposal'], ['kalo', 'mau', 'daftar', 'sempro', 'gimana'], ['kalo', 'mau', 'daftar', 'seminar', 'proposal', 'gimana'], ['giamana', 'sih', 'daftar', 'sempro'], ['gimana', 'sih', 'daftar', 'seminar', 'proposal'], ['cara', 'buat', 'daftar', 'sempro', 'gimana'], ['cara', 'buat', 'daftar', 'seminar', 'proposal', 'gimana'], ['daftar', 'sempro', 'tu', 'gimana', 'ya'], ['daftar', 'seminar', 'proposal', 'tu', 'gimana', 'ya'], ['bagaimana', 'tata', 'cara', 'laku', 'daftar', 'sidang', 'akhir'], ['daftar', 'sidang', 'akhir'], ['daftar', 'sidang'], ['bagaimana', 'tata', 'cara', 'laku', 'daftar', 'sidang', 'tugas', 'akhir'], ['daftar', 'sidang', 'tugas', 'akhir'], ['daftar', 'sidang', 'ta'], ['daftar', 'sidang', 'skripsi'], ['daftar', 'sidang'], ['daftar', 'sidang', 'ta'], ['daftar', 'sidang', 'skripsi'], ['cara', 'untuk', 'daftar', 'sidang'], ['cara', 'untuk', 'daftar', 'sidang', 'akhir'], ['cara', 'untuk', 'daftar', 'sidang', 'ta'], ['cara', 'untuk', 'daftar', 'sidang', 'tugas', 'akhir'], ['cara', 'untuk', 'daftar', 'sidang', 'skripsi'], ['bagaimana', 'cara', 'daftar', 'sidang'], ['bagaimana', 'cara', 'daftar', 'sidang', 'akhir'], ['bagaimana', 'cara', 'daftar', 'sidang', 'ta'], ['bagaimana', 'cara', 'daftar', 'sidang', 'tugas', 'akhir'], ['bagaimana', 'cara', 'daftar', 'skripsi'], ['pandu', 'daftar', 'sidang'], ['pandu', 'daftar', 'sidang', 'akhir'], ['pandu', 'daftar', 'sidang', 'ta'], ['pandu', 'daftar', 'sidang', 'tugas', 'akhir'], ['pandu', 'daftar', 'sidang', 'skripsi'], ['daftar', 'sidang', 'ta'], ['daftar', 'sidang', 'tugas', 'akhir'], ['daftar', 'sidang', 'skripsi'], ['daftar', 'sidang'], ['daftar', 'sidang', 'ta'], ['daftar', 'sidang', 'akhir'], ['daftar', 'sidang', 'tugas', 'akhir'], ['daftar', 'sidang', 'skripsi'], ['saya', 'ingin', 'daftar', 'sidang'], ['aku', 'mau', 'daftar', 'sidang'], ['saya', 'ingin', 'daftar', 'sidang', 'ta'], ['saya', 'ingin', 'daftar', 'sidang', 'akhir'], ['saya', 'ingin', 'daftar', 'sidang', 'ta'], ['saya', 'ingin', 'datar', 'sidang', 'skripsi'], ['daftar', 'sidang', 'gimana', 'ya'], ['daftar', 'sidang', 'akhir', 'gimana', 'ya'], ['daftar', 'sidang', 'tugas', 'akhir', 'gimana', 'ya'], ['daftar', 'sidang', 'ta', 'gimana', 'ya'], ['daftar', 'sidang', 'skripsi', 'gimana', 'ya'], ['daftar', 'sidang', 'itu', 'bagaimana'], ['daftar', 'sidang', 'ta', 'itu', 'bagaimana'], ['daftar', 'sidang', 'tugas', 'akhir', 'itu', 'bagaimana'], ['daftar', 'sidang', 'akhir', 'itu', 'bagaimana'], ['daftar', 'sidang', 'skripsi', 'itu', 'bagaimana'], ['gimana', 'ya', 'daftar', 'sidang'], ['gimana', 'ya', 'daftar', 'sidang', 'akhir'], ['gimana', 'ya', 'daftar', 'sidang', 'ta'], ['gimana', 'ya', 'daftar', 'sidang', 'tugas', 'akhir'], ['gimana', 'ya', 'daftar', 'sidang', 'skripsi'], ['cara', 'buat', 'daftar', 'sidang'], ['cara', 'buat', 'daftar', 'sidang', 'akhir'], ['cara', 'buat', 'daftar', 'sidang', 'ta'], ['cara', 'buat', 'daftar', 'siang', 'tugas', 'akhir'], ['cara', 'buat', 'daftar', 'sidang', 'skripsi'], ['mau', 'daftar', 'sidang', 'harus', 'gimana', 'ya'], ['mau', 'daftar', 'sidang', 'akhir', 'harus', 'gimana', 'ya'], ['mau', 'daftar', 'siang', 'tugas', 'akhir', 'harus', 'gimana', 'ya'], ['mau', 'daftar', 'sidang', 'skripsi', 'harus', 'gimana', 'ya'], ['kalo', 'mau', 'daftar', 'sidang', 'gimana'], ['kalo', 'mau', 'daftar', 'sidang', 'akhir', 'gimana'], ['kalo', 'mau', 'daftar', 'sidang', 'ta', 'gimana'], ['kalo', 'mau', 'daftar', 'sidang', 'tugas', 'akhir', 'gimana'], ['kalo', 'mau', 'daftar', 'sidang', 'skripsi', 'gimana'], ['gimana', 'sih', 'cara', 'daftar', 'sidang'], ['gimana', 'sih', 'cara', 'daftar', 'sidang', 'akhir'], ['gimana', 'sih', 'cara', 'daftar', 'sidang', 'tugas', 'akhir'], ['gimana', 'sih', 'cara', 'daftar', 'sidang', 'skripsi'], ['daftar', 'sidang', 'gimana', 'sih', 'cara'], ['daftar', 'sidang', 'akhir', 'gimana', 'sih', 'cara'], ['daftar', 'sidang', 'tugas', 'akhir', 'gimana', 'sih', 'cara'], ['daftar', 'sidang', 'skripsi', 'gimana', 'sih', 'cara'], ['pandu', 'daftar', 'sidang', 'gimana', 'ya'], ['pandu', 'daftar', 'sidang', 'akhir', 'gimana', 'ya'], ['pandu', 'daftar', 'sidang', 'ta', 'gimana', 'ya'], ['pandu', 'daftar', 'sidang', 'tugas', 'akhir', 'gimana', 'ya'], ['pandu', 'daftar', 'sidang', 'skripsi', 'gimana', 'ya'], ['bagaimana', 'cara', 'daftar', 'sidang'], ['bagaimana', 'cara', 'daftar', 'sidang', 'ta'], ['bagaimana', 'cara', 'daftar', 'sidang', 'akhir'], ['bagaimana', 'cara', 'daftar', 'sidang', 'tugas', 'akhir'], ['bagaimana', 'cara', 'daftar', 'sidang', 'skripsi'], ['mau', 'daftar', 'sidang', 'gimana', 'ya'], ['mau', 'daftar', 'sidang', 'akhir', 'gimana', 'ya'], ['mau', 'daftar', 'sidang', 'ta', 'gimana', 'ya'], ['mau', 'daftar', 'sidang', 'tugas', 'akhir', 'gimana', 'ya'], ['daftar', 'sidang', 'tu', 'gimana'], ['daftar', 'sidang', 'tugas', 'akhir', 'tu', 'gimana'], ['daftar', 'sidang', 'ta', 'tu', 'gimana'], ['daftar', 'sidang', 'akhir', 'tu', 'gimana'], ['daftar', 'sidang', 'skripsi', 'tu', 'gimana'], ['mau', 'daftar', 'sidang', 'gimana', 'cara'], ['mau', 'daftar', 'sidang', 'akhir', 'gimana', 'cara'], ['mau', 'daftar', 'sidang', 'ta', 'gimana', 'cara'], ['mau', 'daftar', 'sidang', 'tugas', 'akhir', 'gimana', 'cara'], ['mau', 'daftar', 'sidang', 'skripsi', 'gimana', 'cara'], ['gimana', 'ya', 'cara', 'daftar', 'sidang'], ['bagaimana', 'tata', 'cara', 'laku', 'daftar', 'seminar', 'hasil'], ['daftar', 'seminar', 'hasil'], ['daftar', 'semhas'], ['bagaimana', 'tata', 'cara', 'laku', 'daftar', 'semhas'], ['daftar', 'seminar', 'hasil'], ['daftar', 'semhas'], ['daftar', 'semhas'], ['daftar', 'seminar', 'hasil'], ['ingin', 'daftar', 'semhas'], ['ingin', 'daftar', 'seminar', 'hasil'], ['ingin', 'daftar', 'semhas'], ['ingin', 'daftar', 'seminar', 'hasil'], ['cara', 'untuk', 'daftar', 'semhas'], ['cara', 'untuk', 'daftar', 'seminar', 'hasil'], ['tata', 'cara', 'daftar', 'semhas'], ['tata', 'cara', 'daftar', 'seminar', 'hasil'], ['bagaimana', 'cara', 'daftar', 'semhas'], ['bagaimana', 'cara', 'daftar', 'seminar', 'hasil'], ['gimana', 'daftar', 'semhas'], ['gimana', 'daftar', 'seminar', 'hasil'], ['bagaimana', 'daftar', 'semhas'], ['bagaimana', 'daftar', 'seminar', 'hasil'], ['saya', 'ingin', 'daftar', 'semhas'], ['saya', 'ingin', 'daftar', 'seminar', 'hasil'], ['aku', 'mau', 'daftar', 'semhas'], ['aku', 'mau', 'daftar', 'seminar', 'hasil'], ['dokumen', 'untuk', 'daftar', 'semhas'], ['dokumen', 'untuk', 'daftar', 'seminar', 'hasil'], ['dokumen', 'untuk', 'daftar', 'semhas'], ['dokumen', 'untuk', 'daftar', 'seminar', 'hasil'], ['dokumen', 'daftar', 'semhas'], ['dokumen', 'daftar', 'seminar', 'hasil'], ['pandu', 'daftar', 'semhas'], ['pandu', 'daftar', 'seminar', 'hasil'], ['pandu', 'untuk', 'daftar', 'semhas'], ['pandu', 'untuk', 'daftar', 'seminar', 'hasil'], ['dokumen', 'semhas'], ['dokumen', 'seminar', 'hasil'], ['daftar', 'semhas', 'gimana', 'ya'], ['daftar', 'seminar', 'hasil', 'gimana', 'ya'], ['pandu', 'daftar', 'semhas', 'gimana', 'ya'], ['pandu', 'daftar', 'seminar', 'hasil', 'gimana', 'ya'], ['daftar', 'semhas', 'bagaimana'], ['daftar', 'seminar', 'hasil', 'bagaimana'], ['mau', 'daftar', 'semhas', 'gimana', 'ya'], ['mau', 'daftar', 'seminar', 'hasil', 'gimana', 'ya'], ['untuk', 'daftar', 'semhas', 'harus', 'gimana', 'ya'], ['untuk', 'daftar', 'seminar', 'hasil', 'harus', 'gimana', 'ya'], ['daftar', 'semhas', 'itu', 'bagaimana'], ['daftar', 'seminar', 'hasil', 'itu', 'bagaimana'], ['daftar', 'semhas', 'tu', 'gimana'], ['daftar', 'seminar', 'hasil', 'tu', 'gimana'], ['kalo', 'mau', 'daftar', 'semhas', 'gimana'], ['kalo', 'mau', 'daftar', 'seminar', 'hasil', 'gimana'], ['gimana', 'sih', 'daftar', 'semhas'], ['gimana', 'sih', 'daftar', 'seminar', 'hasil'], ['cara', 'buat', 'daftar', 'semhas', 'gimana'], ['cara', 'buat', 'daftar', 'seminar', 'hasil', 'gimana'], ['bagaimana', 'tata', 'cara', 'laku', 'daftar', 'yudisium'], ['daftar', 'yudisium'], ['daftar', 'yudisium'], ['daftar', 'yudisium'], ['bagaimana', 'cara', 'daftar', 'yudisium'], ['cara', 'daftar', 'yudisium'], ['bagaimana', 'daftar', 'yudisium'], ['gimana', 'cara', 'daftar', 'yudisium'], ['gimana', 'daftar', 'yudisium'], ['gimana', 'tata', 'cara', 'daftar', 'yudisium'], ['daftar', 'yudisium', 'gimana'], ['daftar', 'yudisium', 'bagaimana'], ['cara', 'daftar', 'yudisium', 'gimana'], ['ingin', 'daftar', 'yudisium'], ['gimana', 'daftar', 'diri', 'untuk', 'yudisium'], ['bagaimana', 'daftar', 'diri', 'untuk', 'yudisium'], ['gimana', 'daftar', 'yudisium'], ['bagaimana', 'daftar', 'yudisium'], ['daftar', 'yudisium', 'bagaimana', 'ya'], ['daftar', 'yudisium', 'gimana', 'ya'], ['daftar', 'yudisium', 'gimana', 'ya'], ['daftar', 'yudisium', 'bagaimana', 'ya'], ['yudisium', 'gimana', 'cara', 'daftar'], ['yudisium', 'bagaimana', 'cara', 'daftar'], ['yudisium', 'gimana', 'daftar'], ['yudisium', 'bagaimana', 'daftar'], ['daftar', 'yudisium'], ['daftar', 'yudisium', 'gimana', 'ya'], ['daftar', 'yudisium', 'bagaimana', 'ya'], ['pandu', 'daftar', 'yudisium', 'gimana', 'ya'], ['daftar', 'yudisium', 'bagaimana', 'ya'], ['mau', 'daftar', 'yudisium', 'gimana'], ['mau', 'daftar', 'yudisium', 'gimana', 'ya'], ['mau', 'daftar', 'yudisium', 'bagaimana', 'ya'], ['mau', 'daftar', 'yudisium', 'bagaimana'], ['kalo', 'mau', 'daftar', 'yudisium', 'harus', 'gimana'], ['kalo', 'mau', 'daftar', 'yudisium', 'itu', 'gimana'], ['untuk', 'daftar', 'yudisium', 'harus', 'gimana'], ['untuk', 'daftar', 'yudisium', 'gimana', 'ya'], ['untuk', 'daftar', 'yudisium', 'bagaimana', 'ya'], ['untuk', 'daftar', 'yudisium', 'harus', 'gimana'], ['daftar', 'yudisium', 'gimana', 'sih'], ['daftar', 'yudisium', 'bagaimana', 'sih'], ['daftar', 'yudisium', 'itu', 'gimana'], ['daftar', 'yudisium', 'itu', 'bagaimana'], ['daftar', 'yudisium', 'tu', 'gimana'], ['daftar', 'yudisium', 'tu', 'bagaimana'], ['gimana', 'ya', 'daftar', 'yudisium'], ['bagaimana', 'ya', 'daftar', 'yudisium'], ['gimana', 'sih', 'daftar', 'yudisium'], ['bagaimana', 'sih', 'daftar', 'yudisium'], ['bagaimana', 'tata', 'cara', 'laku', 'daftar', 'wisuda'], ['daftar', 'wisuda'], ['daftar', 'wisuda'], ['daftar', 'wisuda'], ['bagaimana', 'cara', 'daftar', 'wisuda'], ['cara', 'daftar', 'wisuda'], ['bagaimana', 'daftar', 'wisuda'], ['gimana', 'cara', 'daftar', 'wisuda'], ['gimana', 'daftar', 'wisuda'], ['daftar', 'wisuda', 'gimana', 'ya'], ['gimana', 'tata', 'cara', 'daftar', 'wisuda'], ['bagimana', 'tata', 'cara', 'daftar', 'wisuda'], ['daftar', 'wisuda', 'gimana'], ['daftar', 'wisuda', 'bagaimana'], ['cara', 'daftar', 'wisuda', 'gimana'], ['cara', 'daftar', 'wisuda', 'bagaimana'], ['ingin', 'daftar', 'wisuda'], ['ingin', 'daftar', 'wisuda'], ['mau', 'daftar', 'wisuda'], ['gimana', 'daftar', 'diri', 'untuk', 'wisuda'], ['bagaimana', 'daftar', 'diri', 'untuk', 'wisuda'], ['gimana', 'daftar', 'wisuda'], ['bagaimana', 'daftar', 'wisuda'], ['datar', 'wisuda', 'bagaimana', 'ya'], ['daftar', 'wisuda', 'gimana', 'ya'], ['daftar', 'wisuda', 'gimana', 'ya'], ['daftar', 'wisuda', 'bagaimana', 'ya'], ['wisuda', 'gimana', 'cara', 'daftar'], ['wisuda', 'bagaimana', 'cara', 'daftar'], ['wisuda', 'gimana', 'daftar'], ['wisuda', 'bagaimana', 'daftar'], ['cara', 'daftar', 'wisuda', 'bagaimana', 'ya'], ['daftar', 'wisuda', 'bagaimana', 'ya'], ['pandu', 'daftar', 'wisuda', 'gimana', 'ya'], ['daftar', 'wisuda', 'bagaimana', 'ya'], ['mau', 'daftar', 'wisuda', 'gimana'], ['mau', 'daftar', 'wisuda', 'gimana', 'ya'], ['mau', 'daftar', 'wisuda', 'bagaimana', 'ya'], ['mau', 'daftar', 'wisuda', 'bagaimana'], ['kalo', 'mau', 'daftar', 'wisuda', 'harus', 'gimana'], ['kalo', 'mau', 'daftar', 'wisuda', 'itu', 'gimana'], ['untuk', 'daftar', 'wisuda', 'harus', 'gimana'], ['untuk', 'daftar', 'wisuda', 'gimana', 'ya'], ['untuk', 'daftar', 'wisuda', 'bagaimana', 'ya'], ['untuk', 'daftra', 'wisuda', 'harus', 'gimana'], ['daftar', 'wisuda', 'gimana', 'sih'], ['daftar', 'wisuda', 'bagaimana', 'sih'], ['daftar', 'wisuda', 'itu', 'gimana'], ['daftar', 'wisuda', 'itu', 'bagaimana'], ['daftar', 'wisuda', 'tu', 'gimana'], ['daftar', 'wisuda', 'tu', 'bagaimana'], ['gimana', 'ya', 'daftar', 'wisuda'], ['bagaimana', 'ya', 'daftar', 'wisuda'], ['gimana', 'sih', 'daftar', 'wisuda'], ['bagaimana', 'sih', 'daftar', 'wisuda'], ['apakah', 'bisa', 'lulus', 'tanpa', 'kerja', 'skripsi'], ['apakah', 'bisa', 'lulus', 'tanpa', 'kerja', 'tugas', 'akhir'], ['lulus', 'tanpa', 'skripsi'], ['lulus', 'tanpa', 'ta'], ['lulus', 'tanpa', 'kerja', 'skripsi'], ['lulus', 'tanpa', 'kerja', 'ta'], ['lulus', 'tanpa', 'kerja', 'tugas', 'akhir'], ['saya', 'ingin', 'lulus', 'tanpa', 'kerja', 'tugas', 'akhir', 'apakah', 'bisa'], ['ingin', 'lulus', 'tanpa', 'kerja', 'skripsi'], ['ingin', 'lulus', 'tanpa', 'kerja', 'tugas', 'akhir'], ['ingin', 'lulus', 'tanpa', 'kerja', 'ta'], ['ingin', 'lulus', 'tanpa', 'sempro', 'dan', 'sidang'], ['ingin', 'lulus', 'tanpa', 'sempro'], ['ingin', 'lulus', 'tanpa', 'sidang'], ['saya', 'mau', 'lulus', 'tanpa', 'sidang'], ['aku', 'mau', 'lulus', 'tanpa', 'sidang'], ['apakah', 'telah', 'submit', 'jurnal', 'langsung', 'yudisium'], ['seta', 'submit', 'jurnal', 'apakah', 'harus', 'buat', 'lapor', 'tugas', 'akhir'], ['apakah', 'harus', 'buat', 'lapor', 'tugas', 'akhir', 'agar', 'dapat', 'di', 'ekuivalensi'], ['apakah', 'bisa', 'lulus', 'tanpa', 'sidang', 'skripsi'], ['apakah', 'bisa', 'lulus', 'tanpa', 'sidang', 'ta'], ['apakah', 'bisa', 'lulus', 'tanpa', 'sidang', 'tugas', 'akhir'], ['apakah', 'bisa', 'lulus', 'tanpa', 'sidang', 'akhir'], ['apakah', 'bisa', 'lulus', 'tanpa', 'sidang'], ['bisa', 'lulus', 'tanpa', 'sidang'], ['bisa', 'lulus', 'tanpa', 'sidang', 'ta'], ['bisa', 'lulus', 'tanpa', 'sidang', 'akhir'], ['bisa', 'lulus', 'tanpa', 'sidang', 'skripsi'], ['bisa', 'lulus', 'tanpa', 'sidang', 'tugas', 'akhir'], ['gimana', 'sih', 'lulus', 'tanpa', 'sidang'], ['gimana', 'sih', 'lulus', 'tanpa', 'ngerjain', 'ta'], ['gimana', 'sih', 'lulus', 'tanpa', 'ngerjain', 'tugas', 'akhir'], ['bisa', 'ya', 'lulus', 'tanpa', 'ta'], ['bisa', 'ya', 'lulus', 'tanpa', 'ngerjain', 'ta'], ['bisa', 'ya', 'lulus', 'tanpa', 'ngerjain', 'tugas', 'akhir'], ['lulus', 'tanpa', 'ngerjain', 'ta', 'gimana'], ['lulus', 'tanpa', 'ngerjain', 'tugas', 'akhir', 'gimana'], ['lulus', 'tanpa', 'ngerjain', 'skripsi', 'gimana'], ['tanpa', 'kerja', 'ta', 'apa', 'bisa', 'lulus'], ['tanpa', 'kerja', 'tugas', 'akhir', 'akhir', 'apa', 'bisa', 'lulus'], ['tanpa', 'kerja', 'skripsi', 'apa', 'bisa', 'lulus'], ['gimana', 'ya', 'lulus', 'tanpa', 'ta'], ['gimana', 'ya', 'lulus', 'tanpa', 'tugas', 'akhir'], ['gimana', 'ya', 'lulus', 'tanpa', 'skripsi'], ['ga', 'ngerjain', 'skripsi', 'bisa', 'lulus', 'ga'], ['ga', 'ngerjain', 'ta', 'bisa', 'lulus', 'ga'], ['ga', 'ngerjain', 'tugas', 'akhir', 'bisa', 'lulus', 'ga'], ['tidak', 'kerja', 'skripsi', 'apakah', 'bisa', 'lulus'], ['tidak', 'kerja', 'ta', 'apakah', 'bisa', 'lulus'], ['tidak', 'kerja', 'tugas', 'akhir', 'apakah', 'bisa', 'lulus'], ['lulus', 'jalur', 'ga', 'ngerjain', 'skripsi'], ['lulus', 'jalur', 'ga', 'ngerjain', 'ta'], ['lulus', 'jalur', 'ga', 'ngerjain', 'tugas', 'akhir'], ['bagaimana', 'lulus', 'tanpa', 'kerja', 'tugas', 'akhir'], ['bagaimana', 'lulus', 'tanpa', 'kerja', 'skirpsi'], ['bagaimana', 'lulus', 'tanpa', 'buat', 'skripsi'], ['bagaimana', 'lulus', 'tanpa', 'buat', 'tugas', 'akhir'], ['gimana', 'lulus', 'tanpa', 'kerja', 'tugas', 'akhir'], ['gimana', 'lulus', 'tanpa', 'kerja', 'skripsi'], ['gimana', 'lulus', 'tanpa', 'buat', 'tugas', 'akhir'], ['gimana', 'lulus', 'tanpa', 'buat', 'skripsi'], ['lulus', 'tanpa', 'skripsi', 'bagaimana'], ['lulus', 'tanpa', 'skripsi', 'bagaimana'], ['lulus', 'tanpa', 'sidang', 'akhir', 'bagaimana'], ['lulus', 'tanpa', 'sidang', 'skripsi', 'bagaimana'], ['lulus', 'tanpa', 'sidang', 'ta', 'bagaimana'], ['lulus', 'tanpa', 'sidang', 'gimana'], ['lulus', 'tanpa', 'sidang', 'akhir', 'gimana'], ['lulus', 'tanpa', 'sidang', 'skripsi', 'gimana'], ['lulus', 'tanpa', 'isdang', 'ta', 'gimana'], ['lulup', 'tanpa', 'ta', 'gimana'], ['lulus', 'tanpa', 'skripsi', 'gimana'], ['gimana', 'sih', 'lulus', 'tanpa', 'ta'], ['gimana', 'sih', 'lulus', 'tanpa', 'tugas', 'akhir'], ['gimana', 'sih', 'lulus', 'tanpa', 'skripsi'], ['ekuivalensi', 'tu', 'gimana'], ['ekuivalensi', 'tu', 'bagaimana'], ['ekuivalensi', 'itu', 'gimana'], ['ekuivalensi', 'itu', 'bagaimana'], ['gimana', 'lulus', 'dengan', 'ekuivalensi'], ['bagaimana', 'lulus', 'dengan', 'ekuivalensi'], ['gimana', 'ya', 'lulus', 'dengan', 'ekuivalensi'], ['bagaimana', 'ya', 'lulus', 'dengan', 'ekuivalensi'], ['lulus', 'dengan', 'ekuivalensi', 'gimana'], ['lulus', 'dengan', 'ekuivalensi', 'bagaimana'], ['lulus', 'jalur', 'ekuivalensi', 'gimana', 'ya'], ['lulus', 'jalur', 'ekuivalensi', 'bagaimana', 'ya'], ['ekuivalensi', 'tugas', 'akhir'], ['ekuivalensi', 'ta'], ['ekuivalensi', 'skrispi'], ['biar', 'bisa', 'ekuivalensi', 'ta', 'harus', 'gimana'], ['biar', 'bisa', 'ekuivalensi', 'tugas', 'akhir', 'gimana'], ['biar', 'bisa', 'ekuivalensi', 'skripsi', 'gimana'], ['supaya', 'bisa', 'ekuivalensi', 'ta', 'gimana', 'ya'], ['supaya', 'bisa', 'ekuivalensi', 'tugas', 'akhir', 'gimana', 'ya'], ['supaya', 'bisa', 'ekuivalensi', 'skripsi', 'gimana'], ['lulus', 'via', 'ekuivalensi', 'ta', 'gimana', 'sih'], ['lulus', 'via', 'ekuivalensi', 'tugas', 'akhir', 'gimana', 'sih'], ['lulus', 'via', 'ekuivalensi', 'skripsi', 'gimana', 'sih'], ['ekuivalensi', 'tugas', 'akhir', 'gimana', 'sih'], ['ekuivalensi', 'ta', 'gimana', 'sih'], ['ekuivalensi', 'skripsi', 'gimana', 'sih'], ['kalo', 'mau', 'ekuivalensi', 'ta', 'harus', 'gimana'], ['kalo', 'mau', 'ekuivalensi', 'tugas', 'akhir', 'harus', 'gimana'], ['apakah', 'tugas', 'akhir', 'bisa', 'ganti', 'dengan', 'yang', 'lain'], ['apakah', 'juara', 'lomba', 'dapat', 'ganti', 'tugas', 'akhir'], ['apakah', 'publish', 'jurnal', 'dapat', 'di', 'ekuvalensi', 'dengan', 'nilai', 'tugas', 'akhir'], ['giat', 'yang', 'dapat', 'di', 'ekuivalensi', 'dengan', 'tugas', 'akhir'], ['giat', 'yang', 'dapat', 'di', 'ekuivalensi', 'dengan', 'ta'], ['giat', 'ekuivalensi', 'ta'], ['giat', 'ekuivalensi', 'tugas', 'akhir'], ['apa', 'saja', 'giat', 'yang', 'dapat', 'ganti', 'ta'], ['giat', 'yang', 'dapat', 'ganti', 'tugas', 'akhir'], ['giat', 'yang', 'dapat', 'ganti', 'ta'], ['ekuivalensi', 'ta'], ['ekuivalensi', 'tugas', 'akhir'], ['jenis', 'giat', 'yang', 'dapat', 'ekuivalensi'], ['giat', 'yang', 'ekuivalensi'], ['apakah', 'magang', 'biasa', 'dapat', 'ekuivalensi', 'jadi', 'ta'], ['apakah', 'magang', 'biasa', 'dapat', 'ekuivalensi', 'jadi', 'tugas', 'akhir'], ['macam', 'giat', 'yang', 'dapat', 'ekuivalensi', 'dengan', 'tugas', 'akhir'], ['macam', 'giat', 'yang', 'dapat', 'ekuivalensi', 'dengan', 'ta'], ['daftar', 'giat', 'yang', 'dapat', 'ekuivalensi', 'dengan', 'ta'], ['daftar', 'giat', 'yang', 'dapat', 'ekuivalensi', 'dengan', 'tugas', 'akhir'], ['giat', 'yang', 'bisa', 'ekuivalensi', 'dengan', 'ta'], ['giat', 'yang', 'bisa', 'ekuivalensi', 'dengan', 'tugas', 'akhir'], ['ekuivalensi', 'tugas', 'akhir', 'dengan', 'giat', 'apa', 'saja'], ['ekuivalensi', 'ta', 'dengan', 'giat', 'apa', 'saja'], ['apakah', 'ekuivalensi', 'tugas', 'akhir', 'hanya', 'dengan', 'menang', 'lomba', 'saja'], ['apakah', 'ekuivalensi', 'tugas', 'akhir', 'hanya', 'dengan', 'publish', 'jurnal', 'saja'], ['apakah', 'ekuivalensi', 'tugas', 'akhir', 'hanya', 'dengan', 'magang', 'bumn', 'saja'], ['jenisjenis', 'giat', 'ekuvalensi', 'tugas', 'akhir'], ['jenisjenis', 'giat', 'ekuivalensi', 'ta'], ['macammacam', 'giat', 'ekuvalensi', 'ta'], ['macammacam', 'giat', 'ekuivalensi', 'tugas', 'akhir'], ['jenisjenis', 'giat', 'yang', 'dapat', 'ekuivalensi', 'jadi', 'ta'], ['jenisjenis', 'giat', 'yang', 'dapat', 'ekuivalensi', 'jadi', 'tugas', 'akhir'], ['giat', 'apa', 'saja', 'yang', 'dapat', 'diekuvalensi', 'jadi', 'tugas', 'akhir'], ['giat', 'apa', 'saja', 'yang', 'dapat', 'diekuvalensi', 'jadi', 'ta'], ['giat', 'apa', 'saja', 'yang', 'ekuivalensi', 'jadi', 'tugas', 'akhir'], ['giat', 'apa', 'saja', 'yang', 'ekuivalensi', 'jadi', 'ta'], ['giat', 'yang', 'ekuivalensi', 'jadi', 'ta'], ['giat', 'yang', 'ekuivalensi', 'jadi', 'tugas', 'akhir'], ['giat', 'ganti', 'tugas', 'akhir'], ['giat', 'ganti', 'ta'], ['giat', 'yang', 'ganti', 'tugas', 'akhir'], ['giat', 'yang', 'ganti', 'ta'], ['ganti', 'ta'], ['ganti', 'tugas', 'akhir'], ['giat', 'yang', 'jadi', 'ganti', 'ta'], ['giat', 'yang', 'jadi', 'ganti', 'tugas', 'akhir'], ['giat', 'yang', 'ganti', 'tugas', 'akhir'], ['giat', 'yang', 'ganti', 'ta'], ['giat', 'apa', 'aja', 'yang', 'bisa', 'di', 'ekuivalensi'], ['giat', 'apa', 'aja', 'sih', 'yang', 'di', 'ekuivalensi', 'jadi', 'tugas', 'akhir'], ['giat', 'apa', 'aja', 'sih', 'yang', 'di', 'ekuivalensi', 'jadi', 'ta'], ['giat', 'ekuivalensi', 'ta', 'apa', 'aja'], ['giat', 'ekuivalensi', 'tugas', 'akhir', 'apa', 'aja'], ['apa', 'saja', 'tentu', 'ekuivalensi', 'tugas', 'akhir'], ['apa', 'saja', 'syarat', 'ekuivalensi', 'tugas', 'akhir'], ['tentu', 'ekuivalensi', 'tugas', 'akhir'], ['tentu', 'ekuivalensi', 'ta'], ['syarat', 'ekuivalensi', 'ta'], ['syarat', 'ekuivalensi', 'tugas', 'akhir'], ['apa', 'saja', 'tentu', 'untuk', 'ekuivalensi', 'tugas', 'akhir'], ['apa', 'saja', 'tentu', 'untuk', 'ekuivalensi', 'ta'], ['apa', 'saja', 'syarat', 'untuk', 'ekuvalensi', 'tugas', 'akhir'], ['apa', 'saja', 'syarat', 'untuk', 'ekuivalensi', 'ta'], ['tentu', 'untuk', 'ekuivalensi', 'tugas', 'akhir'], ['tentu', 'untuk', 'ekuvalensi', 'ta'], ['syarat', 'untuk', 'ekuivalensi', 'tugas', 'akhir'], ['syarat', 'untuk', 'ekuivalensi', 'ta'], ['info', 'tentang', 'ekuivalensi', 'tugas', 'akhir'], ['info', 'tentang', 'ekuvalensi', 'ta'], ['syarat', 'giat', 'untuk', 'ekuivalensi', 'tugas', 'akhir'], ['syarat', 'giat', 'untuk', 'ekuivalensi', 'ta'], ['tentu', 'giat', 'untuk', 'ekuivalensi', 'tugas', 'akhir'], ['tentu', 'giat', 'uuntuk', 'ekuivalensi', 'ta'], ['informasi', 'kena', 'ekuivalensi', 'ta'], ['informasi', 'kena', 'ekuivalensi', 'tugas', 'akhir'], ['informasi', 'tentang', 'ekuivalensi', 'tugas', 'akhir'], ['informasi', 'tentang', 'ekuivalensi', 'ta'], ['info', 'kena', 'ekuivalensi', 'ta'], ['info', 'kena', 'ekuivalensi', 'tugas', 'akhir'], ['syarat', 'ekuivalensi', 'ta', 'apa', 'aja'], ['syarat', 'ekuivalensi', 'tugas', 'akhir', 'apa', 'aja'], ['tentu', 'ekuivalensi', 'ta', 'apa', 'aja'], ['tentu', 'ekuivalensi', 'tugas', 'akhir', 'apa', 'aja'], ['ekuivalensi', 'ta', 'syarat', 'apa', 'aja'], ['ekuivalensi', 'tugas', 'akhir', 'syarat', 'apa', 'aja'], ['ekuivalensi', 'ta', 'tentu', 'apa', 'aja'], ['ekuivalensi', 'tugas', 'akhir', 'tentu', 'apa', 'aja'], ['kalo', 'mau', 'ekuivalensi', 'ta', 'syarat', 'apa', 'aja'], ['kalo', 'mau', 'ekuivalensi', 'tugas', 'akhir', 'syarat', 'apa', 'aja'], ['apa', 'aja', 'sih', 'syarat', 'ekuivalensi', 'ta'], ['apa', 'aja', 'sih', 'syarat', 'ekuivalensi', 'tugas', 'akhir'], ['ekuivalensi', 'tugas', 'akhir', 'syarat', 'apa', 'aja', 'sih'], ['ekuivalensi', 'ta', 'syarat', 'apa', 'aja', 'sih'], ['yang', 'harus', 'penuh', 'untuk', 'ekuivalensi', 'ta'], ['yang', 'harus', 'penuh', 'untuk', 'ekuivalensi', 'tugas', 'akhir'], ['syarat', 'yang', 'harus', 'penuh', 'untuk', 'ekuivalensi', 'ta'], ['syarat', 'yang', 'harus', 'penuh', 'untuk', 'ekuivalensi', 'tugas', 'akhir'], ['apa', 'aja', 'syarat', 'yang', 'harus', 'penuh', 'untuk', 'ekuivalensi', 'ta'], ['apa', 'aja', 'syarat', 'yang', 'harus', 'penuh', 'untuk', 'ekuivalensi', 'tugas', 'akhir'], ['ekuivalensi', 'ta', 'syarat', 'apa'], ['ekuivalensi', 'tugas', 'akhir', 'syarat', 'apa'], ['ekuivalensi', 'ta', 'tentu', 'apa'], ['ekuivalensi', 'tugas', 'akhir', 'tentu', 'apa'], ['syarat', 'buat', 'ekuivalensi', 'ta'], ['syarat', 'buat', 'ekuivalensi', 'tugas', 'akhir'], ['tentu', 'buat', 'ekuivalensi', 'ta'], ['tentu', 'buat', 'ekuivalensi', 'tugas', 'akhir'], ['siap', 'apa', 'saja', 'untuk', 'laku', 'seminar', 'proposal'], ['apa', 'yang', 'harus', 'siap', 'untuk', 'seminar', 'proposal'], ['siap', 'apa', 'saja', 'untuk', 'laku', 'sempro'], ['apa', 'yang', 'harus', 'siap', 'untuk', 'sempro'], ['yang', 'siap', 'untuk', 'seminar', 'proposal'], ['yang', 'siap', 'untuk', 'sempro'], ['yang', 'harus', 'siap', 'untuk', 'seminar', 'proposal'], ['yang', 'harus', 'siap', 'untuk', 'sempro'], ['siap', 'sempro'], ['siap', 'seminar', 'proposal'], ['siap', 'untuk', 'seminar', 'proposal'], ['siap', 'untuk', 'sempro'], ['apa', 'aja', 'siap', 'untuk', 'sempro'], ['apa', 'aja', 'siap', 'untuk', 'seminar', 'proposal'], ['siap', 'sempro', 'apa', 'saja'], ['siap', 'seminar', 'proposal', 'apa', 'saja'], ['siap', 'untuk', 'seminar', 'proposal', 'apa', 'aja'], ['siap', 'untuk', 'sempro', 'apa', 'aja'], ['harus', 'siap', 'apa', 'saja', 'untuk', 'sempro'], ['harus', 'siap', 'apa', 'saja', 'untuk', 'sempro'], ['apa', 'aja', 'yang', 'harus', 'siap', 'untuk', 'sempro'], ['apa', 'aja', 'yang', 'harus', 'siap', 'untuk', 'seminar', 'proposal'], ['siap', 'yang', 'harus', 'siap', 'untuk', 'sempro'], ['siap', 'yang', 'harus', 'siap', 'untuk', 'seminar', 'proposal'], ['belum', 'sempro', 'apa', 'yang', 'harus', 'siap'], ['siap', 'sempro', 'apa', 'aja', 'sih'], ['siap', 'seminar', 'proposal', 'apa', 'aja', 'sih'], ['siap', 'sempro', 'gimana'], ['siap', 'seminar', 'proposal', 'gimana'], ['bagaimana', 'siap', 'sempro'], ['bagaimana', 'siap', 'seminar', 'proposal'], ['siap', 'sempro', 'apa', 'aja', 'ya'], ['siap', 'seminar', 'proposal', 'apa', 'aja', 'ya'], ['apa', 'aja', 'ya', 'siap', 'untuk', 'sempro'], ['apa', 'aja', 'ya', 'siap', 'untuk', 'seminar', 'proposal'], ['apa', 'aja', 'ya', 'siap', 'buat', 'sempro'], ['apa', 'aja', 'ya', 'siap', 'buat', 'seminar', 'proposal'], ['harus', 'siap', 'apa', 'saja', 'untuk', 'sempro'], ['harus', 'siap', 'apa', 'saja', 'untuk', 'seminar', 'proposal'], ['harus', 'siap', 'apa', 'aja', 'buat', 'sempro'], ['harus', 'siap', 'apa', 'aja', 'buat', 'seminar', 'proposal'], ['kalo', 'mau', 'sempro', 'harus', 'siapin', 'apa', 'aja'], ['kalo', 'seminar', 'proposal', 'harus', 'siapin', 'apa', 'aja'], ['siap', 'sempro', 'apa'], ['siap', 'seminar', 'proposal', 'apa'], ['apa', 'aja', 'yang', 'siap', 'untuk', 'sempro'], ['apa', 'aja', 'yang', 'siap', 'untuk', 'seminar', 'proposal'], ['sempro', 'harus', 'nyiapin', 'apa', 'aja'], ['seminar', 'proposal', 'harus', 'nyiapin', 'apa', 'aja'], ['untuk', 'seminar', 'proposal', 'apa', 'aja', 'yang', 'harus', 'disiapin'], ['untuk', 'sempro', 'apa', 'aja', 'yang', 'harus', 'disiapin'], ['buat', 'sempro', 'apa', 'aja', 'yang', 'disiapin'], ['buat', 'seminar', 'proposal', 'apa', 'aja', 'yang', 'disiapin'], ['siap', 'apa', 'saja', 'untuk', 'laku', 'sidang', 'tugas', 'akhir'], ['apa', 'yang', 'harus', 'siap', 'untuk', 'sidang', 'tugas', 'akhir'], ['siap', 'apa', 'saja', 'untuk', 'laku', 'sidang', 'akhir'], ['siap', 'apa', 'saja', 'untuk', 'laku', 'sidang', 'skripsi'], ['siap', 'apa', 'saja', 'untuk', 'laku', 'sidang', 'ta'], ['yang', 'siap', 'untuk', 'sidang', 'ta'], ['yang', 'siap', 'untuk', 'sidang', 'tugas', 'akhir'], ['yang', 'siap', 'untuk', 'sidang', 'akhir'], ['yang', 'siap', 'untuk', 'sidang', 'skripsi'], ['siap', 'sidang', 'tugas', 'akhir'], ['siap', 'sidang'], ['siap', 'sidang', 'akhir'], ['siap', 'sidang', 'skripsi'], ['siap', 'untuk', 'sidang'], ['siap', 'untuk', 'sidang', 'akhir'], ['siap', 'untuk', 'sidang', 'tugas', 'akhir'], ['siap', 'untuk', 'sidang', 'skripsi'], ['siap', 'sidang', 'apa', 'saja'], ['siap', 'sidang', 'akhir', 'apa', 'saja'], ['siap', 'sidang', 'tugas', 'akhir', 'apa', 'saja'], ['siap', 'sidang', 'skripsi', 'apa', 'saja'], ['harus', 'siap', 'apa', 'saja', 'untuk', 'sidang'], ['harus', 'siap', 'apa', 'saja', 'untuk', 'sidang', 'akhir'], ['harus', 'siap', 'apa', 'saja', 'untuk', 'sidang', 'ta'], ['harus', 'siap', 'apa', 'saja', 'untuk', 'sidang', 'tugas', 'akhir'], ['harus', 'siap', 'apa', 'saja', 'untuk', 'sidang', 'skripsi'], ['siap', 'yang', 'harus', 'siap', 'untuk', 'sidang'], ['siap', 'yang', 'harus', 'siap', 'untuk', 'sidang', 'akhir'], ['siap', 'yang', 'harus', 'siap', 'untuk', 'sidang', 'ta'], ['siap', 'yang', 'harus', 'siap', 'untuk', 'sidang', 'tugas', 'akhir'], ['siap', 'yang', 'harus', 'siap', 'untuk', 'sidang', 'skripsi'], ['siap', 'sidang', 'apa', 'aja', 'ya'], ['siap', 'sidang', 'akhir', 'apa', 'aja', 'ya'], ['siap', 'sidang', 'ta', 'apa', 'aja', 'ya'], ['siap', 'sidang', 'tugas', 'akhir', 'apa', 'aja', 'ya'], ['siap', 'sidang', 'skripsi', 'apa', 'aja', 'ya'], ['apa', 'aja', 'ya', 'siap', 'untuk', 'sidang'], ['apa', 'aja', 'ya', 'siap', 'untuk', 'sidang', 'akhir'], ['apa', 'aja', 'ya', 'siap', 'untuk', 'sidang', 'ta'], ['apa', 'aja', 'ya', 'siap', 'untuk', 'sidang', 'tugas', 'akhir'], ['apa', 'aja', 'ya', 'siap', 'untuk', 'sidang', 'skripsi'], ['harus', 'siap', 'apa', 'aja', 'untuk', 'sidang'], ['harus', 'siap', 'apa', 'aja', 'untuk', 'sidang', 'akhir'], ['harus', 'siap', 'apa', 'aja', 'untuk', 'sidang', 'ta'], ['harus', 'siap', 'apa', 'aja', 'untuk', 'sidang', 'tugas', 'akhir'], ['harus', 'siap', 'apa', 'aja', 'untuk', 'sidang', 'skripsi'], ['siap', 'sidang', 'apa'], ['siap', 'sidang', 'akhir', 'apa'], ['siap', 'sidang', 'ta', 'apa'], ['siap', 'sidang', 'tugas', 'akhir', 'apa'], ['siapa', 'sidang', 'skripsi', 'apa'], ['untuk', 'sidang', 'apa', 'aja', 'yang', 'harus', 'disiapin'], ['untuk', 'sidang', 'akhir', 'apa', 'aja', 'yang', 'harus', 'disiapin'], ['untuk', 'sidang', 'ta', 'apa', 'aja', 'yang', 'harus', 'disiapin'], ['untuk', 'sidang', 'tugas', 'akhir', 'apa', 'aja', 'yang', 'harus', 'disiapin'], ['untuk', 'sidang', 'skripsi', 'apa', 'aja', 'yang', 'harus', 'disiapin'], ['siap', 'apa', 'saja', 'untuk', 'laku', 'seminar', 'hasil'], ['apa', 'yang', 'harus', 'siap', 'untuk', 'seminar', 'hasil'], ['siap', 'apa', 'saja', 'untuk', 'laku', 'semhas'], ['apa', 'yang', 'harus', 'siap', 'untuk', 'semhas'], ['yang', 'siap', 'untuk', 'seminar', 'hasil'], ['yang', 'siap', 'untuk', 'semhas'], ['yang', 'harus', 'siap', 'untuk', 'seminar', 'hasil'], ['yang', 'harus', 'siap', 'untuk', 'semhas'], ['siap', 'semhas'], ['siap', 'seminar', 'hasil'], ['siap', 'untuk', 'seminar', 'hasil'], ['siap', 'untuk', 'semhas'], ['apa', 'aja', 'siap', 'untuk', 'semhas'], ['apa', 'aja', 'siap', 'untuk', 'seminar', 'hasil'], ['siap', 'semhas', 'apa', 'saja'], ['siap', 'seminar', 'hasil', 'apa', 'saja'], ['siap', 'untuk', 'seminar', 'hasil', 'apa', 'aja'], ['siap', 'untuk', 'semhas', 'apa', 'aja'], ['harus', 'siap', 'apa', 'saja', 'untuk', 'semhas'], ['harus', 'siap', 'apa', 'saja', 'untuk', 'semhas'], ['apa', 'aja', 'yang', 'harus', 'siap', 'untuk', 'semhas'], ['apa', 'aja', 'yang', 'harus', 'siap', 'untuk', 'seminar', 'hasil'], ['siap', 'yang', 'harus', 'siap', 'untuk', 'semhas'], ['siap', 'yang', 'harus', 'siap', 'untuk', 'seminar', 'hasil'], ['belum', 'semhas', 'apa', 'yang', 'harus', 'siap'], ['siap', 'semhas', 'apa', 'sih'], ['siap', 'seminar', 'hasil', 'apa', 'sih'], ['apa', 'aja', 'sih', 'siap', 'untuk', 'semhas'], ['apa', 'aja', 'sih', 'siap', 'untuk', 'seminar', 'hasil'], ['siap', 'semhas', 'gimana'], ['siap', 'seminar', 'hasil', 'gimana'], ['siap', 'semhas', 'bagaimana'], ['siap', 'seminar', 'hasil', 'bagaimana'], ['gimana', 'siap', 'semhas'], ['gimana', 'siap', 'seminar', 'hasil'], ['bagaimana', 'siap', 'semhas'], ['bagaimana', 'siap', 'seminar', 'hasil'], ['apa', 'aja', 'ya', 'siap', 'untuk', 'semhas'], ['apa', 'aja', 'ya', 'siap', 'untuk', 'seminar', 'hasil'], ['siap', 'buat', 'semhas', 'apa', 'aja'], ['siap', 'buat', 'seminar', 'hasil', 'apa', 'aja'], ['apa', 'aja', 'yang', 'harus', 'siap', 'untuk', 'semhas'], ['apa', 'aja', 'yang', 'harus', 'siap', 'untuk', 'seminar', 'hasil'], ['nyiapin', 'apa', 'aja', 'buat', 'semhas'], ['nyiapin', 'apa', 'aja', 'buat', 'seminar', 'hasil'], ['siap', 'apa', 'aja', 'untuk', 'semhas'], ['siap', 'apa', 'aja', 'untuk', 'seminar', 'hasil'], ['siap', 'semhas', 'apa', 'aja', 'sih'], ['siap', 'seminar', 'hasil', 'apa', 'aja', 'sih'], ['semhas', 'harus', 'siapin', 'apa', 'aja'], ['seminar', 'hasil', 'harus', 'siapin', 'apa', 'aja'], ['siap', 'apa', 'saja', 'untuk', 'laku', 'yudisium'], ['apa', 'yang', 'harus', 'siap', 'untuk', 'yudisium'], ['siap', 'yudisium'], ['siap', 'untuk', 'yudisium'], ['yang', 'harus', 'siap', 'untuk', 'yudisium'], ['siap', 'apa', 'saja', 'untuk', 'laku', 'yudisium'], ['yang', 'siap', 'untuk', 'yudisium'], ['apa', 'yang', 'harus', 'siap', 'untuk', 'yudisium'], ['apa', 'aja', 'siap', 'untuk', 'yudisium'], ['siap', 'untuk', 'yudisium', 'apa', 'aja'], ['siap', 'yudisium', 'apa', 'aja'], ['siap', 'yudisium', 'apa', 'aja', 'sih'], ['siap', 'yudisium', 'apa', 'aja', 'ya'], ['siap', 'untuk', 'yudisium', 'apa'], ['siap', 'untuk', 'yudisium', 'apa', 'aja', 'sih'], ['siap', 'untuk', 'yudisium', 'apa', 'aja', 'ya'], ['siap', 'buat', 'yudisium'], ['siap', 'buat', 'yudisium', 'apa'], ['siap', 'buat', 'yudisium', 'apa', 'aja'], ['siap', 'buat', 'yudisium', 'apa', 'aja', 'ya'], ['siap', 'buat', 'yudisium', 'apa', 'aja', 'sih'], ['apa', 'aja', 'sih', 'siap', 'untuk', 'yudisium'], ['apa', 'aja', 'sih', 'siap', 'buat', 'yudisium'], ['nyiapin', 'apa', 'aja', 'untuk', 'yudisium'], ['nyiapin', 'apa', 'aja', 'buat', 'yudisium'], ['siap', 'yang', 'harus', 'siap', 'untuk', 'yudisium'], ['siap', 'yang', 'harus', 'siap', 'buat', 'yudisium'], ['siap', 'yudisium', 'apa'], ['siap', 'yudisium', 'apa', 'ya'], ['siap', 'yudisium', 'apa', 'sih'], ['siap', 'yudisium'], ['siap', 'yudisium', 'gimana'], ['siap', 'yudisium', 'bagaimana'], ['gimana', 'siap', 'yudisium'], ['bagaimana', 'siap', 'yudisium'], ['siap', 'untuk', 'giat', 'yudisium'], ['siap', 'buat', 'giat', 'yudisium'], ['siap', 'yudisim', 'itu', 'apa', 'sih'], ['siap', 'yudisium', 'itu', 'apa', 'aja'], ['siap', 'yudisium', 'itu', 'apa', 'aja', 'sih'], ['siap', 'yudisium', 'itu', 'apa', 'aja', 'ya'], ['siap', 'yudisium', 'tu', 'apa'], ['siap', 'yudisium', 'tu', 'apa', 'aja', 'yaa'], ['apa', 'aja', 'ya', 'siap', 'untuk', 'yudisium'], ['apa', 'aja', 'ya', 'siap', 'buat', 'yudisium'], ['harus', 'nyiapin', 'apa', 'aja', 'buat', 'yudisium'], ['harus', 'nyiapin', 'apa', 'buat', 'yudisium'], ['harus', 'nyiapin', 'apa', 'untuk', 'yudisium'], ['harus', 'nyiapin', 'apa', 'aja', 'untuk', 'yudisium'], ['untuk', 'yudisium', 'harus', 'nyiapin', 'apa', 'aja'], ['buat', 'yudisium', 'harus', 'nyiapin', 'apa', 'aja'], ['siap', 'apa', 'saja', 'untuk', 'laku', 'wisuda'], ['apa', 'yang', 'harus', 'siap', 'untuk', 'wisuda'], ['siap', 'wisuda'], ['siap', 'untuk', 'wisuda'], ['yang', 'harus', 'siap', 'untuk', 'wisuda'], ['siap', 'apa', 'saja', 'untuk', 'laku', 'wisuda'], ['yang', 'siap', 'untuk', 'wisuda'], ['apa', 'yang', 'harus', 'siap', 'untuk', 'wisuda'], ['apa', 'aja', 'siap', 'untuk', 'wisuda'], ['siap', 'untuk', 'wisuda', 'apa', 'aja'], ['siap', 'wisuda', 'apa', 'aja'], ['siap', 'wisuda', 'apa', 'aja', 'sih'], ['siap', 'wisuda', 'apa', 'aja', 'ya'], ['siap', 'untuk', 'wisuda', 'apa'], ['siap', 'untuk', 'wisuda', 'apa', 'aja', 'sih'], ['siap', 'untuk', 'wisuda', 'apa', 'aja', 'ya'], ['siap', 'buat', 'wisuda'], ['siap', 'buat', 'wisuda', 'apa'], ['siap', 'buat', 'wisuda', 'apa', 'aja'], ['siap', 'buat', 'wisuda', 'apa', 'aja', 'ya'], ['siap', 'buat', 'wisuda', 'apa', 'aja', 'sih'], ['apa', 'aja', 'sih', 'siap', 'untuk', 'wisuda'], ['apa', 'aja', 'sih', 'siap', 'buat', 'wisuda'], ['nyiapin', 'apa', 'aja', 'untuk', 'wisuda'], ['nyiapin', 'apa', 'aja', 'buat', 'wisuda'], ['siap', 'yang', 'harus', 'siap', 'untuk', 'wisuda'], ['siap', 'yang', 'harus', 'siap', 'buat', 'wisuda'], ['siap', 'wisuda', 'apa', 'ya'], ['siap', 'wisuda', 'apa', 'sih'], ['siap', 'wisuda'], ['siap', 'wisuda', 'gimana'], ['siap', 'wisuda', 'bagaimana'], ['gimana', 'siap', 'wisuda'], ['bagaimana', 'siap', 'wisuda'], ['siap', 'untuk', 'giat', 'wisuda'], ['siap', 'buat', 'giat', 'wisuda'], ['siap', 'wisuda', 'itu', 'apa', 'sih'], ['siap', 'wisuda', 'itu', 'apa', 'aja'], ['siap', 'wisuda', 'itu', 'apa', 'aja', 'sih'], ['siap', 'wisuda', 'itu', 'apa', 'aja', 'ya'], ['siap', 'wisuda', 'tu', 'apa'], ['siap', 'wisuda', 'tu', 'apa', 'aja', 'ya'], ['siap', 'wisuda', 'tu', 'apa', 'aja', 'sih'], ['apa', 'aja', 'ya', 'siap', 'untuk', 'wisuda'], ['apa', 'aja', 'ya', 'siap', 'buat', 'wisuda'], ['harus', 'nyiapin', 'apa', 'aja', 'buat', 'wisuda'], ['harus', 'nyiapin', 'apa', 'aja', 'untuk', 'wisuda'], ['harus', 'nyiapin', 'apa', 'buat', 'wisuda'], ['harus', 'nyiapin', 'apa', 'untuk', 'wisuda'], ['untuk', 'wisuda', 'harus', 'nyiapin', 'apa', 'aja'], ['buat', 'wisuda', 'harus', 'nyiapin', 'apa', 'aja'], ['berapa', 'jumlah', 'sks', 'yang', 'harus', 'penuh', 'untuk', 'kelulus'], ['jumlah', 'sks', 'untuk', 'kelulus'], ['sks', 'untuk', 'kelulus'], ['sks', 'untuk', 'lulus'], ['minimal', 'sks', 'untuk', 'lulus'], ['minimal', 'sks', 'untuk', 'kelulus'], ['jumlah', 'sks', 'yang', 'harus', 'penuh'], ['jumlah', 'sks', 'yang', 'harus', 'penuh', 'untuk', 'kelulus'], ['jumlah', 'sks', 'yang', 'harus', 'penuh', 'untuk', 'lulus'], ['jumlah', 'minimal', 'sks', 'untuk', 'lulus'], ['jumlah', 'minimal', 'sks', 'untuk', 'kelulus'], ['berapa', 'sks', 'yang', 'harus', 'penuh', 'bagai', 'syarat', 'kelulus'], ['berapa', 'sks', 'yang', 'harus', 'penuh', 'bagai', 'syarat', 'buat', 'lulus'], ['berapa', 'minimal', 'sks', 'yang', 'harus', 'penuh', 'bagai', 'syarat', 'kelulus'], ['berapa', 'minimal', 'sks', 'yang', 'harus', 'penuh', 'bagai', 'syarat', 'untuk', 'lulus'], ['berapa', 'jumlah', 'sks', 'yang', 'harus', 'penuh', 'bagai', 'syarat', 'lulus'], ['berapa', 'sks', 'yang', 'harus', 'penuh', 'untuk', 'kelulus'], ['berapa', 'minimal', 'sks', 'yang', 'harus', 'penuh', 'untuk', 'kelulus'], ['total', 'sks', 'untuk', 'lulus'], ['total', 'sks', 'untuk', 'kelulus'], ['berapa', 'total', 'sks', 'untuk', 'lulus'], ['berapa', 'total', 'sks', 'untuk', 'kelulus'], ['sks', 'untuk', 'lulus', 'total', 'berapa'], ['sks', 'untuk', 'kelulus', 'total', 'berapa'], ['sks', 'buat', 'lulus'], ['jumlah', 'sks', 'buat', 'lulus'], ['sks', 'buat', 'kelulus'], ['jumlah', 'sks', 'buat', 'kelulus'], ['total', 'sks', 'buat', 'lulus'], ['total', 'sks', 'buat', 'kelulus'], ['minimal', 'sks', 'buat', 'lulus'], ['jumlah', 'minimal', 'sks', 'buat', 'lulus'], ['berapa', 'jumlah', 'sks', 'buat', 'lulus'], ['berapa', 'jumlah', 'sks', 'buat', 'kelulus'], ['berapa', 'total', 'sks', 'buat', 'lulus'], ['berapa', 'total', 'sks', 'buat', 'kelulus'], ['berapa', 'sks', 'yang', 'harus', 'selesai', 'buat', 'lulus'], ['berapa', 'sks', 'yang', 'harus', 'selesai', 'buat', 'kelulus'], ['berapa', 'minimal', 'sks', 'yang', 'harus', 'penuh', 'buat', 'syarat', 'lulus'], ['berapa', 'minimal', 'sks', 'yang', 'harus', 'penuh', 'buat', 'syarat', 'kelulus'], ['berapa', 'minimal', 'sks', 'yang', 'harus', 'penuh', 'untuk', 'syarat', 'kelulus'], ['berapa', 'total', 'sks', 'untuk', 'syarat', 'lulus'], ['berapa', 'total', 'sks', 'untuk', 'syarat', 'kelulus'], ['berapa', 'total', 'sks', 'bagai', 'syarat', 'kelulus'], ['berapa', 'total', 'sks', 'bagai', 'syarat', 'lulus'], ['berapa', 'total', 'sks', 'bagai', 'syarat', 'untuk', 'lulus'], ['berapa', 'total', 'sks', 'buat', 'lulus'], ['berapa', 'total', 'sks', 'buat', 'kelulus'], ['total', 'sks', 'bagai', 'syarat', 'lulus'], ['total', 'sks', 'bagai', 'syarat', 'untuk', 'lulus'], ['total', 'sks', 'bagai', 'syarat', 'kelulus'], ['apa', 'itu', 'skpi'], ['apa', 'yang', 'maksud', 'dengan', 'skpi'], ['skpi', 'adalah'], ['skpi'], ['surat', 'terang', 'damping', 'ijazah'], ['skpi', 'itu', 'apa'], ['yang', 'maksud', 'dengan', 'skpi'], ['skpi', 'itu', 'apa', 'ya'], ['skpi', 'apa', 'sih'], ['apa', 'sih', 'skpi'], ['skpi', 'itu', 'apa', 'sih'], ['apakah', 'skpi', 'itu'], ['yang', 'maksud', 'dengan', 'skpi', 'adalah'], ['panjang', 'dari', 'skpi'], ['panjang', 'skpi'], ['skpi', 'singkat', 'dari'], ['erti', 'skpi'], ['apa', 'erti', 'skpi'], ['erti', 'skpi', 'apa', 'ya'], ['erti', 'skpi', 'apa', 'sih'], ['yang', 'maksud', 'dengan', 'skpi', 'apa'], ['skpi', 'itu', 'apa', 'sih'], ['skpi', 'itu', 'apa', 'ya'], ['apa', 'sih', 'skpi', 'itu'], ['skpi', 'apa'], ['erti', 'dari', 'skpi'], ['skpi', 'tu', 'gimana'], ['skpi', 'tu', 'gimana', 'ya'], ['skpi', 'itu', 'gimana'], ['skpi', 'itu', 'bagaimana'], ['skpi', 'tu', 'bagaimana'], ['skpi', 'tu', 'bagaimana', 'ya'], ['skpi', 'itu', 'bagaimana', 'ya'], ['skpi', 'gimana', 'tu'], ['apa', 'tu', 'skpi'], ['skpi', 'apa', 'tu'], ['gimana', 'sih', 'skpi'], ['gimana', 'sih', 'skpi', 'itu'], ['gimana', 'sih', 'skpi', 'tu'], ['apa', 'ya', 'skpi'], ['skpi', 'tu', 'apa'], ['skpi', 'itu'], ['skpi', 'tu', 'apa', 'ya'], ['skpi', 'tu', 'apa', 'sih'], ['yang', 'maksud', 'skpi', 'itu', 'apa'], ['yang', 'maksud', 'dengan', 'skpi', 'tu', 'apa'], ['apakah', 'yang', 'maksud', 'dengan', 'skpi'], ['apa', 'sih', 'yang', 'maksud', 'dengan', 'skpi'], ['apa', 'erti', 'dari', 'skpi'], ['apakah', 'erti', 'skpi'], ['apa', 'erti', 'skpi', 'itu'], ['berapa', 'jumlah', 'skpi', 'yang', 'harus', 'penuh', 'untuk', 'kelulus'], ['jumlah', 'skpi'], ['berapa', 'jumlah', 'skpi', 'untuk', 'kelulus'], ['berapa', 'jumlah', 'skpi', 'yang', 'harus', 'penuh', 'bagai', 'syarat', 'kelulus'], ['jumlah', 'skpi', 'untuk', 'lulus'], ['jumlah', 'skpi', 'untuk', 'kelulus'], ['jumlah', 'skpi', 'yang', 'harus', 'penuh'], ['minimal', 'skpi', 'untuk', 'kelulus'], ['minimal', 'skpi', 'untuk', 'lulus'], ['jumlah', 'minimal', 'skpi'], ['jumlah', 'minimal', 'skpi', 'untuk', 'lulus'], ['jumlah', 'minimal', 'skpi', 'untuk', 'kelulus'], ['skpi', 'untuk', 'lulus'], ['minimal', 'skpi'], ['jumlah', 'skpi', 'bagai', 'syarat', 'lulus'], ['jumlah', 'skpi', 'bagai', 'syarat', 'kelulus'], ['minimal', 'skpi', 'bagai', 'syarat', 'lulus'], ['minimal', 'skpi', 'bagat', 'syarat', 'kelulus'], ['jumlah', 'skpi', 'yang', 'harus', 'penuh', 'bagai', 'syarat', 'kelulus'], ['jumlah', 'skpi', 'yang', 'harus', 'penuh', 'bagai', 'syarat', 'lulus'], ['minimal', 'skpi', 'yang', 'harus', 'penuh', 'bagai', 'syarat', 'lulus'], ['minimal', 'skpi', 'yang', 'harus', 'penuh', 'sebahai', 'syarat', 'kelulus'], ['berapa', 'jumlah', 'skpi', 'untuk', 'kelulus'], ['berapa', 'jumlah', 'skpi', 'untuk', 'lulus'], ['point', 'skpi'], ['jumlah', 'point', 'skpi'], ['berapa', 'jumlah', 'point', 'skpi', 'untuk', 'lulus'], ['berapa', 'jumlah', 'point', 'skpi', 'untuk', 'kelulus'], ['jumlah', 'point', 'skpi', 'untuk', 'lulus'], ['jumlah', 'point', 'skpi', 'untuk', 'kelulus'], ['jumlah', 'point', 'skpi', 'bagai', 'syarat', 'untuk', 'lulus'], ['jumlah', 'point', 'skpi', 'bagai', 'syarat', 'buat', 'lulus'], ['jumlah', 'point', 'skpi', 'bagai', 'syarat', 'lulus'], ['jumlah', 'point', 'skpi', 'bagai', 'syarat', 'kelulus'], ['total', 'point', 'skpi'], ['total', 'point', 'skpi', 'untuk', 'lulus'], ['total', 'point', 'skpi', 'buat', 'lulus'], ['total', 'point', 'skpi', 'untuk', 'kelulus'], ['total', 'point', 'skpi', 'buat', 'kelulus'], ['total', 'point', 'skpi', 'bagat', 'syarat', 'lulus'], ['total', 'point', 'skpi', 'bagai', 'syarat', 'kelulus'], ['total', 'point', 'skpi', 'bagai', 'syarat', 'untuk', 'lulus'], ['total', 'point', 'skpi', 'bagai', 'syarat', 'buat', 'lulus'], ['total', 'point', 'skpi', 'bagai', 'syarat', 'untuk', 'kelulus'], ['total', 'point', 'skpi', 'bagai', 'syarat', 'buat', 'kelulus'], ['berapa', 'total', 'point', 'skpi', 'untuk', 'lulus'], ['berapa', 'total', 'point', 'skpi', 'untuk', 'kelulus'], ['berapa', 'total', 'point', 'skpi', 'buat', 'lulus'], ['berapa', 'total', 'point', 'skpi', 'buat', 'kelulus'], ['berapa', 'total', 'point', 'skpi', 'bagai', 'syarat', 'kelulus'], ['berapa', 'total', 'point', 'skpi', 'bagai', 'syarat', 'lulus'], ['berapa', 'total', 'point', 'skpi', 'bagai', 'syarat', 'untuk', 'lulus'], ['berapa', 'total', 'point', 'skpi', 'bagai', 'syarat', 'buat', 'lulus'], ['berapa', 'total', 'point', 'skpi', 'bagai', 'syarat', 'untuk', 'kelulus'], ['berapa', 'total', 'point', 'skpi', 'bagai', 'syarat', 'buat', 'kelulus'], ['giat', 'apa', 'saja', 'yang', 'dapat', 'point', 'skpi'], ['giat', 'skpi'], ['giat', 'untuk', 'skpi'], ['giat', 'yang', 'dapat', 'point', 'skpi'], ['giat', 'yang', 'beri', 'point', 'skpi'], ['giat', 'apa', 'saja', 'yang', 'beri', 'point', 'skpi'], ['point', 'skpi', 'dari', 'giat', 'apa'], ['point', 'skpi', 'dari', 'giat', 'apa', 'aja'], ['point', 'skpi', 'dapat', 'dari', 'giat', 'apa'], ['point', 'skpi', 'dapat', 'dari', 'mana'], ['giat', 'untuk', 'dapat', 'point', 'skpi'], ['giat', 'untuk', 'skpi', 'apa', 'aja'], ['giat', 'buat', 'skpi', 'apa', 'aja'], ['giat', 'untuk', 'skpi', 'apa', 'aja', 'ya'], ['giat', 'buat', 'skpi', 'apa', 'aja', 'ya'], ['giat', 'untuk', 'skpi', 'apa', 'aja', 'sih'], ['giat', 'buat', 'skpi', 'apa', 'aja', 'sih'], ['giat', 'apa', 'aja', 'untuk', 'skpi'], ['giat', 'apa', 'aja', 'buat', 'skpi'], ['giat', 'apa', 'aja', 'sih', 'untuk', 'skpi'], ['giat', 'apa', 'aja', 'sih', 'buat', 'skpi'], ['apa', 'aja', 'sih', 'giat', 'untuk', 'skpi'], ['apa', 'aja', 'sih', 'giat', 'buat', 'skpi'], ['apa', 'aja', 'giat', 'untuk', 'skpi'], ['apa', 'aja', 'giat', 'buat', 'skpi'], ['point', 'skpi', 'dari', 'giat', 'apa', 'aja'], ['point', 'skpi', 'dari', 'giat', 'apa', 'aja', 'ya'], ['point', 'skpi', 'dari', 'giat', 'apa', 'aja', 'sih'], ['point', 'skpi', 'dari', 'giat', 'apa'], ['dari', 'giat', 'apa', 'point', 'skpi'], ['dari', 'giat', 'apa', 'aja', 'point', 'skpi'], ['giat', 'yang', 'dapat', 'point', 'skpi'], ['giat', 'apa', 'yang', 'dapat', 'point', 'skpi'], ['giat', 'apa', 'aja', 'yang', 'dapat', 'point', 'skpi'], ['giat', 'apa', 'aja', 'sih', 'yang', 'dapat', 'point', 'skpi'], ['yang', 'dapat', 'point', 'skpi', 'giat', 'apa', 'aja'], ['yang', 'dapat', 'point', 'skpi', 'giat', 'apa', 'aja', 'ya'], ['yang', 'dapat', 'point', 'skpi', 'giat', 'apa', 'aja', 'sih'], ['giat', 'yang', 'dapat', 'point', 'skpi'], ['giat', 'yang', 'oleh', 'point', 'skpi'], ['giat', 'apa', 'yang', 'oleh', 'point', 'skpi'], ['giat', 'apa', 'aja', 'yang', 'oleh', 'point', 'skpi'], ['giat', 'apa', 'aja', 'sih', 'yang', 'oleh', 'point', 'skpi'], ['yang', 'oleh', 'point', 'skpi', 'giat', 'apa'], ['point', 'skpi', 'dapat', 'dari', 'giat', 'apa'], ['point', 'skpi', 'dapat', 'dari', 'giat', 'apa', 'aja'], ['point', 'skpi', 'dapat', 'dari', 'giat', 'apa', 'aja', 'ya'], ['point', 'skpi', 'dapat', 'dari', 'giat', 'apa', 'aja', 'sih'], ['point', 'skpi', 'oleh', 'dari', 'giat', 'apa'], ['point', 'skpi', 'oleh', 'dari', 'giat', 'apa', 'aja'], ['point', 'skpi', 'oleh', 'dari', 'giat', 'apa', 'aja', 'ya'], ['point', 'skpi', 'oleh', 'dari', 'giat', 'apa', 'aja', 'sih'], ['kapan', 'baik', 'mulai', 'kerja', 'tugas', 'akhir'], ['kapan', 'baik', 'mulai', 'kerja', 'skripsi'], ['kapan', 'baik', 'mulai', 'kerja', 'ta'], ['mulai', 'kerja', 'ta'], ['mulai', 'kerja', 'tugas', 'akhir'], ['mulai', 'kerja', 'skripsi'], ['mulai', 'kerja', 'ta'], ['mulai', 'kerja', 'tugas', 'akhir'], ['mulai', 'kerja', 'skripsi'], ['kapan', 'harus', 'mulai', 'kerja', 'ta'], ['kapan', 'harus', 'mulai', 'kerja', 'tugas', 'akhir'], ['kapan', 'harus', 'mulai', 'kerja', 'skripsi'], ['mulai', 'ngerjain', 'ta'], ['mulai', 'ngerjan', 'tugas', 'akhir'], ['mulai', 'ngerjain', 'skripsi'], ['mulai', 'kapan', 'ngerjain', 'ta'], ['mulai', 'kapan', 'ngerjain', 'tugas', 'akhir'], ['mulai', 'kapan', 'ngerjain', 'skripsi'], ['kapan', 'mulai', 'ngerjain', 'ta'], ['kapan', 'mulai', 'ngerjain', 'tugas', 'akhir'], ['kapan', 'mulai', 'ngerjain', 'skripsi'], ['ngerjain', 'skripsi', 'mulai', 'dari', 'kapan'], ['ngerjain', 'tugas', 'akhir', 'mulai', 'dari', 'kapan'], ['ngerjain', 'ta', 'mulai', 'dari', 'kapan'], ['kapan', 'waktu', 'yang', 'tepat', 'untuk', 'mulai', 'kerja', 'ta'], ['kapan', 'waktu', 'yang', 'tepat', 'untuk', 'mulai', 'kerja', 'tugas', 'akhir'], ['kapan', 'waktu', 'yang', 'tepat', 'untuk', 'mulai', 'kerja', 'skripsi'], ['waktu', 'yang', 'tepat', 'untuk', 'mulai', 'tugas', 'akhir'], ['waktu', 'yang', 'tepat', 'untuk', 'mulai', 'ta'], ['waktu', 'yang', 'tepat', 'untuk', 'mulai', 'skrpsi'], ['mulai', 'kerja', 'skripsi', 'kapan'], ['mulai', 'kerja', 'ta', 'kapan'], ['mulai', 'kerja', 'tugas', 'akhir', 'kapan'], ['ngerjain', 'ta', 'mulai', 'kapan'], ['ngerjain', 'skripsi', 'mulai', 'kapan'], ['ngerjain', 'tugas', 'akhir', 'mulai', 'kapan'], ['kapan', 'mulai', 'ngerjain', 'ta'], ['kapan', 'mulai', 'ngerjain', 'tugas', 'akhir'], ['kapan', 'mulai', 'ngerjain', 'skripsi'], ['kapan', 'sih', 'mulai', 'ngerjain', 'ta'], ['kapan', 'sih', 'mulai', 'ngerjain', 'tugas', 'akhir'], ['kapan', 'sih', 'mulai', 'ngerjain', 'skripsi'], ['kapan', 'ya', 'enak', 'mulai', 'ngerjain', 'ta'], ['kapan', 'ya', 'enak', 'mulai', 'ngerjain', 'tugas', 'akhir'], ['kapan', 'ya', 'enak', 'mulai', 'ngerjain', 'skripsi'], ['mulai', 'ngerjain', 'skripsi', 'enak', 'kapan'], ['mulai', 'ngerjain', 'ta', 'enak', 'kapan'], ['mulai', 'ngerjain', 'tugas', 'akhir', 'enak', 'kapan'], ['ngerjain', 'ta', 'enak', 'mulai', 'kapan'], ['ngerjain', 'tugas', 'akhir', 'enak', 'mulai', 'kapan'], ['ngerjain', 'skripsi', 'enak', 'mulai', 'kapan'], ['berapa', 'lama', 'batas', 'kerja', 'revisi', 'telah', 'seminar', 'proposal'], ['berapa', 'lama', 'deadline', 'revisi', 'telah', 'seminar', 'proposal'], ['berapa', 'lama', 'batas', 'kerja', 'revisi', 'telah', 'sempro'], ['berapa', 'lama', 'deadline', 'revisi', 'telah', 'sempro'], ['deadline', 'revisi', 'sempro'], ['deadline', 'revisi', 'seminar', 'proposal'], ['batas', 'kerja', 'revisi', 'sempro'], ['batas', 'kerja', 'revisi', 'seminar', 'proposal'], ['deadline', 'kerja', 'revisi', 'sempro'], ['deadline', 'kerja', 'revisi', 'seminar', 'proposal'], ['batas', 'akhir', 'kumpul', 'revisi', 'sempro'], ['batas', 'akhir', 'kumpul', 'revisi', 'seminar', 'proposal'], ['deadline', 'kumpul', 'revisi', 'sempro'], ['deadline', 'kumpul', 'revisi', 'seminar', 'proposal'], ['batas', 'kumpul', 'revisi', 'sempro'], ['batas', 'kumpul', 'revisi', 'seminar', 'proposal'], ['waktu', 'kumpul', 'revisi', 'sempro'], ['waktu', 'kumpul', 'revisi', 'seminar', 'proposal'], ['kumpul', 'akhir', 'revisi', 'sempro'], ['kumpul', 'akhir', 'revisi', 'seminar', 'proposal'], ['batas', 'akhir', 'revisi', 'seminar', 'proposal'], ['batas', 'akhir', 'revisi', 'sempro'], ['revisi', 'sempro', 'akhir', 'kapan', 'kumpul'], ['revisi', 'seminar', 'proposal', 'akhir', 'kapan', 'kumpul'], ['revisi', 'dari', 'sempro', 'deadlinenya', 'kapan'], ['revisi', 'dari', 'seminar', 'proposal', 'deadlinenya', 'kapan'], ['deadline', 'revisi', 'dari', 'sempro'], ['deadline', 'revisi', 'dari', 'seminar', 'proposal'], ['deadline', 'ngumpulin', 'revisi', 'dari', 'sempro'], ['deadline', 'ngumpulin', 'revisi', 'dari', 'seminar', 'proposal'], ['deadline', 'kumpul', 'revisi', 'sempro'], ['deadline', 'kumpul', 'revisi', 'seminar', 'proposal'], ['revisi', 'sempro', 'kapan', 'ngumpulinnya'], ['revisi', 'seminar', 'proposal', 'kapan', 'ngumpulinnya'], ['kumpul', 'revisi', 'sempro', 'kapan'], ['kumpul', 'revisi', 'seminar', 'proposal', 'kapan'], ['kumpul', 'revisi', 'sempro', 'kapan'], ['kumpul', 'revisi', 'seminar', 'proposal', 'kapan'], ['revisi', 'sempro', 'dikumpulin', 'kapan'], ['revisi', 'seminar', 'proposal', 'dikumpulin', 'kapan'], ['kapan', 'revisi', 'sempro', 'dikumpulin'], ['kapan', 'revisi', 'seminar', 'proposal', 'dikumpulin'], ['kumpul', 'revisi', 'sempro', 'kapan', 'ya'], ['kumpul', 'revisi', 'seminar', 'proposal', 'kapan', 'ya'], ['deadline', 'revisi', 'sempro', 'kapan', 'ya'], ['deadline', 'revisi', 'seminar', 'proposal', 'kapan', 'ya'], ['batas', 'akhir', 'kumpul', 'revisi', 'sempro', 'kapan', 'ya'], ['batas', 'akhir', 'kumpul', 'revisi', 'seminar', 'proposal', 'kapan', 'ya'], ['batas', 'akhir', 'kumpul', 'revisi', 'sempro', 'kapan', 'ya'], ['batas', 'akhir', 'kumpul', 'revisi', 'seminar', 'proposal', 'kapan', 'ya'], ['kumpul', 'akhir', 'revisi', 'sempro', 'kapan', 'ya'], ['kumpul', 'akhir', 'revisi', 'seminar', 'proposal', 'kapan', 'ya'], ['berapa', 'lama', 'batas', 'kerja', 'revisi', 'telah', 'sidang', 'tugas', 'akhir'], ['berapa', 'lama', 'deadline', 'revisi', 'telah', 'sidang', 'tugas', 'akhir'], ['berapa', 'lama', 'batas', 'kerja', 'revisi', 'telah', 'sidang'], ['berapa', 'lama', 'deadline', 'revisi', 'telah', 'sidang'], ['deadline', 'revisi', 'sidang'], ['deadline', 'revisi', 'sidang', 'ta'], ['deadline', 'revisi', 'sidang', 'tugas', 'akhir'], ['deadline', 'revisi', 'sidang', 'akhir'], ['deadline', 'revisi', 'sidang', 'skripsi'], ['batas', 'kerja', 'revisi', 'sidang'], ['batas', 'kerja', 'revisi', 'sidang', 'akhir'], ['batas', 'kerja', 'revisi', 'sidang', 'ta'], ['batas', 'kerja', 'revisi', 'sidang', 'tugas', 'akhir'], ['batas', 'akhir', 'kumpul', 'revisi', 'sidang'], ['batas', 'akhir', 'kumpul', 'revisi', 'sidang', 'akhir'], ['batas', 'akhir', 'kumpul', 'revisi', 'sidang', 'ta'], ['batas', 'akhir', 'kumpul', 'revisi', 'sidang', 'tugas', 'akhir'], ['batas', 'akhir', 'kumpul', 'revisi', 'sidang', 'skripsi'], ['deadline', 'kumpul', 'revisi', 'sidang'], ['deadline', 'kumpul', 'revisi', 'sidang', 'ta'], ['deadline', 'kumpul', 'revisi', 'sidang', 'tugas', 'akhir'], ['deadline', 'kumpul', 'revisi', 'sidang', 'skripsi'], ['batas', 'kumpul', 'revisi', 'sidang'], ['batas', 'kumpul', 'revisi', 'sidang', 'akhir'], ['batas', 'kumpul', 'revisi', 'sidang', 'ta'], ['batas', 'kumpul', 'revisi', 'sidang', 'tugas', 'akhir'], ['batas', 'kumpul', 'revisi', 'sidang', 'skripsi'], ['deadline', 'revisi', 'dari', 'sidang'], ['deadline', 'revisi', 'dari', 'sidang', 'akhir'], ['deadline', 'revisi', 'dari', 'sidang', 'ta'], ['deadline', 'revisi', 'dari', 'sidang', 'tugas', 'akhir'], ['deadline', 'revisi', 'dari', 'sidang', 'skripsi'], ['deadline', 'kumpul', 'revisi', 'sidang', 'skripsi'], ['deadline', 'kumpul', 'revisi', 'sidang'], ['deadline', 'kumpul', 'revisi', 'sidang', 'akhir'], ['deadline', 'kumpul', 'revisi', 'sidang', 'ta'], ['deadline', 'kumpul', 'revisi', 'sidang', 'tugas', 'akhir'], ['kumpul', 'revisi', 'sidang', 'akhir'], ['kumpul', 'revisi', 'sidang', 'ta'], ['kumpul', 'revisi', 'sidang'], ['kumpul', 'revisi', 'sidang', 'skripsi'], ['revisi', 'sidang', 'dikumpulin', 'kapan'], ['revisi', 'sidang', 'akhir', 'dikumpulin', 'kapan'], ['revisi', 'sidang', 'ta', 'dikumpulin', 'kapan'], ['revisi', 'sidang', 'tugas', 'akhir', 'dikumpulin', 'kapan'], ['revisi', 'sidang', 'skripsi', 'dikumpulin', 'kapan'], ['kumpul', 'revisi', 'sidang', 'kapan', 'ya'], ['kumpul', 'revisi', 'sidang', 'ta', 'kapan', 'ya'], ['kumpul', 'revisi', 'sidang', 'akhir', 'kapan', 'ya'], ['kumpul', 'revisi', 'sidang', 'tugas', 'akhir', 'kapan', 'ya'], ['batas', 'akhir', 'kumpul', 'revisi', 'sidang', 'kapan', 'ya'], ['batas', 'akhir', 'kumpul', 'revisi', 'sidang', 'akhir', 'kapan', 'ya'], ['batas', 'akhir', 'kumpul', 'revisi', 'sidang', 'ta', 'kapan', 'ya'], ['batas', 'akhir', 'kumpul', 'revisi', 'sidang', 'tugas', 'akhir', 'kapan', 'ya'], ['batas', 'akhir', 'kumpul', 'revisi', 'sidang', 'skripsi', 'kapan', 'ya'], ['apa', 'saja', 'syarat', 'kelulus'], ['syarat', 'kelulus'], ['apa', 'saja', 'syarat', 'untuk', 'kelulus'], ['apa', 'saja', 'syarat', 'untuk', 'lulus'], ['syarat', 'untuk', 'kelulus'], ['syarat', 'lulus'], ['syarat', 'untuk', 'lulus'], ['ipk', 'kurang', 'dari', '200', 'apakah', 'bisa', 'lulus'], ['tidak', 'ulang', 'matakuliah', 'dengan', 'nilai', 'd', 'atau', 'e', 'apakah', 'dapat', 'lulus'], ['tentu', 'kelulus'], ['tentu', 'lulus'], ['tentu', 'untuk', 'lulus'], ['tentu', 'untuk', 'kelulus'], ['apa', 'saja', 'tentu', 'kelulus'], ['apa', 'saja', 'tentu', 'untuk', 'kelulus'], ['apa', 'saja', 'tentu', 'untuk', 'lulus'], ['syarat', 'agar', 'bisa', 'lulus'], ['tentu', 'agar', 'bisa', 'lulus'], ['syarat', 'buat', 'lulus'], ['tentu', 'buat', 'lulus'], ['tentu', 'buat', 'kelulus'], ['syarat', 'buat', 'kelulus'], ['apa', 'aja', 'syarat', 'buat', 'lulus'], ['syarat', 'buat', 'lulus', 'apa', 'aja', 'sih'], ['syarat', 'buat', 'lulus', 'apa', 'aja', 'ya'], ['syarat', 'untuk', 'lulus', 'apa'], ['syarat', 'untuk', 'lulus', 'apa', 'aja', 'ya'], ['syarat', 'untuk', 'lulus', 'apa', 'aja'], ['syarat', 'untuk', 'lulus', 'apa', 'aja', 'sih'], ['tentu', 'lulus', 'apa', 'ya'], ['tentu', 'lulus', 'apa', 'aja'], ['tentu', 'lulus', 'apa', 'aja', 'ya'], ['tentu', 'lulus', 'apa', 'aja', 'sih'], ['tentu', 'untuk', 'lulus', 'apa', 'ya'], ['tentu', 'untuk', 'lulus', 'apa', 'aja', 'ya'], ['tentu', 'buat', 'lulus', 'apa', 'ya'], ['tentu', 'buat', 'lulus', 'apa', 'aja'], ['tentu', 'buat', 'lulus', 'apa', 'aja', 'ya'], ['tentu', 'buat', 'lulus', 'apa', 'aja', 'sih'], ['syarat', 'apa', 'aja', 'yang', 'harus', 'penuh', 'untuk', 'lulus'], ['syarat', 'apa', 'aja', 'yang', 'harus', 'penuh', 'buat', 'lulus'], ['mahasiswa', 'kata', 'lulus', 'ketika'], ['mahasiswa', 'nyata', 'lulus', 'telah', 'penuh', 'syarat', 'apa', 'aja'], ['syarat', 'untuk', 'nyata', 'lulus'], ['syarat', 'agar', 'mahasiswa', 'nyata', 'lulus'], ['syarat', 'untuk', 'mahasiswa', 'nyata', 'lulus'], ['syarat', 'buat', 'mahasiswa', 'nyata', 'lulus'], ['syarat', 'buat', 'nyata', 'lulus'], ['apa', 'aja', 'syarat', 'agar', 'mahasiswa', 'nyata', 'lulus'], ['apa', 'aja', 'syarat', 'untuk', 'mahasiswa', 'nyata', 'lulus'], ['apa', 'aja', 'tentu', 'untuk', 'mahasiswa', 'nyata', 'lulus'], ['apa', 'aja', 'tentu', 'agar', 'mahasiswa', 'nyata', 'lulus'], ['bagaimana', 'tingkat', 'lulus'], ['tingkat', 'lulus'], ['predikat', 'untuk', 'lulus'], ['predikat', 'kelulus'], ['predikat', 'lulus'], ['predikat', 'untuk', 'tiap', 'lulus'], ['predikat', 'tiap', 'lulus'], ['tingkat', 'untuk', 'lulus'], ['tingkat', 'tiap', 'lulus'], ['tingkat', 'untuk', 'tiap', 'lulus'], ['predikat', 'kelulus', 'mahasiswa'], ['apa', 'aja', 'tingkat', 'lulus'], ['apa', 'aja', 'predikat', 'untuk', 'lulus'], ['apa', 'aja', 'predikat', 'buat', 'lulus'], ['tingkat', 'predikat', 'untuk', 'lulus'], ['predikat', 'buat', 'lulus'], ['predikat', 'untuk', 'lulus', 'apa', 'aja'], ['predikat', 'buat', 'lulus', 'apa', 'aja'], ['gimana', 'predikat', 'untuk', 'lulus'], ['bagaimana', 'predikat', 'untuk', 'lulus'], ['gimana', 'predikat', 'buat', 'lulus'], ['bagaimana', 'predikat', 'buat', 'lulus'], ['predikat', 'bagi', 'lulus'], ['tingkat', 'predikat', 'bagi', 'lulus'], ['tingkat', 'lulus', 'mahasiswan'], ['gimana', 'predikat', 'bagi', 'lulus'], ['bagaimana', 'predikat', 'bagi', 'lulus'], ['gimana', 'sih', 'tingkat', 'lulus'], ['gimana', 'sih', 'predikat', 'kelulus'], ['bagaimana', 'sih', 'tingkat', 'lulus'], ['bagaimana', 'sih', 'predikat', 'kelulus'], ['tingkat', 'lulus', 'gimana', 'ya'], ['tingkat', 'lulus', 'gimana', 'sih'], ['tingkat', 'lulus', 'bagaimana', 'ya'], ['tingkat', 'lulus', 'bagaimana', 'sih'], ['predikat', 'kelulus', 'bagaimana'], ['predikat', 'kelulus', 'bagaimana', 'ya'], ['predikat', 'kelulus', 'bagaimana', 'sih'], ['predikat', 'kelulus', 'gimana'], ['predikat', 'kelulus', 'gimana', 'ya'], ['predikat', 'kelulus', 'gimana', 'sih'], ['tingkat', 'lulus', 'tu', 'gimana'], ['tingkat', 'lulus', 'itu', 'gimana'], ['tingkat', 'lulus', 'tu', 'bagaimana'], ['tingkat', 'lulus', 'itu', 'bagaimana'], ['predikat', 'kelulus', 'tu', 'gimana'], ['predikat', 'kelulus', 'tu', 'bagaimana'], ['predikat', 'kelulus', 'itu', 'gimana'], ['predikat', 'kelulus', 'itu', 'bagaimana'], ['predikat', 'kelulus', 'itu', 'bagaimana', 'sih'], ['predikat', 'kelulus', 'itu', 'gimana', 'sih'], ['predikat', 'kelulus', 'itu', 'gimana', 'ya'], ['apa', 'saja', 'indikator', 'dalam', 'predikat', 'kelulus'], ['indikator', 'predikat', 'kelulus'], ['indikator', 'dari', 'predikat', 'kelulus'], ['predikat', 'kelulus', 'lihat', 'dari'], ['predikat', 'kelulus', 'lihat', 'dari', 'apa'], ['yang', 'lihat', 'dalam', 'tentu', 'predikat', 'kelulus'], ['yang', 'lihat', 'dalam', 'tentu', 'predikat', 'lulus'], ['indikator', 'dari', 'predikat', 'lulus'], ['indikator', 'dari', 'tingkat', 'lulus'], ['indikator', 'dari', 'predikat', 'kelulus'], ['indikator', 'dari', 'predikat', 'kelulus', 'bagaimana'], ['indikator', 'dari', 'predikat', 'kelulus', 'gimana'], ['indikator', 'dari', 'predikat', 'kelulus', 'gimana', 'ya'], ['predikat', 'kelulus', 'itu', 'lihat', 'dari', 'apa'], ['predikat', 'kelulus', 'lihat', 'dari', 'apa'], ['predikat', 'kelulus', 'dasar', 'apa'], ['predikat', 'kelulus', 'dasar', 'apa', 'ya'], ['yang', 'lihat', 'untuk', 'tentu', 'predikat', 'kelulus'], ['faktor', 'yang', 'lihat', 'untuk', 'tentu', 'predikat', 'kelulus'], ['faktor', 'dalam', 'tentu', 'predikat', 'kelulus'], ['faktor', 'tentu', 'predikat', 'kelulus'], ['faktor', 'untuk', 'tentu', 'predikat', 'kelulus'], ['apa', 'aja', 'faktor', 'untuk', 'tentu', 'predikat', 'kelulus'], ['faktor', 'untuk', 'tentu', 'predikat', 'kelulus', 'apa', 'aja'], ['faktor', 'yang', 'lihat', 'untuk', 'tentu', 'predikat', 'kelulus', 'apa', 'aja'], ['tentu', 'predikat', 'kelulus', 'dasar', 'apa', 'aja'], ['tentu', 'predikat', 'kelulus', 'lihat', 'dari', 'apa', 'aja'], ['penetuan', 'predikat', 'kelulus', 'dari', 'apa', 'ajaa'], ['predikat', 'kelulus', 'tentu', 'dari', 'apa'], ['predikat', 'kelulus', 'tentu', 'dari', 'apa', 'aja'], ['apa', 'aja', 'tentu', 'dari', 'predikat', 'kelulus'], ['apa', 'tentu', 'dari', 'predikat', 'kelulus'], ['tentu', 'predikat', 'kelulus'], ['tentu', 'untuk', 'predikat', 'kelulus'], ['faktor', 'tentu', 'predikat', 'kelulus'], ['faktor', 'tentu', 'predikat', 'kelulus', 'apa'], ['faktor', 'tentu', 'predikat', 'kelulus', 'apa', 'aja'], ['faktor', 'tentu', 'predikat', 'kelulus', 'apa', 'aja', 'ya'], ['apa', 'aja', 'faktor', 'tentu', 'predikat', 'kelulus'], ['apa', 'sih', 'penetuk', 'dari', 'predikat', 'kelulus'], ['apakah', 'ipk', 'pengaruh', 'dalam', 'tentu', 'predikat', 'kelulus'], ['apakah', 'lama', 'waktu', 'studi', 'pengaruh', 'dalam', 'tentu', 'predikat', 'kelulus'], ['apakah', 'ipk', 'masuk', 'faktor', 'tentu', 'predikat', 'kelulus'], ['apakah', 'lama', 'waktu', 'studi', 'masuk', 'faktor', 'tentu', 'predikat', 'kelulus'], ['apa', 'aja', 'faktor', 'yang', 'pengaruh', 'dalam', 'mementukan', 'predikat', 'kelulus'], ['faktor', 'yang', 'pengaruh', 'untuk', 'tentu', 'predikat', 'kelulus'], ['faktor', 'yang', 'tentu', 'predikat', 'kelulus'], ['apa', 'faktor', 'yang', 'tentu', 'predikat', 'kelulus'], ['fakto', 'apa', 'aja', 'yang', 'jadi', 'tentu', 'predikat', 'kelulus'], ['faktor', 'yang', 'jadi', 'tentu', 'predikat', 'kelulus'], ['faktor', 'yang', 'jadi', 'tentu', 'predikat', 'kelulus', 'apa', 'aja'], ['bagaimana', 'predikat', 'kelulus', 'dasar', 'indeks', 'prestasi', 'kumulatif', 'dan', 'waktu', 'selesai', 'studi'], ['bagaimana', 'predikat', 'kelulus', 'dasar', 'ipk'], ['predikat', 'kelulus', 'dasar', 'ipk'], ['tingkat', 'lulus', 'dasar', 'ipk'], ['predikat', 'lulus', 'dasar', 'ipk'], ['ipk', 'untuk', 'dapat', 'predikat', 'dengan', 'puji'], ['ipk', 'untuk', 'dapat', 'predikat', 'sangat', 'muas'], ['ipk', 'untuk', 'dapat', 'predikat', 'muas'], ['predikat', 'untuk', 'ipk', 'bawah', '300'], ['predikat', 'untuk', 'ip', 'lebih', 'dari', '350', 'dengan', 'masa', 'studi', 'lebih', 'dari', '8', 'semester'], ['predikat', 'kelulus', 'dasar', 'ipk'], ['predikat', 'kelulus', 'dasar', 'ipk', 'gimana'], ['predikat', 'kelulus', 'dasar', 'ipk', 'bagaimana'], ['gimana', 'predikat', 'kelulus', 'dasar', 'ipk'], ['bagaimana', 'predikat', 'kelulus', 'dasar', 'ipk'], ['tingkat', 'predikat', 'kelulus', 'dasar', 'ipk'], ['tingkat', 'predikat', 'kelulus', 'dasar', 'ipk'], ['ipk', 'untuk', 'predikat', 'kelulus'], ['ipk', 'buat', 'predikat', 'kelulus'], ['ipk', 'dalam', 'predikat', 'kelulus'], ['ipk', 'dalam', 'tentu', 'predikat', 'kelulus'], ['tingkat', 'ipk'], ['bagaimana', 'predikat', 'kelulus', 'muas'], ['bagaimana', 'predikat', 'kelulus', 'sangat', 'muas'], ['bagaimana', 'predikat', 'kelulus', 'dengan', 'puji'], ['bagaimana', 'lulus', 'dengan', 'predikat', 'muas'], ['bagaimana', 'lulus', 'dengan', 'predikat', 'sangat', 'muas'], ['bagaimana', 'lulus', 'dengan', 'predikat', 'dengan', 'puji'], ['lulus', 'dengan', 'predikat', 'muas', 'gimana'], ['lulus', 'dengan', 'predikat', 'sangat', 'muas', 'gimana'], ['lulus', 'dengan', 'predikat', 'dengan', 'puji', 'gimana'], ['ipk', 'untuk', 'lulus', 'dengan', 'predikat', 'muas'], ['ipk', 'untuk', 'lulus', 'dengan', 'predikat', 'sangat', 'muas'], ['ipk', 'untuk', 'lulus', 'dengan', 'predikat', 'dengan', 'puji'], ['lulus', 'dengan', 'predikat', 'muas'], ['lulus', 'dengan', 'predikat', 'sangat', 'muas'], ['lulus', 'dengan', 'predikat', 'dengan', 'puji'], ['predikat', 'kelulus', 'muas', 'saat', 'lulus'], ['predikat', 'kelulus', 'sangat', 'muas', 'saat', 'lulus'], ['predikat', 'kelulus', 'dengan', 'puji', 'saat', 'lulus'], ['ipk', 'berapa', 'agar', 'lulus', 'dengan', 'predikat', 'muas'], ['ipk', 'berapa', 'agar', 'lulus', 'dengan', 'predikat', 'sangat', 'muas'], ['ipk', 'berapa', 'agar', 'lulus', 'dengan', 'predikat', 'dengan', 'puji'], ['ipk', 'untuk', 'predikat', 'kelulus', 'muas'], ['ipk', 'untuk', 'predikat', 'kelulus', 'sangat', 'muas'], ['ipk', 'untuk', 'predikat', 'kelulus', 'dengan', 'puji'], ['ipk', 'untuk', 'predikat', 'muas'], ['ipk', 'untuk', 'predikat', 'sangat', 'muas'], ['ipk', 'untuk', 'predikat', 'dengat', 'puji'], ['predikat', 'muas', 'untuk', 'ipk', 'berapa'], ['predikat', 'snagat', 'muas', 'untuk', 'ipk', 'berapa'], ['predikat', 'dengan', 'puji', 'untuk', 'ipk', 'berapa'], ['bagaimana', 'tentu', 'lulus', 'baik', 'tingkat', 'fakultas', 'dan', 'universitas'], ['tentu', 'lulus', 'baik'], ['lulus', 'baik'], ['jadi', 'lulus', 'baik'], ['lulus', 'baik', 'fakultas', 'dan', 'universitas'], ['timbang', 'lulus', 'baik'], ['yang', 'lihat', 'untuk', 'jadi', 'lulus', 'baik'], ['timbang', 'dalam', 'tentu', 'lulus', 'baik'], ['timbang', 'untuk', 'tentu', 'lulus', 'baik'], ['aspek', 'dalam', 'tentu', 'lulus', 'baik'], ['aspek', 'tentu', 'lulus', 'baik'], ['aspek', 'untuk', 'tentu', 'lulus', 'baik'], ['indikator', 'untuk', 'tentu', 'lulus', 'baik'], ['indikator', 'dalam', 'tentu', 'lulus', 'baik'], ['apa', 'aja', 'indikator', 'yang', 'tentu', 'lulus', 'baik'], ['indikator', 'yang', 'tentu', 'lulus', 'baik'], ['indikator', 'lulus', 'baik', 'apa', 'aja'], ['indikator', 'jadi', 'lulus', 'baik'], ['apa', 'aja', 'indikator', 'jadi', 'lulus', 'baik'], ['indikator', 'jadi', 'lulus', 'baik', 'apa'], ['indikator', 'jadi', 'lulus', 'baik', 'apa', 'aja'], ['indikator', 'tentu', 'lulus', 'baik'], ['inikator', 'tentu', 'jadi', 'lulus', 'baik'], ['indikator', 'yang', 'lihat', 'dalam', 'tentu', 'lulus', 'baik'], ['indikator', 'untuk', 'menenetukan', 'lulus', 'baik'], ['indikator', 'buat', 'menetukan', 'lulus', 'baik'], ['apa', 'aja', 'faktor', 'tentu', 'lulus', 'baik'], ['apa', 'faktor', 'tentu', 'lulus', 'baik'], ['faktor', 'tentu', 'lulus', 'baik', 'apa', 'aja'], ['faktor', 'tentu', 'lulus', 'baik', 'apa'], ['faktor', 'tentu', 'lulus', 'baik', 'apa', 'ya'], ['faktor', 'yang', 'jadi', 'tentu', 'lulus', 'baik'], ['faktor', 'yang', 'tentu', 'lulus', 'baik'], ['lulus', 'baik', 'tentu', 'dari', 'apa'], ['lulus', 'baik', 'tentu', 'dari', 'faktor', 'apa', 'aja'], ['faktor', 'apa', 'aja', 'yang', 'jadi', 'tentu', 'lulus', 'baik'], ['yang', 'jadi', 'faktor', 'tentu', 'lulus', 'baik'], ['yang', 'jadi', 'indikator', 'tentu', 'lulus', 'baik'], ['faktor', 'tentu', 'lulus', 'baik', 'fakultas'], ['faktor', 'tentu', 'lulus', 'baik', 'universitas'], ['indikator', 'tentu', 'lulus', 'baik', 'fakultas'], ['indikator', 'tentu', 'lulus', 'baik', 'universitas'], ['gimana', 'tentu', 'lulus', 'baik'], ['gimana', 'tentu', 'lulus', 'baik', 'fakultas'], ['gimana', 'tentu', 'lulus', 'baik', 'universitas'], ['gimana', 'faktor', 'tentu', 'lulus', 'baik'], ['gimana', 'faktor', 'dalam', 'tentu', 'lulus', 'baik'], ['gimana', 'indikator', 'tentu', 'lulus', 'baik'], ['gimana', 'indikator', 'dalam', 'tentu', 'lulus', 'baik'], ['gimana', 'faktor', 'tentu', 'lulus', 'baik', 'fakultas'], ['gimana', 'faktor', 'tentu', 'lulus', 'baik', 'universitas'], ['lulus', 'baik'], ['lulus', 'baik', 'fakultas'], ['lulus', 'baik', 'universitas'], ['bagaimana', 'tata', 'tertib', 'uji', 'tugas', 'akhir'], ['tata', 'tertib', 'uji', 'tugas', 'akhir'], ['tata', 'tertib', 'uji', 'ta'], ['tata', 'tertib', 'sidang', 'ta'], ['tata', 'tertib', 'sidang', 'skripsi'], ['tata', 'tertib', 'dalam', 'laksana', 'sidang'], ['tata', 'tertib', 'dalam', 'laksana', 'sidang', 'akhir'], ['tata', 'tertib', 'dalam', 'laksa', 'sidang', 'tugas', 'akhir'], ['tata', 'tertib', 'dalam', 'laksana', 'sidang', 'ta'], ['tata', 'tertib', 'dalam', 'laksa', 'sidang', 'skripsi'], ['atur', 'dalam', 'laksana', 'sidang'], ['atur', 'dalam', 'laksana', 'sidang', 'akhir'], ['atur', 'dalam', 'laksana', 'sidang', 'ta'], ['atur', 'dalam', 'laksana', 'sidang', 'tugas', 'akhir'], ['atur', 'dalam', 'laksana', 'sidang', 'skripsi'], ['atur', 'sidang'], ['atur', 'sidang', 'akhir'], ['atur', 'sidang', 'ta'], ['atur', 'sidang', 'tugas', 'akhir'], ['atur', 'sidang', 'skripsi'], ['tur', 'dalam', 'sidang'], ['atur', 'dalam', 'sidang', 'akhir'], ['atur', 'dalam', 'sidang', 'ta'], ['atur', 'dalam', 'sidang', 'tugas', 'akhir'], ['pertaturan', 'dalam', 'sidang', 'skripsi'], ['atur', 'untuk', 'sidang'], ['atur', 'untuk', 'sidang', 'akhir'], ['atur', 'untuk', 'sidang', 'ta'], ['atur', 'untuk', 'sidang', 'tugas', 'akhir'], ['atur', 'untuk', 'sidang', 'skripsi'], ['gimana', 'atur', 'dalam', 'sidang'], ['gimana', 'atur', 'dalam', 'sidang', 'akhir'], ['gimana', 'atur', 'dalam', 'sidang', 'ta'], ['gimana', 'atur', 'dalam', 'sidang', 'tugas', 'akhir'], ['gimana', 'atur', 'dalam', 'sidang', 'skripsi'], ['bagaimana', 'atur', 'dalam', 'sidang'], ['bagaimana', 'atur', 'dalam', 'sidang', 'akhir'], ['bagaimana', 'atur', 'dalam', 'sidang', 'ta'], ['bagaimana', 'atur', 'dalam', 'sidang', 'tugas', 'akhir'], ['bagaimana', 'atur', 'dalam', 'sidang', 'skripsi'], ['gimana', 'atur', 'sidang'], ['gimana', 'atur', 'sidang', 'akhir'], ['gimana', 'atur', 'sidang', 'ta'], ['gimana', 'atur', 'sidang', 'tugas', 'akhir'], ['gimana', 'atur', 'sidang', 'skripsi'], ['bagaimana', 'atur', 'sidang'], ['bagaimana', 'atur', 'sidang', 'akhir'], ['bagaimana', 'atur', 'sidang', 'ta'], ['bagaimana', 'atur', 'sidang', 'tugas', 'akhir'], ['bagaimana', 'atur', 'sidang', 'skripsi'], ['gimana', 'tata', 'tertib', 'uji', 'ta'], ['gimana', 'tata', 'tertib', 'uji', 'tugas', 'akhir'], ['gimana', 'tata', 'tertib', 'uji', 'skripsi'], ['bagaimana', 'tata', 'tertib', 'uji', 'ta'], ['bagaimana', 'tata', 'tertib', 'uji', 'skripsi'], ['berapa', 'maksimal', 'semester', 'mahasiswa', 'wajib', 'lulus'], ['semester', 'wajib', 'lulus'], ['maksimal', 'semester', 'untuk', 'lulus'], ['semester', 'maksimal', 'untuk', 'lulus'], ['mahasiswa', 'wajib', 'lulus', 'pada', 'semester', 'berapa'], ['semester', 'berapa', 'mahasiswa', 'wajib', 'lulus'], ['wajib', 'lulus', 'pada', 'semester', 'berapa'], ['wajib', 'lulus', 'semester', 'berapa'], ['maksimal', 'semester'], ['maksimal', 'semester', 'kuliah'], ['semester', 'berapa', 'mahasiswa', 'harus', 'lulus'], ['semester', 'berapa', 'mahasiswa', 'harus', 'wajib', 'lulus'], ['mahasiswa', 'harus', 'lulus', 'pada', 'semester', 'berapa'], ['semester', 'wajib', 'lulus', 'bagi', 'mahasiswa', 's1'], ['semester', 'wajib', 'lulus', 'bagi', 'mahasiswa'], ['semester', 'harus', 'lulus', 'bagi', 'mahasiswa'], ['berapa', 'semester', 'mahasiswa', 'harus', 'lulus'], ['berapa', 'semester', 'mahasiswa', 'wajib', 'lulus'], ['wajib', 'lulus', 'bagi', 'mahasiswa'], ['maksimal', 'lama', 'waktu', 'studi'], ['lama', 'waktu', 'studi', 'maksimal'], ['maksimal', 'lama', 'waktu', 'studi', 'mahasiswa'], ['semester', 'berapa', 'yang', 'jadi', 'semester', 'akhir', 'mahasiswa'], ['maksimal', 'semester', 'untuk', 'lulus'], ['maksimal', 'semester', 'buat', 'lulus'], ['maksimal', 'lama', 'waktu', 'studi', 'untuk', 'lulus'], ['maksimal', 'lama', 'waktu', 'studi', 'buat', 'lulus'], ['batas', 'semester', 'untuk', 'lulus'], ['batas', 'semester', 'buat', 'lulus'], ['batas', 'akhir', 'semester', 'mahasiswa', 'wajib', 'lulus'], ['batas', 'akhir', 'semester', 'wajib', 'lulus'], ['semester', 'akhir', 'wajib', 'lulus'], ['semester', 'akhir', 'harus', 'lulus'], ['semester', 'maksimal', 'harus', 'lulus'], ['semester', 'maksimal', 'wajib', 'lulus'], ['maksimal', 'semester', 'berapa', 'untuk', 'lulus'], ['maksimal', 'semester', 'berapa', 'harus', 'lulus'], ['maksimal', 'semester', 'berapa', 'wajib', 'lulus'], ['semester', 'untuk', 'mahasiswa', 'wajib', 'lulus'], ['semester', 'untuk', 'mahasiswa', 'harus', 'lulus'], ['mahasiswa', 'harus', 'lulus', 'di', 'semester', 'berapa'], ['mahasiswa', 'harus', 'lulus', 'semester', 'berapa'], ['harus', 'semester', 'berapa', 'mahasiswa', 'lulus'], ['maksimal', 'semester', 'mahasiswa', 'untuk', 'lulus'], ['maksimal', 'semester', 'mahasiswa', 'buat', 'lulus'], ['maksimal', 'semester', 'untuk', 'mahasiswa', 'lulus'], ['maksimal', 'semester', 'bagi', 'mahasiswa', 'lulus'], ['semester', 'maksimal', 'lulus'], ['maksimal', 'semester', 'lulus'], ['lulus', 'maksimal', 'semester', 'berapa'], ['lulus', 'maksimal', 'semester', 'berapa', 'ya'], ['test', 'taep', 'bagi', 'wisudawan'], ['apakah', 'test', 'taep', 'wajib', 'untuk', 'wisudawan'], ['test', 'taep', 'untuk', 'wisudawan'], ['kapan', 'test', 'taep', 'untuk', 'wisudawan'], ['apakah', 'test', 'taep', 'wajib', 'bagi', 'wisudawan'], ['test', 'taep', 'bagi', 'wisudawan', 'betujuan', 'untuk'], ['tuju', 'test', 'taep', 'bagi', 'wisudawan'], ['test', 'taep', 'bagi', 'wisudawan', 'wajib', 'untuk'], ['tuju', 'test', 'taep', 'untuk', 'wisudawan'], ['test', 'taep', 'wisudawan', 'tuju', 'untuk'], ['taep'], ['tes', 'taep'], ['tuju', 'dari', 'test', 'taep', 'bagi', 'wisudawan'], ['tuju', 'tes', 'taep'], ['apakah', 'test', 'taep', 'masuk', 'dalam', 'syarat', 'wisuda'], ['tuju', 'dari', 'test', 'taep'], ['apa', 'tuju', 'dari', 'test', 'taep'], ['apa', 'tuju', 'dari', 'test', 'taep', 'bagi', 'wisudawan'], ['kenapa', 'test', 'taep', 'wajib', 'bagi', 'wisudawan'], ['test', 'taep', 'bagi', 'wisudawan', 'untuk', 'apa'], ['fungsi', 'test', 'taep', 'untuk', 'wisudawan'], ['untuk', 'apa', 'test', 'taep', 'bagi', 'wisudawan'], ['fungsi', 'test', 'taep', 'bagi', 'wisudawan'], ['test', 'taep', 'bagi', 'wisudawan', 'fungsi', 'apa'], ['test', 'taep', 'bagi', 'wisudawan', 'tuju', 'apa'], ['test', 'taep', 'untuk', 'wisudawan', 'tuju', 'apa', 'ya'], ['test', 'taep', 'untuk', 'wisudawan', 'fungsi', 'apa'], ['apa', 'fungsi', 'test', 'taep', 'bagi', 'wisudawan'], ['apa', 'fungsi', 'test', 'taep', 'untuk', 'wisudawan'], ['apa', 'tuju', 'test', 'taep', 'bagi', 'wisudawan'], ['apa', 'tuju', 'test', 'taep', 'untuk', 'wisudawan'], ['test', 'taep', 'untuk', 'wisudawan', 'apa', 'tuju'], ['test', 'taep', 'bagi', 'wisudawan', 'apa', 'tuju'], ['test', 'taep', 'untuk', 'wisudawan', 'apa', 'fungsi'], ['test', 'taep', 'bagi', 'wisudawan', 'apa', 'fungsi'], ['apa', 'sih', 'tuju', 'dari', 'test', 'taep', 'untuk', 'wisudawan'], ['apa', 'sih', 'tuju', 'dari', 'test', 'taep', 'bagi', 'wisudawan'], ['apa', 'sih', 'fungsi', 'dari', 'test', 'taep', 'untuk', 'wisudawan'], ['apa', 'sih', 'fungsi', 'dari', 'test', 'taep', 'bagi', 'wisudawan'], ['fungsi', 'dari', 'test', 'taep', 'wisudawan'], ['tuju', 'dari', 'test', 'taep', 'wisudawan'], ['test', 'taep', 'wisudawan', 'untuk', 'apa'], ['test', 'taep', 'wisudawan', 'buat', 'apa'], ['test', 'taep', 'wisudawan', 'apa', 'tuju'], ['test', 'taep', 'wisudawan', 'apa', 'fungsi'], ['test', 'taep', 'wisudawan', 'untuk', 'apa', 'sih'], ['test', 'taep', 'wisudawan', 'buat', 'apa', 'sih'], ['test', 'taep', 'wisudawan', 'tuju', 'buat', 'apa', 'sih'], ['test', 'taep', 'wisudawan', 'tuju', 'buat', 'apa', 'ya'], ['buat', 'apa', 'sih', 'test', 'taep', 'buat', 'wisudawan'], ['untuk', 'apa', 'sih', 'test', 'taep', 'buat', 'wisudawan'], ['kapan', 'sk', 'ta', 'akan', 'keluar'], ['sk', 'ta'], ['keluar', 'sk', 'ta'], ['apa', 'itu', 'sk', 'ta'], ['sk', 'ta', 'adalah'], ['sk', 'itu', 'apa'], ['kapan', 'sk', 'tugas', 'akhir', 'keluar'], ['sk', 'tugas', 'akhir'], ['keluar', 'sk', 'tugas', 'akhir'], ['terbit', 'sk', 'ta'], ['terbit', 'sk', 'tugas', 'akhir'], ['apa', 'sk', 'ta'], ['sk', 'ta', 'apa'], ['sk', 'ta', 'apa', 'sih'], ['apa', 'sih', 'sk', 'ta'], ['sk', 'ta', 'tu', 'gimana'], ['sk', 'ta', 'bagaimana'], ['ska', 'ta', 'gimana'], ['erti', 'sk', 'ta'], ['erti', 'dari', 'sk', 'ta'], ['erti', 'dari', 'sk', 'ta', 'adalah'], ['erti', 'sk', 'ta', 'adalah'], ['yang', 'maksud', 'dengan', 'sk', 'ta'], ['yang', 'maksud', 'dengan', 'sk', 'ta', 'adalah'], ['sk', 'ta', 'itu', 'apa', 'ya'], ['sk', 'ta', 'tu', 'apa', 'ya'], ['apa', 'sih', 'sk', 'ta', 'itu'], ['apa', 'sih', 'sk', 'ta', 'tu'], ['sk', 'ta', 'itu', 'apa', 'sih'], ['gimana', 'sk', 'ta', 'tu'], ['gimana', 'sk', 'ta', 'itu'], ['gimana', 'sih', 'sk', 'ta', 'itu'], ['sk', 'ta', 'itu', 'gimana', 'sih'], ['sk', 'itu', 'gimana', 'ya'], ['sk', 'ta', 'apa', 'ya'], ['jelas', 'sk', 'ta'], ['jelas', 'sk', 'ta', 'tu', 'apa'], ['jelas', 'tentang', 'sk', 'ta'], ['jelas', 'kena', 'sk', 'ta'], ['jelas', 'tentang', 'sk', 'ta', 'itu', 'apa'], ['apa', 'jelas', 'tentang', 'sk', 'ta'], ['apa', 'jelas', 'tentang', 'sk', 'ta', 'gimana'], ['apa', 'jelas', 'sk', 'ta', 'bagaimana'], ['gimana', 'jelas', 'tentang', 'sk', 'ta'], ['gimana', 'jelas', 'kena', 'sk', 'ta'], ['bagaimana', 'jelas', 'tentang', 'sk', 'ta'], ['bagaimana', 'jelas', 'kena', 'sk', 'ta'], ['jelas', 'tentang', 'sk', 'ta', 'dong'], ['jelas', 'tentang', 'sk', 'ta', 'dong'], ['gimana', 'sih', 'sk', 'ta', 'tu'], ['gimana', 'sih', 'sk', 'ta', 'itu']]\n"
          ]
        }
      ],
      "source": [
        "print(len(training_sentences))\n",
        "print(training_sentences)"
      ]
    },
    {
      "cell_type": "code",
      "execution_count": null,
      "metadata": {
        "colab": {
          "base_uri": "https://localhost:8080/"
        },
        "id": "VzugLz_smrSa",
        "outputId": "754be487-57e2-4a15-b0e4-6c6dab756383"
      },
      "outputs": [
        {
          "output_type": "stream",
          "name": "stdout",
          "text": [
            "3460\n",
            "['salam_pembuka', 'salam_pembuka', 'salam_pembuka', 'salam_pembuka', 'salam_pembuka', 'salam_pembuka', 'salam_pembuka', 'salam_pembuka', 'salam_pembuka', 'salam_pembuka', 'salam_pembuka', 'salam_pembuka', 'salam_pembuka', 'salam_pembuka', 'salam_pembuka', 'salam_pembuka', 'salam_pembuka', 'salam_pembuka', 'salam_pembuka', 'salam_pembuka', 'salam_pembuka', 'salam_pembuka', 'salam_pembuka', 'salam_pembuka', 'salam_pembuka', 'salam_pembuka', 'salam_pembuka', 'salam_pembuka', 'salam_pembuka', 'salam_pembuka', 'salam_pembuka', 'salam_pembuka', 'salam_pembuka', 'salam_pembuka', 'salam_pembuka', 'salam_pembuka', 'salam_pembuka', 'salam_pembuka', 'salam_pembuka', 'salam_pembuka', 'salam_pembuka', 'salam_pembuka', 'salam_pembuka', 'salam_pembuka', 'salam_pembuka', 'salam_pembuka', 'salam_pembuka', 'salam_pembuka', 'salam_pembuka', 'salam_pembuka', 'salam_pembuka', 'salam_pembuka', 'salam_pembuka', 'salam_pembuka', 'salam_pembuka', 'salam_pembuka', 'salam_pembuka', 'salam_pembuka', 'salam_pembuka', 'salam_pembuka', 'salam_pembuka', 'salam_pembuka', 'salam_pembuka', 'salam_pembuka', 'salam_pembuka', 'salam_pembuka', 'salam_pembuka', 'salam_pembuka', 'salam_pembuka', 'salam_pembuka', 'salam_pembuka', 'salam_pembuka', 'salam_penutup', 'salam_penutup', 'salam_penutup', 'salam_penutup', 'salam_penutup', 'salam_penutup', 'salam_penutup', 'salam_penutup', 'salam_penutup', 'salam_penutup', 'salam_penutup', 'salam_penutup', 'salam_penutup', 'salam_penutup', 'salam_penutup', 'salam_penutup', 'salam_penutup', 'salam_penutup', 'salam_penutup', 'salam_penutup', 'salam_penutup', 'salam_penutup', 'salam_penutup', 'salam_penutup', 'salam_penutup', 'salam_penutup', 'salam_penutup', 'salam_penutup', 'salam_penutup', 'salam_penutup', 'salam_penutup', 'salam_penutup', 'salam_penutup', 'salam_penutup', 'salam_penutup', 'salam_penutup', 'salam_penutup', 'salam_penutup', 'salam_penutup', 'salam_penutup', 'salam_penutup', 'salam_penutup', 'salam_penutup', 'salam_penutup', 'salam_penutup', 'salam_penutup', 'salam_penutup', 'salam_penutup', 'salam_penutup', 'salam_penutup', 'salam_penutup', 'salam_penutup', 'salam_penutup', 'salam_penutup', 'salam_penutup', 'salam_penutup', 'salam_penutup', 'salam_penutup', 'salam_penutup', 'salam_penutup', 'salam_penutup', 'salam_penutup', 'salam_penutup', 'salam_penutup', 'salam_penutup', 'salam_penutup', 'salam_penutup', 'salam_penutup', 'salam_penutup', 'salam_penutup', 'salam_penutup', 'salam_penutup', 'skripsi', 'skripsi', 'skripsi', 'skripsi', 'skripsi', 'skripsi', 'skripsi', 'skripsi', 'skripsi', 'skripsi', 'skripsi', 'skripsi', 'skripsi', 'skripsi', 'skripsi', 'skripsi', 'skripsi', 'skripsi', 'skripsi', 'skripsi', 'skripsi', 'skripsi', 'skripsi', 'skripsi', 'skripsi', 'skripsi', 'skripsi', 'skripsi', 'skripsi', 'skripsi', 'skripsi', 'skripsi', 'skripsi', 'skripsi', 'skripsi', 'skripsi', 'skripsi', 'skripsi', 'skripsi', 'skripsi', 'skripsi', 'skripsi', 'skripsi', 'skripsi', 'skripsi', 'skripsi', 'skripsi', 'skripsi', 'skripsi', 'skripsi', 'skripsi', 'skripsi', 'skripsi', 'syarat_ujian_ta', 'syarat_ujian_ta', 'syarat_ujian_ta', 'syarat_ujian_ta', 'syarat_ujian_ta', 'syarat_ujian_ta', 'syarat_ujian_ta', 'syarat_ujian_ta', 'syarat_ujian_ta', 'syarat_ujian_ta', 'syarat_ujian_ta', 'syarat_ujian_ta', 'syarat_ujian_ta', 'syarat_ujian_ta', 'syarat_ujian_ta', 'syarat_ujian_ta', 'syarat_ujian_ta', 'syarat_ujian_ta', 'syarat_ujian_ta', 'syarat_ujian_ta', 'syarat_ujian_ta', 'syarat_ujian_ta', 'syarat_ujian_ta', 'syarat_ujian_ta', 'syarat_ujian_ta', 'syarat_ujian_ta', 'syarat_ujian_ta', 'syarat_ujian_ta', 'syarat_ujian_ta', 'syarat_ujian_ta', 'syarat_ujian_ta', 'syarat_ujian_ta', 'syarat_ujian_ta', 'syarat_ujian_ta', 'syarat_ujian_ta', 'syarat_ujian_ta', 'syarat_ujian_ta', 'syarat_ujian_ta', 'syarat_ujian_ta', 'syarat_ujian_ta', 'syarat_ujian_ta', 'syarat_ujian_ta', 'syarat_ujian_ta', 'syarat_ujian_ta', 'syarat_ujian_ta', 'syarat_ujian_ta', 'syarat_ujian_ta', 'syarat_ujian_ta', 'syarat_ujian_ta', 'syarat_ujian_ta', 'syarat_ujian_ta', 'syarat_ujian_ta', 'syarat_ujian_ta', 'proposal_ta', 'proposal_ta', 'proposal_ta', 'proposal_ta', 'proposal_ta', 'proposal_ta', 'proposal_ta', 'proposal_ta', 'proposal_ta', 'proposal_ta', 'proposal_ta', 'proposal_ta', 'proposal_ta', 'proposal_ta', 'proposal_ta', 'proposal_ta', 'proposal_ta', 'proposal_ta', 'proposal_ta', 'proposal_ta', 'proposal_ta', 'proposal_ta', 'proposal_ta', 'proposal_ta', 'proposal_ta', 'proposal_ta', 'proposal_ta', 'proposal_ta', 'proposal_ta', 'proposal_ta', 'proposal_ta', 'proposal_ta', 'proposal_ta', 'proposal_ta', 'proposal_ta', 'proposal_ta', 'proposal_ta', 'proposal_ta', 'proposal_ta', 'proposal_ta', 'proposal_ta', 'proposal_ta', 'proposal_ta', 'proposal_ta', 'proposal_ta', 'proposal_ta', 'proposal_ta', 'proposal_ta', 'proposal_ta', 'proposal_ta', 'proposal_ta', 'proposal_ta', 'proposal_ta', 'proposal_ta', 'proposal_ta', 'proposal_ta', 'proposal_ta', 'proposal_ta', 'proposal_ta', 'proposal_ta', 'proposal_ta', 'proposal_ta', 'proposal_ta', 'proposal_ta', 'proposal_ta', 'proposal_ta', 'proposal_ta', 'proposal_ta', 'proposal_ta', 'proposal_ta', 'proposal_ta', 'proposal_ta', 'proposal_ta', 'proposal_ta', 'proposal_ta', 'proposal_ta', 'proposal_ta', 'proposal_ta', 'proposal_ta', 'proposal_ta', 'proposal_ta', 'proposal_ta', 'proposal_ta', 'proposal_ta', 'proposal_ta', 'proposal_ta', 'proposal_ta', 'proposal_ta', 'proposal_ta', 'proposal_ta', 'proposal_ta', 'proposal_ta', 'proposal_ta', 'proposal_ta', 'proposal_ta', 'proposal_ta', 'proposal_ta', 'proposal_ta', 'proposal_ta', 'proposal_ta', 'proposal_ta', 'proposal_ta', 'proposal_ta', 'proposal_ta', 'laporan_ta', 'laporan_ta', 'laporan_ta', 'laporan_ta', 'laporan_ta', 'laporan_ta', 'laporan_ta', 'laporan_ta', 'laporan_ta', 'laporan_ta', 'laporan_ta', 'laporan_ta', 'laporan_ta', 'laporan_ta', 'laporan_ta', 'laporan_ta', 'laporan_ta', 'laporan_ta', 'laporan_ta', 'laporan_ta', 'laporan_ta', 'laporan_ta', 'laporan_ta', 'laporan_ta', 'laporan_ta', 'laporan_ta', 'laporan_ta', 'laporan_ta', 'laporan_ta', 'laporan_ta', 'laporan_ta', 'laporan_ta', 'laporan_ta', 'laporan_ta', 'laporan_ta', 'laporan_ta', 'laporan_ta', 'laporan_ta', 'laporan_ta', 'laporan_ta', 'laporan_ta', 'laporan_ta', 'laporan_ta', 'laporan_ta', 'laporan_ta', 'laporan_ta', 'laporan_ta', 'laporan_ta', 'laporan_ta', 'laporan_ta', 'laporan_ta', 'laporan_ta', 'laporan_ta', 'laporan_ta', 'laporan_ta', 'laporan_ta', 'laporan_ta', 'laporan_ta', 'laporan_ta', 'laporan_ta', 'laporan_ta', 'laporan_ta', 'laporan_ta', 'laporan_ta', 'laporan_ta', 'laporan_ta', 'laporan_ta', 'laporan_ta', 'laporan_ta', 'laporan_ta', 'laporan_ta', 'laporan_ta', 'laporan_ta', 'laporan_ta', 'laporan_ta', 'laporan_ta', 'laporan_ta', 'laporan_ta', 'laporan_ta', 'laporan_ta', 'laporan_ta', 'laporan_ta', 'laporan_ta', 'laporan_ta', 'laporan_ta', 'laporan_ta', 'laporan_ta', 'laporan_ta', 'laporan_ta', 'laporan_ta', 'laporan_ta', 'laporan_ta', 'laporan_ta', 'laporan_ta', 'laporan_ta', 'laporan_ta', 'laporan_ta', 'laporan_ta', 'laporan_ta', 'laporan_ta', 'laporan_ta', 'laporan_ta', 'alur_pengerjaan', 'alur_pengerjaan', 'alur_pengerjaan', 'alur_pengerjaan', 'alur_pengerjaan', 'alur_pengerjaan', 'alur_pengerjaan', 'alur_pengerjaan', 'alur_pengerjaan', 'alur_pengerjaan', 'alur_pengerjaan', 'alur_pengerjaan', 'alur_pengerjaan', 'alur_pengerjaan', 'alur_pengerjaan', 'alur_pengerjaan', 'alur_pengerjaan', 'alur_pengerjaan', 'alur_pengerjaan', 'alur_pengerjaan', 'alur_pengerjaan', 'alur_pengerjaan', 'alur_pengerjaan', 'alur_pengerjaan', 'alur_pengerjaan', 'alur_pengerjaan', 'alur_pengerjaan', 'alur_pengerjaan', 'alur_pengerjaan', 'alur_pengerjaan', 'alur_pengerjaan', 'alur_pengerjaan', 'alur_pengerjaan', 'alur_pengerjaan', 'alur_pengerjaan', 'alur_pengerjaan', 'alur_pengerjaan', 'alur_pengerjaan', 'alur_pengerjaan', 'alur_pengerjaan', 'alur_pengerjaan', 'alur_pengerjaan', 'alur_pengerjaan', 'alur_pengerjaan', 'alur_pengerjaan', 'alur_pengerjaan', 'alur_pengerjaan', 'alur_pengerjaan', 'alur_pengerjaan', 'alur_pengerjaan', 'alur_pengerjaan', 'alur_pengerjaan', 'alur_pengerjaan', 'sempro', 'sempro', 'sempro', 'sempro', 'sempro', 'sempro', 'sempro', 'sempro', 'sempro', 'sempro', 'sempro', 'sempro', 'sempro', 'sempro', 'sempro', 'sempro', 'sempro', 'sempro', 'sempro', 'sempro', 'sempro', 'sempro', 'sempro', 'sempro', 'sempro', 'sempro', 'sempro', 'sempro', 'sempro', 'sempro', 'sempro', 'sempro', 'sempro', 'sempro', 'sempro', 'sempro', 'sempro', 'sempro', 'sempro', 'sempro', 'sempro', 'sempro', 'sempro', 'sempro', 'sempro', 'sempro', 'sempro', 'sempro', 'sempro', 'sempro', 'sempro', 'sempro', 'sempro', 'sempro', 'sempro', 'sempro', 'sempro', 'sempro', 'sidang', 'sidang', 'sidang', 'sidang', 'sidang', 'sidang', 'sidang', 'sidang', 'sidang', 'sidang', 'sidang', 'sidang', 'sidang', 'sidang', 'sidang', 'sidang', 'sidang', 'sidang', 'sidang', 'sidang', 'sidang', 'sidang', 'sidang', 'sidang', 'sidang', 'sidang', 'sidang', 'sidang', 'sidang', 'sidang', 'sidang', 'sidang', 'sidang', 'sidang', 'sidang', 'sidang', 'sidang', 'sidang', 'sidang', 'sidang', 'sidang', 'sidang', 'sidang', 'sidang', 'sidang', 'sidang', 'sidang', 'sidang', 'sidang', 'sidang', 'sidang', 'sidang', 'sidang', 'sidang', 'semhas', 'semhas', 'semhas', 'semhas', 'semhas', 'semhas', 'semhas', 'semhas', 'semhas', 'semhas', 'semhas', 'semhas', 'semhas', 'semhas', 'semhas', 'semhas', 'semhas', 'semhas', 'semhas', 'semhas', 'semhas', 'semhas', 'semhas', 'semhas', 'semhas', 'semhas', 'semhas', 'semhas', 'semhas', 'semhas', 'semhas', 'semhas', 'semhas', 'semhas', 'semhas', 'semhas', 'semhas', 'semhas', 'semhas', 'semhas', 'semhas', 'semhas', 'semhas', 'semhas', 'semhas', 'semhas', 'semhas', 'semhas', 'semhas', 'semhas', 'semhas', 'semhas', 'yudisium', 'yudisium', 'yudisium', 'yudisium', 'yudisium', 'yudisium', 'yudisium', 'yudisium', 'yudisium', 'yudisium', 'yudisium', 'yudisium', 'yudisium', 'yudisium', 'yudisium', 'yudisium', 'yudisium', 'yudisium', 'yudisium', 'yudisium', 'yudisium', 'yudisium', 'yudisium', 'yudisium', 'yudisium', 'yudisium', 'yudisium', 'yudisium', 'yudisium', 'yudisium', 'yudisium', 'yudisium', 'yudisium', 'yudisium', 'yudisium', 'yudisium', 'yudisium', 'yudisium', 'yudisium', 'yudisium', 'yudisium', 'yudisium', 'yudisium', 'yudisium', 'yudisium', 'yudisium', 'yudisium', 'yudisium', 'yudisium', 'yudisium', 'yudisium', 'wisuda', 'wisuda', 'wisuda', 'wisuda', 'wisuda', 'wisuda', 'wisuda', 'wisuda', 'wisuda', 'wisuda', 'wisuda', 'wisuda', 'wisuda', 'wisuda', 'wisuda', 'wisuda', 'wisuda', 'wisuda', 'wisuda', 'wisuda', 'wisuda', 'wisuda', 'wisuda', 'wisuda', 'wisuda', 'wisuda', 'wisuda', 'wisuda', 'wisuda', 'wisuda', 'wisuda', 'wisuda', 'wisuda', 'wisuda', 'wisuda', 'wisuda', 'wisuda', 'wisuda', 'wisuda', 'wisuda', 'wisuda', 'wisuda', 'wisuda', 'wisuda', 'wisuda', 'wisuda', 'wisuda', 'wisuda', 'wisuda', 'wisuda', 'wisuda', 'wisuda', 'wisuda', 'wisuda', 'wisuda', 'syarat_sempro', 'syarat_sempro', 'syarat_sempro', 'syarat_sempro', 'syarat_sempro', 'syarat_sempro', 'syarat_sempro', 'syarat_sempro', 'syarat_sempro', 'syarat_sempro', 'syarat_sempro', 'syarat_sempro', 'syarat_sempro', 'syarat_sempro', 'syarat_sempro', 'syarat_sempro', 'syarat_sempro', 'syarat_sempro', 'syarat_sempro', 'syarat_sempro', 'syarat_sempro', 'syarat_sempro', 'syarat_sempro', 'syarat_sempro', 'syarat_sempro', 'syarat_sempro', 'syarat_sempro', 'syarat_sempro', 'syarat_sempro', 'syarat_sempro', 'syarat_sempro', 'syarat_sempro', 'syarat_sempro', 'syarat_sempro', 'syarat_sempro', 'syarat_sempro', 'syarat_sempro', 'syarat_sempro', 'syarat_sempro', 'syarat_sempro', 'syarat_sempro', 'syarat_sempro', 'syarat_sempro', 'syarat_sempro', 'syarat_sempro', 'syarat_sempro', 'syarat_sempro', 'syarat_sempro', 'syarat_sempro', 'syarat_sempro', 'syarat_sempro', 'syarat_sempro', 'syarat_sempro', 'syarat_sempro', 'syarat_sempro', 'syarat_sempro', 'syarat_sempro', 'syarat_sempro', 'syarat_sempro', 'syarat_sempro', 'syarat_sempro', 'syarat_sempro', 'syarat_sempro', 'syarat_sempro', 'syarat_sempro', 'syarat_sempro', 'syarat_sempro', 'syarat_sempro', 'syarat_sempro', 'syarat_sempro', 'syarat_sempro', 'syarat_sidang', 'syarat_sidang', 'syarat_sidang', 'syarat_sidang', 'syarat_sidang', 'syarat_sidang', 'syarat_sidang', 'syarat_sidang', 'syarat_sidang', 'syarat_sidang', 'syarat_sidang', 'syarat_sidang', 'syarat_sidang', 'syarat_sidang', 'syarat_sidang', 'syarat_sidang', 'syarat_sidang', 'syarat_sidang', 'syarat_sidang', 'syarat_sidang', 'syarat_sidang', 'syarat_sidang', 'syarat_sidang', 'syarat_sidang', 'syarat_sidang', 'syarat_sidang', 'syarat_sidang', 'syarat_sidang', 'syarat_sidang', 'syarat_sidang', 'syarat_sidang', 'syarat_sidang', 'syarat_sidang', 'syarat_sidang', 'syarat_sidang', 'syarat_sidang', 'syarat_sidang', 'syarat_sidang', 'syarat_sidang', 'syarat_sidang', 'syarat_sidang', 'syarat_sidang', 'syarat_sidang', 'syarat_sidang', 'syarat_sidang', 'syarat_sidang', 'syarat_sidang', 'syarat_sidang', 'syarat_sidang', 'syarat_sidang', 'syarat_sidang', 'syarat_sidang', 'syarat_sidang', 'syarat_sidang', 'syarat_sidang', 'syarat_sidang', 'syarat_sidang', 'syarat_sidang', 'syarat_sidang', 'syarat_sidang', 'syarat_sidang', 'syarat_sidang', 'syarat_sidang', 'syarat_sidang', 'syarat_sidang', 'syarat_sidang', 'syarat_sidang', 'syarat_sidang', 'syarat_sidang', 'syarat_sidang', 'syarat_sidang', 'syarat_sidang', 'syarat_sidang', 'syarat_sidang', 'syarat_sidang', 'syarat_sidang', 'syarat_sidang', 'syarat_sidang', 'syarat_sidang', 'syarat_sidang', 'syarat_sidang', 'syarat_sidang', 'syarat_sidang', 'syarat_sidang', 'syarat_sidang', 'syarat_sidang', 'syarat_sidang', 'syarat_sidang', 'syarat_sidang', 'syarat_sidang', 'syarat_sidang', 'syarat_sidang', 'syarat_sidang', 'syarat_sidang', 'syarat_sidang', 'syarat_sidang', 'syarat_sidang', 'syarat_sidang', 'syarat_sidang', 'syarat_sidang', 'syarat_sidang', 'syarat_sidang', 'syarat_sidang', 'syarat_sidang', 'syarat_sidang', 'syarat_sidang', 'syarat_sidang', 'syarat_semhas', 'syarat_semhas', 'syarat_semhas', 'syarat_semhas', 'syarat_semhas', 'syarat_semhas', 'syarat_semhas', 'syarat_semhas', 'syarat_semhas', 'syarat_semhas', 'syarat_semhas', 'syarat_semhas', 'syarat_semhas', 'syarat_semhas', 'syarat_semhas', 'syarat_semhas', 'syarat_semhas', 'syarat_semhas', 'syarat_semhas', 'syarat_semhas', 'syarat_semhas', 'syarat_semhas', 'syarat_semhas', 'syarat_semhas', 'syarat_semhas', 'syarat_semhas', 'syarat_semhas', 'syarat_semhas', 'syarat_semhas', 'syarat_semhas', 'syarat_semhas', 'syarat_semhas', 'syarat_semhas', 'syarat_semhas', 'syarat_semhas', 'syarat_semhas', 'syarat_semhas', 'syarat_semhas', 'syarat_semhas', 'syarat_semhas', 'syarat_semhas', 'syarat_semhas', 'syarat_semhas', 'syarat_semhas', 'syarat_semhas', 'syarat_semhas', 'syarat_semhas', 'syarat_semhas', 'syarat_semhas', 'syarat_semhas', 'syarat_semhas', 'syarat_semhas', 'syarat_semhas', 'syarat_semhas', 'syarat_semhas', 'syarat_semhas', 'syarat_semhas', 'syarat_semhas', 'syarat_semhas', 'syarat_semhas', 'syarat_yudisium', 'syarat_yudisium', 'syarat_yudisium', 'syarat_yudisium', 'syarat_yudisium', 'syarat_yudisium', 'syarat_yudisium', 'syarat_yudisium', 'syarat_yudisium', 'syarat_yudisium', 'syarat_yudisium', 'syarat_yudisium', 'syarat_yudisium', 'syarat_yudisium', 'syarat_yudisium', 'syarat_yudisium', 'syarat_yudisium', 'syarat_yudisium', 'syarat_yudisium', 'syarat_yudisium', 'syarat_yudisium', 'syarat_yudisium', 'syarat_yudisium', 'syarat_yudisium', 'syarat_yudisium', 'syarat_yudisium', 'syarat_yudisium', 'syarat_yudisium', 'syarat_yudisium', 'syarat_yudisium', 'syarat_yudisium', 'syarat_yudisium', 'syarat_yudisium', 'syarat_yudisium', 'syarat_yudisium', 'syarat_yudisium', 'syarat_yudisium', 'syarat_yudisium', 'syarat_yudisium', 'syarat_yudisium', 'syarat_yudisium', 'syarat_yudisium', 'syarat_yudisium', 'syarat_yudisium', 'syarat_yudisium', 'syarat_yudisium', 'syarat_yudisium', 'syarat_yudisium', 'syarat_yudisium', 'syarat_yudisium', 'syarat_yudisium', 'syarat_yudisium', 'syarat_yudisium', 'syarat_yudisium', 'syarat_yudisium', 'syarat_yudisium', 'syarat_yudisium', 'syarat_yudisium', 'syarat_yudisium', 'syarat_yudisium', 'syarat_yudisium', 'syarat_yudisium', 'syarat_yudisium', 'syarat_yudisium', 'syarat_yudisium', 'syarat_yudisium', 'syarat_yudisium', 'syarat_wisuda', 'syarat_wisuda', 'syarat_wisuda', 'syarat_wisuda', 'syarat_wisuda', 'syarat_wisuda', 'syarat_wisuda', 'syarat_wisuda', 'syarat_wisuda', 'syarat_wisuda', 'syarat_wisuda', 'syarat_wisuda', 'syarat_wisuda', 'syarat_wisuda', 'syarat_wisuda', 'syarat_wisuda', 'syarat_wisuda', 'syarat_wisuda', 'syarat_wisuda', 'syarat_wisuda', 'syarat_wisuda', 'syarat_wisuda', 'syarat_wisuda', 'syarat_wisuda', 'syarat_wisuda', 'syarat_wisuda', 'syarat_wisuda', 'syarat_wisuda', 'syarat_wisuda', 'syarat_wisuda', 'syarat_wisuda', 'syarat_wisuda', 'syarat_wisuda', 'syarat_wisuda', 'syarat_wisuda', 'syarat_wisuda', 'syarat_wisuda', 'syarat_wisuda', 'syarat_wisuda', 'syarat_wisuda', 'syarat_wisuda', 'syarat_wisuda', 'syarat_wisuda', 'syarat_wisuda', 'syarat_wisuda', 'syarat_wisuda', 'syarat_wisuda', 'syarat_wisuda', 'syarat_wisuda', 'syarat_wisuda', 'syarat_wisuda', 'syarat_wisuda', 'syarat_wisuda', 'syarat_wisuda', 'syarat_wisuda', 'syarat_wisuda', 'syarat_wisuda', 'syarat_wisuda', 'syarat_wisuda', 'syarat_wisuda', 'syarat_wisuda', 'syarat_wisuda', 'dosbing', 'dosbing', 'dosbing', 'dosbing', 'dosbing', 'dosbing', 'dosbing', 'dosbing', 'dosbing', 'dosbing', 'dosbing', 'dosbing', 'dosbing', 'dosbing', 'dosbing', 'dosbing', 'dosbing', 'dosbing', 'dosbing', 'dosbing', 'dosbing', 'dosbing', 'dosbing', 'dosbing', 'dosbing', 'dosbing', 'dosbing', 'dosbing', 'dosbing', 'dosbing', 'dosbing', 'dosbing', 'dosbing', 'dosbing', 'dosbing', 'dosbing', 'dosbing', 'dosbing', 'dosbing', 'dosbing', 'dosbing', 'dosbing', 'dosbing', 'dosbing', 'dosbing', 'dosbing', 'dosbing', 'dosbing', 'dosbing', 'dosbing', 'dosbing', 'dosbing', 'dosbing', 'dosbing', 'dosbing', 'dosbing', 'dosbing', 'dosbing', 'dosbing', 'dosbing', 'dosbing', 'dosbing', 'dosbing_1', 'dosbing_1', 'dosbing_1', 'dosbing_1', 'dosbing_1', 'dosbing_1', 'dosbing_1', 'dosbing_1', 'dosbing_1', 'dosbing_1', 'dosbing_1', 'dosbing_1', 'dosbing_1', 'dosbing_1', 'dosbing_1', 'dosbing_1', 'dosbing_1', 'dosbing_1', 'dosbing_1', 'dosbing_1', 'dosbing_1', 'dosbing_1', 'dosbing_1', 'dosbing_1', 'dosbing_1', 'dosbing_1', 'dosbing_1', 'dosbing_1', 'dosbing_1', 'dosbing_1', 'dosbing_1', 'dosbing_1', 'dosbing_1', 'dosbing_1', 'dosbing_1', 'dosbing_1', 'dosbing_1', 'dosbing_1', 'dosbing_1', 'dosbing_1', 'dosbing_1', 'dosbing_1', 'dosbing_1', 'dosbing_1', 'dosbing_1', 'dosbing_1', 'dosbing_1', 'dosbing_1', 'dosbing_1', 'dosbing_1', 'dosbing_1', 'memilih_dosbing', 'memilih_dosbing', 'memilih_dosbing', 'memilih_dosbing', 'memilih_dosbing', 'memilih_dosbing', 'memilih_dosbing', 'memilih_dosbing', 'memilih_dosbing', 'memilih_dosbing', 'memilih_dosbing', 'memilih_dosbing', 'memilih_dosbing', 'memilih_dosbing', 'memilih_dosbing', 'memilih_dosbing', 'memilih_dosbing', 'memilih_dosbing', 'memilih_dosbing', 'memilih_dosbing', 'memilih_dosbing', 'memilih_dosbing', 'memilih_dosbing', 'memilih_dosbing', 'memilih_dosbing', 'memilih_dosbing', 'memilih_dosbing', 'memilih_dosbing', 'memilih_dosbing', 'memilih_dosbing', 'memilih_dosbing', 'memilih_dosbing', 'memilih_dosbing', 'memilih_dosbing', 'memilih_dosbing', 'memilih_dosbing', 'memilih_dosbing', 'memilih_dosbing', 'memilih_dosbing', 'memilih_dosbing', 'memilih_dosbing', 'memilih_dosbing', 'memilih_dosbing', 'memilih_dosbing', 'memilih_dosbing', 'memilih_dosbing', 'memilih_dosbing', 'memilih_dosbing', 'memilih_dosbing', 'memilih_dosbing', 'memilih_dosbing', 'memilih_dosbing', 'memilih_dosbing', 'syarat_bimbingan', 'syarat_bimbingan', 'syarat_bimbingan', 'syarat_bimbingan', 'syarat_bimbingan', 'syarat_bimbingan', 'syarat_bimbingan', 'syarat_bimbingan', 'syarat_bimbingan', 'syarat_bimbingan', 'syarat_bimbingan', 'syarat_bimbingan', 'syarat_bimbingan', 'syarat_bimbingan', 'syarat_bimbingan', 'syarat_bimbingan', 'syarat_bimbingan', 'syarat_bimbingan', 'syarat_bimbingan', 'syarat_bimbingan', 'syarat_bimbingan', 'syarat_bimbingan', 'syarat_bimbingan', 'syarat_bimbingan', 'syarat_bimbingan', 'syarat_bimbingan', 'syarat_bimbingan', 'syarat_bimbingan', 'syarat_bimbingan', 'syarat_bimbingan', 'syarat_bimbingan', 'syarat_bimbingan', 'syarat_bimbingan', 'syarat_bimbingan', 'syarat_bimbingan', 'syarat_bimbingan', 'syarat_bimbingan', 'syarat_bimbingan', 'syarat_bimbingan', 'syarat_bimbingan', 'syarat_bimbingan', 'syarat_bimbingan', 'syarat_bimbingan', 'syarat_bimbingan', 'syarat_bimbingan', 'syarat_bimbingan', 'syarat_bimbingan', 'syarat_bimbingan', 'syarat_bimbingan', 'syarat_bimbingan', 'syarat_bimbingan', 'syarat_bimbingan', 'syarat_bimbingan', 'syarat_bimbingan', 'syarat_bimbingan', 'template_ta', 'template_ta', 'template_ta', 'template_ta', 'template_ta', 'template_ta', 'template_ta', 'template_ta', 'template_ta', 'template_ta', 'template_ta', 'template_ta', 'template_ta', 'template_ta', 'template_ta', 'template_ta', 'template_ta', 'template_ta', 'template_ta', 'template_ta', 'template_ta', 'template_ta', 'template_ta', 'template_ta', 'template_ta', 'template_ta', 'template_ta', 'template_ta', 'template_ta', 'template_ta', 'template_ta', 'template_ta', 'template_ta', 'template_ta', 'template_ta', 'template_ta', 'template_ta', 'template_ta', 'template_ta', 'template_ta', 'template_ta', 'template_ta', 'template_ta', 'template_ta', 'template_ta', 'template_ta', 'template_ta', 'template_ta', 'template_ta', 'template_ta', 'template_ta', 'template_ta', 'template_ta', 'template_proposal', 'template_proposal', 'template_proposal', 'template_proposal', 'template_proposal', 'template_proposal', 'template_proposal', 'template_proposal', 'template_proposal', 'template_proposal', 'template_proposal', 'template_proposal', 'template_proposal', 'template_proposal', 'template_proposal', 'template_proposal', 'template_proposal', 'template_proposal', 'template_proposal', 'template_proposal', 'template_proposal', 'template_proposal', 'template_proposal', 'template_proposal', 'template_proposal', 'template_proposal', 'template_proposal', 'template_proposal', 'template_proposal', 'template_proposal', 'template_proposal', 'template_proposal', 'template_proposal', 'template_proposal', 'template_proposal', 'template_proposal', 'template_proposal', 'template_proposal', 'template_proposal', 'template_proposal', 'template_proposal', 'template_proposal', 'template_proposal', 'template_proposal', 'template_proposal', 'template_proposal', 'template_proposal', 'template_proposal', 'template_proposal', 'template_proposal', 'template_proposal', 'template_proposal', 'template_proposal', 'template_proposal', 'bimbingan', 'bimbingan', 'bimbingan', 'bimbingan', 'bimbingan', 'bimbingan', 'bimbingan', 'bimbingan', 'bimbingan', 'bimbingan', 'bimbingan', 'bimbingan', 'bimbingan', 'bimbingan', 'bimbingan', 'bimbingan', 'bimbingan', 'bimbingan', 'bimbingan', 'bimbingan', 'bimbingan', 'bimbingan', 'bimbingan', 'bimbingan', 'bimbingan', 'bimbingan', 'bimbingan', 'bimbingan', 'bimbingan', 'bimbingan', 'bimbingan', 'bimbingan', 'bimbingan', 'bimbingan', 'bimbingan', 'bimbingan', 'bimbingan', 'bimbingan', 'bimbingan', 'bimbingan', 'bimbingan', 'bimbingan', 'bimbingan', 'bimbingan', 'bimbingan', 'bimbingan', 'bimbingan', 'bimbingan', 'bimbingan', 'bimbingan', 'bimbingan', 'judul', 'judul', 'judul', 'judul', 'judul', 'judul', 'judul', 'judul', 'judul', 'judul', 'judul', 'judul', 'judul', 'judul', 'judul', 'judul', 'judul', 'judul', 'judul', 'judul', 'judul', 'judul', 'judul', 'judul', 'judul', 'judul', 'judul', 'judul', 'judul', 'judul', 'judul', 'judul', 'judul', 'judul', 'judul', 'judul', 'judul', 'judul', 'judul', 'judul', 'judul', 'judul', 'judul', 'judul', 'judul', 'judul', 'judul', 'judul', 'judul', 'judul', 'judul', 'judul', 'pengambilan_ta', 'pengambilan_ta', 'pengambilan_ta', 'pengambilan_ta', 'pengambilan_ta', 'pengambilan_ta', 'pengambilan_ta', 'pengambilan_ta', 'pengambilan_ta', 'pengambilan_ta', 'pengambilan_ta', 'pengambilan_ta', 'pengambilan_ta', 'pengambilan_ta', 'pengambilan_ta', 'pengambilan_ta', 'pengambilan_ta', 'pengambilan_ta', 'pengambilan_ta', 'pengambilan_ta', 'pengambilan_ta', 'pengambilan_ta', 'pengambilan_ta', 'pengambilan_ta', 'pengambilan_ta', 'pengambilan_ta', 'pengambilan_ta', 'pengambilan_ta', 'pengambilan_ta', 'pengambilan_ta', 'pengambilan_ta', 'pengambilan_ta', 'pengambilan_ta', 'pengambilan_ta', 'pengambilan_ta', 'pengambilan_ta', 'pengambilan_ta', 'pengambilan_ta', 'pengambilan_ta', 'pengambilan_ta', 'pengambilan_ta', 'pengambilan_ta', 'pengambilan_ta', 'pengambilan_ta', 'pengambilan_ta', 'pengambilan_ta', 'pengambilan_ta', 'pengambilan_ta', 'pengambilan_ta', 'pengambilan_ta', 'pengambilan_ta', 'pengambilan_ta', 'mengajukan_judul', 'mengajukan_judul', 'mengajukan_judul', 'mengajukan_judul', 'mengajukan_judul', 'mengajukan_judul', 'mengajukan_judul', 'mengajukan_judul', 'mengajukan_judul', 'mengajukan_judul', 'mengajukan_judul', 'mengajukan_judul', 'mengajukan_judul', 'mengajukan_judul', 'mengajukan_judul', 'mengajukan_judul', 'mengajukan_judul', 'mengajukan_judul', 'mengajukan_judul', 'mengajukan_judul', 'mengajukan_judul', 'mengajukan_judul', 'mengajukan_judul', 'mengajukan_judul', 'mengajukan_judul', 'mengajukan_judul', 'mengajukan_judul', 'mengajukan_judul', 'mengajukan_judul', 'mengajukan_judul', 'mengajukan_judul', 'mengajukan_judul', 'mengajukan_judul', 'mengajukan_judul', 'mengajukan_judul', 'mengajukan_judul', 'mengajukan_judul', 'mengajukan_judul', 'mengajukan_judul', 'mengajukan_judul', 'mengajukan_judul', 'mengajukan_judul', 'mengajukan_judul', 'mengajukan_judul', 'mengajukan_judul', 'mengajukan_judul', 'mengajukan_judul', 'mengajukan_judul', 'mengajukan_judul', 'mengajukan_judul', 'mengajukan_judul', 'pengambilan_data', 'pengambilan_data', 'pengambilan_data', 'pengambilan_data', 'pengambilan_data', 'pengambilan_data', 'pengambilan_data', 'pengambilan_data', 'pengambilan_data', 'pengambilan_data', 'pengambilan_data', 'pengambilan_data', 'pengambilan_data', 'pengambilan_data', 'pengambilan_data', 'pengambilan_data', 'pengambilan_data', 'pengambilan_data', 'pengambilan_data', 'pengambilan_data', 'pengambilan_data', 'pengambilan_data', 'pengambilan_data', 'pengambilan_data', 'pengambilan_data', 'pengambilan_data', 'pengambilan_data', 'pengambilan_data', 'pengambilan_data', 'pengambilan_data', 'pengambilan_data', 'pengambilan_data', 'pengambilan_data', 'pengambilan_data', 'pengambilan_data', 'pengambilan_data', 'pengambilan_data', 'pengambilan_data', 'pengambilan_data', 'pengambilan_data', 'pengambilan_data', 'pengambilan_data', 'pengambilan_data', 'pengambilan_data', 'pengambilan_data', 'pengambilan_data', 'pengambilan_data', 'pengambilan_data', 'pengambilan_data', 'pengambilan_data', 'pengambilan_data', 'perbedaan_tahap', 'perbedaan_tahap', 'perbedaan_tahap', 'perbedaan_tahap', 'perbedaan_tahap', 'perbedaan_tahap', 'perbedaan_tahap', 'perbedaan_tahap', 'perbedaan_tahap', 'perbedaan_tahap', 'perbedaan_tahap', 'perbedaan_tahap', 'perbedaan_tahap', 'perbedaan_tahap', 'perbedaan_tahap', 'perbedaan_tahap', 'perbedaan_tahap', 'perbedaan_tahap', 'perbedaan_tahap', 'perbedaan_tahap', 'perbedaan_tahap', 'perbedaan_tahap', 'perbedaan_tahap', 'perbedaan_tahap', 'perbedaan_tahap', 'perbedaan_tahap', 'perbedaan_tahap', 'perbedaan_tahap', 'perbedaan_tahap', 'perbedaan_tahap', 'perbedaan_tahap', 'perbedaan_tahap', 'perbedaan_tahap', 'perbedaan_tahap', 'perbedaan_tahap', 'perbedaan_tahap', 'perbedaan_tahap', 'perbedaan_tahap', 'perbedaan_tahap', 'perbedaan_tahap', 'perbedaan_tahap', 'perbedaan_tahap', 'perbedaan_tahap', 'perbedaan_tahap', 'perbedaan_tahap', 'perbedaan_tahap', 'perbedaan_tahap', 'perbedaan_tahap', 'perbedaan_tahap', 'perbedaan_tahap', 'perbedaan_tahap', 'informasi', 'informasi', 'informasi', 'informasi', 'informasi', 'informasi', 'informasi', 'informasi', 'informasi', 'informasi', 'informasi', 'informasi', 'informasi', 'informasi', 'informasi', 'informasi', 'informasi', 'informasi', 'informasi', 'informasi', 'informasi', 'informasi', 'informasi', 'informasi', 'informasi', 'informasi', 'informasi', 'informasi', 'informasi', 'informasi', 'informasi', 'informasi', 'informasi', 'informasi', 'informasi', 'informasi', 'informasi', 'informasi', 'informasi', 'informasi', 'informasi', 'informasi', 'informasi', 'informasi', 'informasi', 'informasi', 'informasi', 'informasi', 'informasi', 'informasi', 'informasi', 'pendaftaran_sempro', 'pendaftaran_sempro', 'pendaftaran_sempro', 'pendaftaran_sempro', 'pendaftaran_sempro', 'pendaftaran_sempro', 'pendaftaran_sempro', 'pendaftaran_sempro', 'pendaftaran_sempro', 'pendaftaran_sempro', 'pendaftaran_sempro', 'pendaftaran_sempro', 'pendaftaran_sempro', 'pendaftaran_sempro', 'pendaftaran_sempro', 'pendaftaran_sempro', 'pendaftaran_sempro', 'pendaftaran_sempro', 'pendaftaran_sempro', 'pendaftaran_sempro', 'pendaftaran_sempro', 'pendaftaran_sempro', 'pendaftaran_sempro', 'pendaftaran_sempro', 'pendaftaran_sempro', 'pendaftaran_sempro', 'pendaftaran_sempro', 'pendaftaran_sempro', 'pendaftaran_sempro', 'pendaftaran_sempro', 'pendaftaran_sempro', 'pendaftaran_sempro', 'pendaftaran_sempro', 'pendaftaran_sempro', 'pendaftaran_sempro', 'pendaftaran_sempro', 'pendaftaran_sempro', 'pendaftaran_sempro', 'pendaftaran_sempro', 'pendaftaran_sempro', 'pendaftaran_sempro', 'pendaftaran_sempro', 'pendaftaran_sempro', 'pendaftaran_sempro', 'pendaftaran_sempro', 'pendaftaran_sempro', 'pendaftaran_sempro', 'pendaftaran_sempro', 'pendaftaran_sempro', 'pendaftaran_sempro', 'pendaftaran_sempro', 'pendaftaran_sempro', 'pendaftaran_sidang', 'pendaftaran_sidang', 'pendaftaran_sidang', 'pendaftaran_sidang', 'pendaftaran_sidang', 'pendaftaran_sidang', 'pendaftaran_sidang', 'pendaftaran_sidang', 'pendaftaran_sidang', 'pendaftaran_sidang', 'pendaftaran_sidang', 'pendaftaran_sidang', 'pendaftaran_sidang', 'pendaftaran_sidang', 'pendaftaran_sidang', 'pendaftaran_sidang', 'pendaftaran_sidang', 'pendaftaran_sidang', 'pendaftaran_sidang', 'pendaftaran_sidang', 'pendaftaran_sidang', 'pendaftaran_sidang', 'pendaftaran_sidang', 'pendaftaran_sidang', 'pendaftaran_sidang', 'pendaftaran_sidang', 'pendaftaran_sidang', 'pendaftaran_sidang', 'pendaftaran_sidang', 'pendaftaran_sidang', 'pendaftaran_sidang', 'pendaftaran_sidang', 'pendaftaran_sidang', 'pendaftaran_sidang', 'pendaftaran_sidang', 'pendaftaran_sidang', 'pendaftaran_sidang', 'pendaftaran_sidang', 'pendaftaran_sidang', 'pendaftaran_sidang', 'pendaftaran_sidang', 'pendaftaran_sidang', 'pendaftaran_sidang', 'pendaftaran_sidang', 'pendaftaran_sidang', 'pendaftaran_sidang', 'pendaftaran_sidang', 'pendaftaran_sidang', 'pendaftaran_sidang', 'pendaftaran_sidang', 'pendaftaran_sidang', 'pendaftaran_sidang', 'pendaftaran_sidang', 'pendaftaran_sidang', 'pendaftaran_sidang', 'pendaftaran_sidang', 'pendaftaran_sidang', 'pendaftaran_sidang', 'pendaftaran_sidang', 'pendaftaran_sidang', 'pendaftaran_sidang', 'pendaftaran_sidang', 'pendaftaran_sidang', 'pendaftaran_sidang', 'pendaftaran_sidang', 'pendaftaran_sidang', 'pendaftaran_sidang', 'pendaftaran_sidang', 'pendaftaran_sidang', 'pendaftaran_sidang', 'pendaftaran_sidang', 'pendaftaran_sidang', 'pendaftaran_sidang', 'pendaftaran_sidang', 'pendaftaran_sidang', 'pendaftaran_sidang', 'pendaftaran_sidang', 'pendaftaran_sidang', 'pendaftaran_sidang', 'pendaftaran_sidang', 'pendaftaran_sidang', 'pendaftaran_sidang', 'pendaftaran_sidang', 'pendaftaran_sidang', 'pendaftaran_sidang', 'pendaftaran_sidang', 'pendaftaran_sidang', 'pendaftaran_sidang', 'pendaftaran_sidang', 'pendaftaran_sidang', 'pendaftaran_sidang', 'pendaftaran_sidang', 'pendaftaran_sidang', 'pendaftaran_sidang', 'pendaftaran_sidang', 'pendaftaran_sidang', 'pendaftaran_sidang', 'pendaftaran_sidang', 'pendaftaran_sidang', 'pendaftaran_sidang', 'pendaftaran_sidang', 'pendaftaran_semhas', 'pendaftaran_semhas', 'pendaftaran_semhas', 'pendaftaran_semhas', 'pendaftaran_semhas', 'pendaftaran_semhas', 'pendaftaran_semhas', 'pendaftaran_semhas', 'pendaftaran_semhas', 'pendaftaran_semhas', 'pendaftaran_semhas', 'pendaftaran_semhas', 'pendaftaran_semhas', 'pendaftaran_semhas', 'pendaftaran_semhas', 'pendaftaran_semhas', 'pendaftaran_semhas', 'pendaftaran_semhas', 'pendaftaran_semhas', 'pendaftaran_semhas', 'pendaftaran_semhas', 'pendaftaran_semhas', 'pendaftaran_semhas', 'pendaftaran_semhas', 'pendaftaran_semhas', 'pendaftaran_semhas', 'pendaftaran_semhas', 'pendaftaran_semhas', 'pendaftaran_semhas', 'pendaftaran_semhas', 'pendaftaran_semhas', 'pendaftaran_semhas', 'pendaftaran_semhas', 'pendaftaran_semhas', 'pendaftaran_semhas', 'pendaftaran_semhas', 'pendaftaran_semhas', 'pendaftaran_semhas', 'pendaftaran_semhas', 'pendaftaran_semhas', 'pendaftaran_semhas', 'pendaftaran_semhas', 'pendaftaran_semhas', 'pendaftaran_semhas', 'pendaftaran_semhas', 'pendaftaran_semhas', 'pendaftaran_semhas', 'pendaftaran_semhas', 'pendaftaran_semhas', 'pendaftaran_semhas', 'pendaftaran_semhas', 'pendaftaran_semhas', 'pendaftaran_semhas', 'pendaftaran_semhas', 'pendaftaran_semhas', 'pendaftaran_semhas', 'pendaftaran_semhas', 'pendaftaran_semhas', 'pendaftaran_yudisium', 'pendaftaran_yudisium', 'pendaftaran_yudisium', 'pendaftaran_yudisium', 'pendaftaran_yudisium', 'pendaftaran_yudisium', 'pendaftaran_yudisium', 'pendaftaran_yudisium', 'pendaftaran_yudisium', 'pendaftaran_yudisium', 'pendaftaran_yudisium', 'pendaftaran_yudisium', 'pendaftaran_yudisium', 'pendaftaran_yudisium', 'pendaftaran_yudisium', 'pendaftaran_yudisium', 'pendaftaran_yudisium', 'pendaftaran_yudisium', 'pendaftaran_yudisium', 'pendaftaran_yudisium', 'pendaftaran_yudisium', 'pendaftaran_yudisium', 'pendaftaran_yudisium', 'pendaftaran_yudisium', 'pendaftaran_yudisium', 'pendaftaran_yudisium', 'pendaftaran_yudisium', 'pendaftaran_yudisium', 'pendaftaran_yudisium', 'pendaftaran_yudisium', 'pendaftaran_yudisium', 'pendaftaran_yudisium', 'pendaftaran_yudisium', 'pendaftaran_yudisium', 'pendaftaran_yudisium', 'pendaftaran_yudisium', 'pendaftaran_yudisium', 'pendaftaran_yudisium', 'pendaftaran_yudisium', 'pendaftaran_yudisium', 'pendaftaran_yudisium', 'pendaftaran_yudisium', 'pendaftaran_yudisium', 'pendaftaran_yudisium', 'pendaftaran_yudisium', 'pendaftaran_yudisium', 'pendaftaran_yudisium', 'pendaftaran_yudisium', 'pendaftaran_yudisium', 'pendaftaran_yudisium', 'pendaftaran_yudisium', 'pendaftaran_wisuda', 'pendaftaran_wisuda', 'pendaftaran_wisuda', 'pendaftaran_wisuda', 'pendaftaran_wisuda', 'pendaftaran_wisuda', 'pendaftaran_wisuda', 'pendaftaran_wisuda', 'pendaftaran_wisuda', 'pendaftaran_wisuda', 'pendaftaran_wisuda', 'pendaftaran_wisuda', 'pendaftaran_wisuda', 'pendaftaran_wisuda', 'pendaftaran_wisuda', 'pendaftaran_wisuda', 'pendaftaran_wisuda', 'pendaftaran_wisuda', 'pendaftaran_wisuda', 'pendaftaran_wisuda', 'pendaftaran_wisuda', 'pendaftaran_wisuda', 'pendaftaran_wisuda', 'pendaftaran_wisuda', 'pendaftaran_wisuda', 'pendaftaran_wisuda', 'pendaftaran_wisuda', 'pendaftaran_wisuda', 'pendaftaran_wisuda', 'pendaftaran_wisuda', 'pendaftaran_wisuda', 'pendaftaran_wisuda', 'pendaftaran_wisuda', 'pendaftaran_wisuda', 'pendaftaran_wisuda', 'pendaftaran_wisuda', 'pendaftaran_wisuda', 'pendaftaran_wisuda', 'pendaftaran_wisuda', 'pendaftaran_wisuda', 'pendaftaran_wisuda', 'pendaftaran_wisuda', 'pendaftaran_wisuda', 'pendaftaran_wisuda', 'pendaftaran_wisuda', 'pendaftaran_wisuda', 'pendaftaran_wisuda', 'pendaftaran_wisuda', 'pendaftaran_wisuda', 'pendaftaran_wisuda', 'pendaftaran_wisuda', 'pendaftaran_wisuda', 'pendaftaran_wisuda', 'pendaftaran_wisuda', 'pendaftaran_wisuda', 'lulus_tanpa_ta', 'lulus_tanpa_ta', 'lulus_tanpa_ta', 'lulus_tanpa_ta', 'lulus_tanpa_ta', 'lulus_tanpa_ta', 'lulus_tanpa_ta', 'lulus_tanpa_ta', 'lulus_tanpa_ta', 'lulus_tanpa_ta', 'lulus_tanpa_ta', 'lulus_tanpa_ta', 'lulus_tanpa_ta', 'lulus_tanpa_ta', 'lulus_tanpa_ta', 'lulus_tanpa_ta', 'lulus_tanpa_ta', 'lulus_tanpa_ta', 'lulus_tanpa_ta', 'lulus_tanpa_ta', 'lulus_tanpa_ta', 'lulus_tanpa_ta', 'lulus_tanpa_ta', 'lulus_tanpa_ta', 'lulus_tanpa_ta', 'lulus_tanpa_ta', 'lulus_tanpa_ta', 'lulus_tanpa_ta', 'lulus_tanpa_ta', 'lulus_tanpa_ta', 'lulus_tanpa_ta', 'lulus_tanpa_ta', 'lulus_tanpa_ta', 'lulus_tanpa_ta', 'lulus_tanpa_ta', 'lulus_tanpa_ta', 'lulus_tanpa_ta', 'lulus_tanpa_ta', 'lulus_tanpa_ta', 'lulus_tanpa_ta', 'lulus_tanpa_ta', 'lulus_tanpa_ta', 'lulus_tanpa_ta', 'lulus_tanpa_ta', 'lulus_tanpa_ta', 'lulus_tanpa_ta', 'lulus_tanpa_ta', 'lulus_tanpa_ta', 'lulus_tanpa_ta', 'lulus_tanpa_ta', 'lulus_tanpa_ta', 'lulus_tanpa_ta', 'lulus_tanpa_ta', 'ekuivalensi', 'ekuivalensi', 'ekuivalensi', 'ekuivalensi', 'ekuivalensi', 'ekuivalensi', 'ekuivalensi', 'ekuivalensi', 'ekuivalensi', 'ekuivalensi', 'ekuivalensi', 'ekuivalensi', 'ekuivalensi', 'ekuivalensi', 'ekuivalensi', 'ekuivalensi', 'ekuivalensi', 'ekuivalensi', 'ekuivalensi', 'ekuivalensi', 'ekuivalensi', 'ekuivalensi', 'ekuivalensi', 'ekuivalensi', 'ekuivalensi', 'ekuivalensi', 'ekuivalensi', 'ekuivalensi', 'ekuivalensi', 'ekuivalensi', 'ekuivalensi', 'ekuivalensi', 'ekuivalensi', 'ekuivalensi', 'ekuivalensi', 'ekuivalensi', 'ekuivalensi', 'ekuivalensi', 'ekuivalensi', 'ekuivalensi', 'ekuivalensi', 'ekuivalensi', 'ekuivalensi', 'ekuivalensi', 'ekuivalensi', 'ekuivalensi', 'ekuivalensi', 'ekuivalensi', 'ekuivalensi', 'ekuivalensi', 'ekuivalensi', 'pengganti_ta', 'pengganti_ta', 'pengganti_ta', 'pengganti_ta', 'pengganti_ta', 'pengganti_ta', 'pengganti_ta', 'pengganti_ta', 'pengganti_ta', 'pengganti_ta', 'pengganti_ta', 'pengganti_ta', 'pengganti_ta', 'pengganti_ta', 'pengganti_ta', 'pengganti_ta', 'pengganti_ta', 'pengganti_ta', 'pengganti_ta', 'pengganti_ta', 'pengganti_ta', 'pengganti_ta', 'pengganti_ta', 'pengganti_ta', 'pengganti_ta', 'pengganti_ta', 'pengganti_ta', 'pengganti_ta', 'pengganti_ta', 'pengganti_ta', 'pengganti_ta', 'pengganti_ta', 'pengganti_ta', 'pengganti_ta', 'pengganti_ta', 'pengganti_ta', 'pengganti_ta', 'pengganti_ta', 'pengganti_ta', 'pengganti_ta', 'pengganti_ta', 'pengganti_ta', 'pengganti_ta', 'pengganti_ta', 'pengganti_ta', 'pengganti_ta', 'pengganti_ta', 'pengganti_ta', 'pengganti_ta', 'pengganti_ta', 'pengganti_ta', 'pengganti_ta', 'pengganti_ta', 'pengganti_ta', 'ketentuan_ekuivalensi', 'ketentuan_ekuivalensi', 'ketentuan_ekuivalensi', 'ketentuan_ekuivalensi', 'ketentuan_ekuivalensi', 'ketentuan_ekuivalensi', 'ketentuan_ekuivalensi', 'ketentuan_ekuivalensi', 'ketentuan_ekuivalensi', 'ketentuan_ekuivalensi', 'ketentuan_ekuivalensi', 'ketentuan_ekuivalensi', 'ketentuan_ekuivalensi', 'ketentuan_ekuivalensi', 'ketentuan_ekuivalensi', 'ketentuan_ekuivalensi', 'ketentuan_ekuivalensi', 'ketentuan_ekuivalensi', 'ketentuan_ekuivalensi', 'ketentuan_ekuivalensi', 'ketentuan_ekuivalensi', 'ketentuan_ekuivalensi', 'ketentuan_ekuivalensi', 'ketentuan_ekuivalensi', 'ketentuan_ekuivalensi', 'ketentuan_ekuivalensi', 'ketentuan_ekuivalensi', 'ketentuan_ekuivalensi', 'ketentuan_ekuivalensi', 'ketentuan_ekuivalensi', 'ketentuan_ekuivalensi', 'ketentuan_ekuivalensi', 'ketentuan_ekuivalensi', 'ketentuan_ekuivalensi', 'ketentuan_ekuivalensi', 'ketentuan_ekuivalensi', 'ketentuan_ekuivalensi', 'ketentuan_ekuivalensi', 'ketentuan_ekuivalensi', 'ketentuan_ekuivalensi', 'ketentuan_ekuivalensi', 'ketentuan_ekuivalensi', 'ketentuan_ekuivalensi', 'ketentuan_ekuivalensi', 'ketentuan_ekuivalensi', 'ketentuan_ekuivalensi', 'ketentuan_ekuivalensi', 'ketentuan_ekuivalensi', 'ketentuan_ekuivalensi', 'ketentuan_ekuivalensi', 'ketentuan_ekuivalensi', 'ketentuan_ekuivalensi', 'ketentuan_ekuivalensi', 'ketentuan_ekuivalensi', 'persiapan_sempro', 'persiapan_sempro', 'persiapan_sempro', 'persiapan_sempro', 'persiapan_sempro', 'persiapan_sempro', 'persiapan_sempro', 'persiapan_sempro', 'persiapan_sempro', 'persiapan_sempro', 'persiapan_sempro', 'persiapan_sempro', 'persiapan_sempro', 'persiapan_sempro', 'persiapan_sempro', 'persiapan_sempro', 'persiapan_sempro', 'persiapan_sempro', 'persiapan_sempro', 'persiapan_sempro', 'persiapan_sempro', 'persiapan_sempro', 'persiapan_sempro', 'persiapan_sempro', 'persiapan_sempro', 'persiapan_sempro', 'persiapan_sempro', 'persiapan_sempro', 'persiapan_sempro', 'persiapan_sempro', 'persiapan_sempro', 'persiapan_sempro', 'persiapan_sempro', 'persiapan_sempro', 'persiapan_sempro', 'persiapan_sempro', 'persiapan_sempro', 'persiapan_sempro', 'persiapan_sempro', 'persiapan_sempro', 'persiapan_sempro', 'persiapan_sempro', 'persiapan_sempro', 'persiapan_sempro', 'persiapan_sempro', 'persiapan_sempro', 'persiapan_sempro', 'persiapan_sempro', 'persiapan_sempro', 'persiapan_sempro', 'persiapan_sempro', 'persiapan_sempro', 'persiapan_sempro', 'persiapan_sidang', 'persiapan_sidang', 'persiapan_sidang', 'persiapan_sidang', 'persiapan_sidang', 'persiapan_sidang', 'persiapan_sidang', 'persiapan_sidang', 'persiapan_sidang', 'persiapan_sidang', 'persiapan_sidang', 'persiapan_sidang', 'persiapan_sidang', 'persiapan_sidang', 'persiapan_sidang', 'persiapan_sidang', 'persiapan_sidang', 'persiapan_sidang', 'persiapan_sidang', 'persiapan_sidang', 'persiapan_sidang', 'persiapan_sidang', 'persiapan_sidang', 'persiapan_sidang', 'persiapan_sidang', 'persiapan_sidang', 'persiapan_sidang', 'persiapan_sidang', 'persiapan_sidang', 'persiapan_sidang', 'persiapan_sidang', 'persiapan_sidang', 'persiapan_sidang', 'persiapan_sidang', 'persiapan_sidang', 'persiapan_sidang', 'persiapan_sidang', 'persiapan_sidang', 'persiapan_sidang', 'persiapan_sidang', 'persiapan_sidang', 'persiapan_sidang', 'persiapan_sidang', 'persiapan_sidang', 'persiapan_sidang', 'persiapan_sidang', 'persiapan_sidang', 'persiapan_sidang', 'persiapan_sidang', 'persiapan_sidang', 'persiapan_sidang', 'persiapan_sidang', 'persiapan_sidang', 'persiapan_sidang', 'persiapan_sidang', 'persiapan_sidang', 'persiapan_semhas', 'persiapan_semhas', 'persiapan_semhas', 'persiapan_semhas', 'persiapan_semhas', 'persiapan_semhas', 'persiapan_semhas', 'persiapan_semhas', 'persiapan_semhas', 'persiapan_semhas', 'persiapan_semhas', 'persiapan_semhas', 'persiapan_semhas', 'persiapan_semhas', 'persiapan_semhas', 'persiapan_semhas', 'persiapan_semhas', 'persiapan_semhas', 'persiapan_semhas', 'persiapan_semhas', 'persiapan_semhas', 'persiapan_semhas', 'persiapan_semhas', 'persiapan_semhas', 'persiapan_semhas', 'persiapan_semhas', 'persiapan_semhas', 'persiapan_semhas', 'persiapan_semhas', 'persiapan_semhas', 'persiapan_semhas', 'persiapan_semhas', 'persiapan_semhas', 'persiapan_semhas', 'persiapan_semhas', 'persiapan_semhas', 'persiapan_semhas', 'persiapan_semhas', 'persiapan_semhas', 'persiapan_semhas', 'persiapan_semhas', 'persiapan_semhas', 'persiapan_semhas', 'persiapan_semhas', 'persiapan_semhas', 'persiapan_semhas', 'persiapan_semhas', 'persiapan_semhas', 'persiapan_semhas', 'persiapan_semhas', 'persiapan_semhas', 'persiapan_yudisium', 'persiapan_yudisium', 'persiapan_yudisium', 'persiapan_yudisium', 'persiapan_yudisium', 'persiapan_yudisium', 'persiapan_yudisium', 'persiapan_yudisium', 'persiapan_yudisium', 'persiapan_yudisium', 'persiapan_yudisium', 'persiapan_yudisium', 'persiapan_yudisium', 'persiapan_yudisium', 'persiapan_yudisium', 'persiapan_yudisium', 'persiapan_yudisium', 'persiapan_yudisium', 'persiapan_yudisium', 'persiapan_yudisium', 'persiapan_yudisium', 'persiapan_yudisium', 'persiapan_yudisium', 'persiapan_yudisium', 'persiapan_yudisium', 'persiapan_yudisium', 'persiapan_yudisium', 'persiapan_yudisium', 'persiapan_yudisium', 'persiapan_yudisium', 'persiapan_yudisium', 'persiapan_yudisium', 'persiapan_yudisium', 'persiapan_yudisium', 'persiapan_yudisium', 'persiapan_yudisium', 'persiapan_yudisium', 'persiapan_yudisium', 'persiapan_yudisium', 'persiapan_yudisium', 'persiapan_yudisium', 'persiapan_yudisium', 'persiapan_yudisium', 'persiapan_yudisium', 'persiapan_yudisium', 'persiapan_yudisium', 'persiapan_yudisium', 'persiapan_yudisium', 'persiapan_yudisium', 'persiapan_yudisium', 'persiapan_yudisium', 'persiapan_wisuda', 'persiapan_wisuda', 'persiapan_wisuda', 'persiapan_wisuda', 'persiapan_wisuda', 'persiapan_wisuda', 'persiapan_wisuda', 'persiapan_wisuda', 'persiapan_wisuda', 'persiapan_wisuda', 'persiapan_wisuda', 'persiapan_wisuda', 'persiapan_wisuda', 'persiapan_wisuda', 'persiapan_wisuda', 'persiapan_wisuda', 'persiapan_wisuda', 'persiapan_wisuda', 'persiapan_wisuda', 'persiapan_wisuda', 'persiapan_wisuda', 'persiapan_wisuda', 'persiapan_wisuda', 'persiapan_wisuda', 'persiapan_wisuda', 'persiapan_wisuda', 'persiapan_wisuda', 'persiapan_wisuda', 'persiapan_wisuda', 'persiapan_wisuda', 'persiapan_wisuda', 'persiapan_wisuda', 'persiapan_wisuda', 'persiapan_wisuda', 'persiapan_wisuda', 'persiapan_wisuda', 'persiapan_wisuda', 'persiapan_wisuda', 'persiapan_wisuda', 'persiapan_wisuda', 'persiapan_wisuda', 'persiapan_wisuda', 'persiapan_wisuda', 'persiapan_wisuda', 'persiapan_wisuda', 'persiapan_wisuda', 'persiapan_wisuda', 'persiapan_wisuda', 'persiapan_wisuda', 'persiapan_wisuda', 'persiapan_wisuda', 'sks', 'sks', 'sks', 'sks', 'sks', 'sks', 'sks', 'sks', 'sks', 'sks', 'sks', 'sks', 'sks', 'sks', 'sks', 'sks', 'sks', 'sks', 'sks', 'sks', 'sks', 'sks', 'sks', 'sks', 'sks', 'sks', 'sks', 'sks', 'sks', 'sks', 'sks', 'sks', 'sks', 'sks', 'sks', 'sks', 'sks', 'sks', 'sks', 'sks', 'sks', 'sks', 'sks', 'sks', 'sks', 'sks', 'sks', 'sks', 'sks', 'sks', 'sks', 'skpi', 'skpi', 'skpi', 'skpi', 'skpi', 'skpi', 'skpi', 'skpi', 'skpi', 'skpi', 'skpi', 'skpi', 'skpi', 'skpi', 'skpi', 'skpi', 'skpi', 'skpi', 'skpi', 'skpi', 'skpi', 'skpi', 'skpi', 'skpi', 'skpi', 'skpi', 'skpi', 'skpi', 'skpi', 'skpi', 'skpi', 'skpi', 'skpi', 'skpi', 'skpi', 'skpi', 'skpi', 'skpi', 'skpi', 'skpi', 'skpi', 'skpi', 'skpi', 'skpi', 'skpi', 'skpi', 'skpi', 'skpi', 'skpi', 'skpi', 'skpi', 'jumlah_SKPI', 'jumlah_SKPI', 'jumlah_SKPI', 'jumlah_SKPI', 'jumlah_SKPI', 'jumlah_SKPI', 'jumlah_SKPI', 'jumlah_SKPI', 'jumlah_SKPI', 'jumlah_SKPI', 'jumlah_SKPI', 'jumlah_SKPI', 'jumlah_SKPI', 'jumlah_SKPI', 'jumlah_SKPI', 'jumlah_SKPI', 'jumlah_SKPI', 'jumlah_SKPI', 'jumlah_SKPI', 'jumlah_SKPI', 'jumlah_SKPI', 'jumlah_SKPI', 'jumlah_SKPI', 'jumlah_SKPI', 'jumlah_SKPI', 'jumlah_SKPI', 'jumlah_SKPI', 'jumlah_SKPI', 'jumlah_SKPI', 'jumlah_SKPI', 'jumlah_SKPI', 'jumlah_SKPI', 'jumlah_SKPI', 'jumlah_SKPI', 'jumlah_SKPI', 'jumlah_SKPI', 'jumlah_SKPI', 'jumlah_SKPI', 'jumlah_SKPI', 'jumlah_SKPI', 'jumlah_SKPI', 'jumlah_SKPI', 'jumlah_SKPI', 'jumlah_SKPI', 'jumlah_SKPI', 'jumlah_SKPI', 'jumlah_SKPI', 'jumlah_SKPI', 'jumlah_SKPI', 'jumlah_SKPI', 'jumlah_SKPI', 'jumlah_SKPI', 'jumlah_SKPI', 'jumlah_SKPI', 'jumlah_SKPI', 'kegiatan_SKPI', 'kegiatan_SKPI', 'kegiatan_SKPI', 'kegiatan_SKPI', 'kegiatan_SKPI', 'kegiatan_SKPI', 'kegiatan_SKPI', 'kegiatan_SKPI', 'kegiatan_SKPI', 'kegiatan_SKPI', 'kegiatan_SKPI', 'kegiatan_SKPI', 'kegiatan_SKPI', 'kegiatan_SKPI', 'kegiatan_SKPI', 'kegiatan_SKPI', 'kegiatan_SKPI', 'kegiatan_SKPI', 'kegiatan_SKPI', 'kegiatan_SKPI', 'kegiatan_SKPI', 'kegiatan_SKPI', 'kegiatan_SKPI', 'kegiatan_SKPI', 'kegiatan_SKPI', 'kegiatan_SKPI', 'kegiatan_SKPI', 'kegiatan_SKPI', 'kegiatan_SKPI', 'kegiatan_SKPI', 'kegiatan_SKPI', 'kegiatan_SKPI', 'kegiatan_SKPI', 'kegiatan_SKPI', 'kegiatan_SKPI', 'kegiatan_SKPI', 'kegiatan_SKPI', 'kegiatan_SKPI', 'kegiatan_SKPI', 'kegiatan_SKPI', 'kegiatan_SKPI', 'kegiatan_SKPI', 'kegiatan_SKPI', 'kegiatan_SKPI', 'kegiatan_SKPI', 'kegiatan_SKPI', 'kegiatan_SKPI', 'kegiatan_SKPI', 'kegiatan_SKPI', 'kegiatan_SKPI', 'kegiatan_SKPI', 'kegiatan_SKPI', 'mulai_ta', 'mulai_ta', 'mulai_ta', 'mulai_ta', 'mulai_ta', 'mulai_ta', 'mulai_ta', 'mulai_ta', 'mulai_ta', 'mulai_ta', 'mulai_ta', 'mulai_ta', 'mulai_ta', 'mulai_ta', 'mulai_ta', 'mulai_ta', 'mulai_ta', 'mulai_ta', 'mulai_ta', 'mulai_ta', 'mulai_ta', 'mulai_ta', 'mulai_ta', 'mulai_ta', 'mulai_ta', 'mulai_ta', 'mulai_ta', 'mulai_ta', 'mulai_ta', 'mulai_ta', 'mulai_ta', 'mulai_ta', 'mulai_ta', 'mulai_ta', 'mulai_ta', 'mulai_ta', 'mulai_ta', 'mulai_ta', 'mulai_ta', 'mulai_ta', 'mulai_ta', 'mulai_ta', 'mulai_ta', 'mulai_ta', 'mulai_ta', 'mulai_ta', 'mulai_ta', 'mulai_ta', 'mulai_ta', 'mulai_ta', 'mulai_ta', 'deadline_revisi_sempro', 'deadline_revisi_sempro', 'deadline_revisi_sempro', 'deadline_revisi_sempro', 'deadline_revisi_sempro', 'deadline_revisi_sempro', 'deadline_revisi_sempro', 'deadline_revisi_sempro', 'deadline_revisi_sempro', 'deadline_revisi_sempro', 'deadline_revisi_sempro', 'deadline_revisi_sempro', 'deadline_revisi_sempro', 'deadline_revisi_sempro', 'deadline_revisi_sempro', 'deadline_revisi_sempro', 'deadline_revisi_sempro', 'deadline_revisi_sempro', 'deadline_revisi_sempro', 'deadline_revisi_sempro', 'deadline_revisi_sempro', 'deadline_revisi_sempro', 'deadline_revisi_sempro', 'deadline_revisi_sempro', 'deadline_revisi_sempro', 'deadline_revisi_sempro', 'deadline_revisi_sempro', 'deadline_revisi_sempro', 'deadline_revisi_sempro', 'deadline_revisi_sempro', 'deadline_revisi_sempro', 'deadline_revisi_sempro', 'deadline_revisi_sempro', 'deadline_revisi_sempro', 'deadline_revisi_sempro', 'deadline_revisi_sempro', 'deadline_revisi_sempro', 'deadline_revisi_sempro', 'deadline_revisi_sempro', 'deadline_revisi_sempro', 'deadline_revisi_sempro', 'deadline_revisi_sempro', 'deadline_revisi_sempro', 'deadline_revisi_sempro', 'deadline_revisi_sempro', 'deadline_revisi_sempro', 'deadline_revisi_sempro', 'deadline_revisi_sempro', 'deadline_revisi_sempro', 'deadline_revisi_sempro', 'deadline_revisi_sempro', 'deadline_revisi_sempro', 'deadline_revisi_sidang', 'deadline_revisi_sidang', 'deadline_revisi_sidang', 'deadline_revisi_sidang', 'deadline_revisi_sidang', 'deadline_revisi_sidang', 'deadline_revisi_sidang', 'deadline_revisi_sidang', 'deadline_revisi_sidang', 'deadline_revisi_sidang', 'deadline_revisi_sidang', 'deadline_revisi_sidang', 'deadline_revisi_sidang', 'deadline_revisi_sidang', 'deadline_revisi_sidang', 'deadline_revisi_sidang', 'deadline_revisi_sidang', 'deadline_revisi_sidang', 'deadline_revisi_sidang', 'deadline_revisi_sidang', 'deadline_revisi_sidang', 'deadline_revisi_sidang', 'deadline_revisi_sidang', 'deadline_revisi_sidang', 'deadline_revisi_sidang', 'deadline_revisi_sidang', 'deadline_revisi_sidang', 'deadline_revisi_sidang', 'deadline_revisi_sidang', 'deadline_revisi_sidang', 'deadline_revisi_sidang', 'deadline_revisi_sidang', 'deadline_revisi_sidang', 'deadline_revisi_sidang', 'deadline_revisi_sidang', 'deadline_revisi_sidang', 'deadline_revisi_sidang', 'deadline_revisi_sidang', 'deadline_revisi_sidang', 'deadline_revisi_sidang', 'deadline_revisi_sidang', 'deadline_revisi_sidang', 'deadline_revisi_sidang', 'deadline_revisi_sidang', 'deadline_revisi_sidang', 'deadline_revisi_sidang', 'deadline_revisi_sidang', 'deadline_revisi_sidang', 'deadline_revisi_sidang', 'deadline_revisi_sidang', 'deadline_revisi_sidang', 'deadline_revisi_sidang', 'deadline_revisi_sidang', 'deadline_revisi_sidang', 'deadline_revisi_sidang', 'syarat_kelulusan', 'syarat_kelulusan', 'syarat_kelulusan', 'syarat_kelulusan', 'syarat_kelulusan', 'syarat_kelulusan', 'syarat_kelulusan', 'syarat_kelulusan', 'syarat_kelulusan', 'syarat_kelulusan', 'syarat_kelulusan', 'syarat_kelulusan', 'syarat_kelulusan', 'syarat_kelulusan', 'syarat_kelulusan', 'syarat_kelulusan', 'syarat_kelulusan', 'syarat_kelulusan', 'syarat_kelulusan', 'syarat_kelulusan', 'syarat_kelulusan', 'syarat_kelulusan', 'syarat_kelulusan', 'syarat_kelulusan', 'syarat_kelulusan', 'syarat_kelulusan', 'syarat_kelulusan', 'syarat_kelulusan', 'syarat_kelulusan', 'syarat_kelulusan', 'syarat_kelulusan', 'syarat_kelulusan', 'syarat_kelulusan', 'syarat_kelulusan', 'syarat_kelulusan', 'syarat_kelulusan', 'syarat_kelulusan', 'syarat_kelulusan', 'syarat_kelulusan', 'syarat_kelulusan', 'syarat_kelulusan', 'syarat_kelulusan', 'syarat_kelulusan', 'syarat_kelulusan', 'syarat_kelulusan', 'syarat_kelulusan', 'syarat_kelulusan', 'syarat_kelulusan', 'syarat_kelulusan', 'syarat_kelulusan', 'syarat_kelulusan', 'syarat_kelulusan', 'predikat_kelulusan', 'predikat_kelulusan', 'predikat_kelulusan', 'predikat_kelulusan', 'predikat_kelulusan', 'predikat_kelulusan', 'predikat_kelulusan', 'predikat_kelulusan', 'predikat_kelulusan', 'predikat_kelulusan', 'predikat_kelulusan', 'predikat_kelulusan', 'predikat_kelulusan', 'predikat_kelulusan', 'predikat_kelulusan', 'predikat_kelulusan', 'predikat_kelulusan', 'predikat_kelulusan', 'predikat_kelulusan', 'predikat_kelulusan', 'predikat_kelulusan', 'predikat_kelulusan', 'predikat_kelulusan', 'predikat_kelulusan', 'predikat_kelulusan', 'predikat_kelulusan', 'predikat_kelulusan', 'predikat_kelulusan', 'predikat_kelulusan', 'predikat_kelulusan', 'predikat_kelulusan', 'predikat_kelulusan', 'predikat_kelulusan', 'predikat_kelulusan', 'predikat_kelulusan', 'predikat_kelulusan', 'predikat_kelulusan', 'predikat_kelulusan', 'predikat_kelulusan', 'predikat_kelulusan', 'predikat_kelulusan', 'predikat_kelulusan', 'predikat_kelulusan', 'predikat_kelulusan', 'predikat_kelulusan', 'predikat_kelulusan', 'predikat_kelulusan', 'predikat_kelulusan', 'predikat_kelulusan', 'predikat_kelulusan', 'predikat_kelulusan', 'predikat_kelulusan', 'indikator_predikat', 'indikator_predikat', 'indikator_predikat', 'indikator_predikat', 'indikator_predikat', 'indikator_predikat', 'indikator_predikat', 'indikator_predikat', 'indikator_predikat', 'indikator_predikat', 'indikator_predikat', 'indikator_predikat', 'indikator_predikat', 'indikator_predikat', 'indikator_predikat', 'indikator_predikat', 'indikator_predikat', 'indikator_predikat', 'indikator_predikat', 'indikator_predikat', 'indikator_predikat', 'indikator_predikat', 'indikator_predikat', 'indikator_predikat', 'indikator_predikat', 'indikator_predikat', 'indikator_predikat', 'indikator_predikat', 'indikator_predikat', 'indikator_predikat', 'indikator_predikat', 'indikator_predikat', 'indikator_predikat', 'indikator_predikat', 'indikator_predikat', 'indikator_predikat', 'indikator_predikat', 'indikator_predikat', 'indikator_predikat', 'indikator_predikat', 'indikator_predikat', 'indikator_predikat', 'indikator_predikat', 'indikator_predikat', 'indikator_predikat', 'indikator_predikat', 'indikator_predikat', 'indikator_predikat', 'indikator_predikat', 'indikator_predikat', 'indikator_predikat', 'ipk', 'ipk', 'ipk', 'ipk', 'ipk', 'ipk', 'ipk', 'ipk', 'ipk', 'ipk', 'ipk', 'ipk', 'ipk', 'ipk', 'ipk', 'ipk', 'ipk', 'ipk', 'ipk', 'ipk', 'ipk', 'ipk', 'ipk', 'ipk', 'ipk', 'ipk', 'ipk', 'ipk', 'ipk', 'ipk', 'ipk', 'ipk', 'ipk', 'ipk', 'ipk', 'ipk', 'ipk', 'ipk', 'ipk', 'ipk', 'ipk', 'ipk', 'ipk', 'ipk', 'ipk', 'ipk', 'ipk', 'ipk', 'ipk', 'ipk', 'ipk', 'ipk', 'lulusan_terbaik', 'lulusan_terbaik', 'lulusan_terbaik', 'lulusan_terbaik', 'lulusan_terbaik', 'lulusan_terbaik', 'lulusan_terbaik', 'lulusan_terbaik', 'lulusan_terbaik', 'lulusan_terbaik', 'lulusan_terbaik', 'lulusan_terbaik', 'lulusan_terbaik', 'lulusan_terbaik', 'lulusan_terbaik', 'lulusan_terbaik', 'lulusan_terbaik', 'lulusan_terbaik', 'lulusan_terbaik', 'lulusan_terbaik', 'lulusan_terbaik', 'lulusan_terbaik', 'lulusan_terbaik', 'lulusan_terbaik', 'lulusan_terbaik', 'lulusan_terbaik', 'lulusan_terbaik', 'lulusan_terbaik', 'lulusan_terbaik', 'lulusan_terbaik', 'lulusan_terbaik', 'lulusan_terbaik', 'lulusan_terbaik', 'lulusan_terbaik', 'lulusan_terbaik', 'lulusan_terbaik', 'lulusan_terbaik', 'lulusan_terbaik', 'lulusan_terbaik', 'lulusan_terbaik', 'lulusan_terbaik', 'lulusan_terbaik', 'lulusan_terbaik', 'lulusan_terbaik', 'lulusan_terbaik', 'lulusan_terbaik', 'lulusan_terbaik', 'lulusan_terbaik', 'lulusan_terbaik', 'lulusan_terbaik', 'lulusan_terbaik', 'lulusan_terbaik', 'lulusan_terbaik', 'lulusan_terbaik', 'tata_tertib_ujian_ta', 'tata_tertib_ujian_ta', 'tata_tertib_ujian_ta', 'tata_tertib_ujian_ta', 'tata_tertib_ujian_ta', 'tata_tertib_ujian_ta', 'tata_tertib_ujian_ta', 'tata_tertib_ujian_ta', 'tata_tertib_ujian_ta', 'tata_tertib_ujian_ta', 'tata_tertib_ujian_ta', 'tata_tertib_ujian_ta', 'tata_tertib_ujian_ta', 'tata_tertib_ujian_ta', 'tata_tertib_ujian_ta', 'tata_tertib_ujian_ta', 'tata_tertib_ujian_ta', 'tata_tertib_ujian_ta', 'tata_tertib_ujian_ta', 'tata_tertib_ujian_ta', 'tata_tertib_ujian_ta', 'tata_tertib_ujian_ta', 'tata_tertib_ujian_ta', 'tata_tertib_ujian_ta', 'tata_tertib_ujian_ta', 'tata_tertib_ujian_ta', 'tata_tertib_ujian_ta', 'tata_tertib_ujian_ta', 'tata_tertib_ujian_ta', 'tata_tertib_ujian_ta', 'tata_tertib_ujian_ta', 'tata_tertib_ujian_ta', 'tata_tertib_ujian_ta', 'tata_tertib_ujian_ta', 'tata_tertib_ujian_ta', 'tata_tertib_ujian_ta', 'tata_tertib_ujian_ta', 'tata_tertib_ujian_ta', 'tata_tertib_ujian_ta', 'tata_tertib_ujian_ta', 'tata_tertib_ujian_ta', 'tata_tertib_ujian_ta', 'tata_tertib_ujian_ta', 'tata_tertib_ujian_ta', 'tata_tertib_ujian_ta', 'tata_tertib_ujian_ta', 'tata_tertib_ujian_ta', 'tata_tertib_ujian_ta', 'tata_tertib_ujian_ta', 'tata_tertib_ujian_ta', 'tata_tertib_ujian_ta', 'tata_tertib_ujian_ta', 'tata_tertib_ujian_ta', 'tata_tertib_ujian_ta', 'tata_tertib_ujian_ta', 'wajib_lulus', 'wajib_lulus', 'wajib_lulus', 'wajib_lulus', 'wajib_lulus', 'wajib_lulus', 'wajib_lulus', 'wajib_lulus', 'wajib_lulus', 'wajib_lulus', 'wajib_lulus', 'wajib_lulus', 'wajib_lulus', 'wajib_lulus', 'wajib_lulus', 'wajib_lulus', 'wajib_lulus', 'wajib_lulus', 'wajib_lulus', 'wajib_lulus', 'wajib_lulus', 'wajib_lulus', 'wajib_lulus', 'wajib_lulus', 'wajib_lulus', 'wajib_lulus', 'wajib_lulus', 'wajib_lulus', 'wajib_lulus', 'wajib_lulus', 'wajib_lulus', 'wajib_lulus', 'wajib_lulus', 'wajib_lulus', 'wajib_lulus', 'wajib_lulus', 'wajib_lulus', 'wajib_lulus', 'wajib_lulus', 'wajib_lulus', 'wajib_lulus', 'wajib_lulus', 'wajib_lulus', 'wajib_lulus', 'wajib_lulus', 'wajib_lulus', 'wajib_lulus', 'wajib_lulus', 'wajib_lulus', 'wajib_lulus', 'wajib_lulus', 'taep', 'taep', 'taep', 'taep', 'taep', 'taep', 'taep', 'taep', 'taep', 'taep', 'taep', 'taep', 'taep', 'taep', 'taep', 'taep', 'taep', 'taep', 'taep', 'taep', 'taep', 'taep', 'taep', 'taep', 'taep', 'taep', 'taep', 'taep', 'taep', 'taep', 'taep', 'taep', 'taep', 'taep', 'taep', 'taep', 'taep', 'taep', 'taep', 'taep', 'taep', 'taep', 'taep', 'taep', 'taep', 'taep', 'taep', 'taep', 'taep', 'taep', 'taep', 'sk_ta', 'sk_ta', 'sk_ta', 'sk_ta', 'sk_ta', 'sk_ta', 'sk_ta', 'sk_ta', 'sk_ta', 'sk_ta', 'sk_ta', 'sk_ta', 'sk_ta', 'sk_ta', 'sk_ta', 'sk_ta', 'sk_ta', 'sk_ta', 'sk_ta', 'sk_ta', 'sk_ta', 'sk_ta', 'sk_ta', 'sk_ta', 'sk_ta', 'sk_ta', 'sk_ta', 'sk_ta', 'sk_ta', 'sk_ta', 'sk_ta', 'sk_ta', 'sk_ta', 'sk_ta', 'sk_ta', 'sk_ta', 'sk_ta', 'sk_ta', 'sk_ta', 'sk_ta', 'sk_ta', 'sk_ta', 'sk_ta', 'sk_ta', 'sk_ta', 'sk_ta', 'sk_ta', 'sk_ta', 'sk_ta', 'sk_ta', 'sk_ta']\n"
          ]
        }
      ],
      "source": [
        "print(len(training_labels))\n",
        "print(training_labels)"
      ]
    },
    {
      "cell_type": "code",
      "execution_count": null,
      "metadata": {
        "id": "xX2nVW-qQWE6"
      },
      "outputs": [],
      "source": [
        "data_label = pd.DataFrame(training_labels)"
      ]
    },
    {
      "cell_type": "code",
      "execution_count": null,
      "metadata": {
        "colab": {
          "base_uri": "https://localhost:8080/",
          "height": 423
        },
        "id": "PXHO5u9NQhmq",
        "outputId": "ee9e9861-11a4-4928-d023-f178e5cfec86"
      },
      "outputs": [
        {
          "output_type": "execute_result",
          "data": {
            "text/plain": [
              "                  0\n",
              "0     salam_pembuka\n",
              "1     salam_pembuka\n",
              "2     salam_pembuka\n",
              "3     salam_pembuka\n",
              "4     salam_pembuka\n",
              "...             ...\n",
              "3455          sk_ta\n",
              "3456          sk_ta\n",
              "3457          sk_ta\n",
              "3458          sk_ta\n",
              "3459          sk_ta\n",
              "\n",
              "[3460 rows x 1 columns]"
            ],
            "text/html": [
              "\n",
              "  <div id=\"df-f14c0b42-e8de-4082-9b52-b9d98ba30192\" class=\"colab-df-container\">\n",
              "    <div>\n",
              "<style scoped>\n",
              "    .dataframe tbody tr th:only-of-type {\n",
              "        vertical-align: middle;\n",
              "    }\n",
              "\n",
              "    .dataframe tbody tr th {\n",
              "        vertical-align: top;\n",
              "    }\n",
              "\n",
              "    .dataframe thead th {\n",
              "        text-align: right;\n",
              "    }\n",
              "</style>\n",
              "<table border=\"1\" class=\"dataframe\">\n",
              "  <thead>\n",
              "    <tr style=\"text-align: right;\">\n",
              "      <th></th>\n",
              "      <th>0</th>\n",
              "    </tr>\n",
              "  </thead>\n",
              "  <tbody>\n",
              "    <tr>\n",
              "      <th>0</th>\n",
              "      <td>salam_pembuka</td>\n",
              "    </tr>\n",
              "    <tr>\n",
              "      <th>1</th>\n",
              "      <td>salam_pembuka</td>\n",
              "    </tr>\n",
              "    <tr>\n",
              "      <th>2</th>\n",
              "      <td>salam_pembuka</td>\n",
              "    </tr>\n",
              "    <tr>\n",
              "      <th>3</th>\n",
              "      <td>salam_pembuka</td>\n",
              "    </tr>\n",
              "    <tr>\n",
              "      <th>4</th>\n",
              "      <td>salam_pembuka</td>\n",
              "    </tr>\n",
              "    <tr>\n",
              "      <th>...</th>\n",
              "      <td>...</td>\n",
              "    </tr>\n",
              "    <tr>\n",
              "      <th>3455</th>\n",
              "      <td>sk_ta</td>\n",
              "    </tr>\n",
              "    <tr>\n",
              "      <th>3456</th>\n",
              "      <td>sk_ta</td>\n",
              "    </tr>\n",
              "    <tr>\n",
              "      <th>3457</th>\n",
              "      <td>sk_ta</td>\n",
              "    </tr>\n",
              "    <tr>\n",
              "      <th>3458</th>\n",
              "      <td>sk_ta</td>\n",
              "    </tr>\n",
              "    <tr>\n",
              "      <th>3459</th>\n",
              "      <td>sk_ta</td>\n",
              "    </tr>\n",
              "  </tbody>\n",
              "</table>\n",
              "<p>3460 rows × 1 columns</p>\n",
              "</div>\n",
              "    <div class=\"colab-df-buttons\">\n",
              "\n",
              "  <div class=\"colab-df-container\">\n",
              "    <button class=\"colab-df-convert\" onclick=\"convertToInteractive('df-f14c0b42-e8de-4082-9b52-b9d98ba30192')\"\n",
              "            title=\"Convert this dataframe to an interactive table.\"\n",
              "            style=\"display:none;\">\n",
              "\n",
              "  <svg xmlns=\"http://www.w3.org/2000/svg\" height=\"24px\" viewBox=\"0 -960 960 960\">\n",
              "    <path d=\"M120-120v-720h720v720H120Zm60-500h600v-160H180v160Zm220 220h160v-160H400v160Zm0 220h160v-160H400v160ZM180-400h160v-160H180v160Zm440 0h160v-160H620v160ZM180-180h160v-160H180v160Zm440 0h160v-160H620v160Z\"/>\n",
              "  </svg>\n",
              "    </button>\n",
              "\n",
              "  <style>\n",
              "    .colab-df-container {\n",
              "      display:flex;\n",
              "      gap: 12px;\n",
              "    }\n",
              "\n",
              "    .colab-df-convert {\n",
              "      background-color: #E8F0FE;\n",
              "      border: none;\n",
              "      border-radius: 50%;\n",
              "      cursor: pointer;\n",
              "      display: none;\n",
              "      fill: #1967D2;\n",
              "      height: 32px;\n",
              "      padding: 0 0 0 0;\n",
              "      width: 32px;\n",
              "    }\n",
              "\n",
              "    .colab-df-convert:hover {\n",
              "      background-color: #E2EBFA;\n",
              "      box-shadow: 0px 1px 2px rgba(60, 64, 67, 0.3), 0px 1px 3px 1px rgba(60, 64, 67, 0.15);\n",
              "      fill: #174EA6;\n",
              "    }\n",
              "\n",
              "    .colab-df-buttons div {\n",
              "      margin-bottom: 4px;\n",
              "    }\n",
              "\n",
              "    [theme=dark] .colab-df-convert {\n",
              "      background-color: #3B4455;\n",
              "      fill: #D2E3FC;\n",
              "    }\n",
              "\n",
              "    [theme=dark] .colab-df-convert:hover {\n",
              "      background-color: #434B5C;\n",
              "      box-shadow: 0px 1px 3px 1px rgba(0, 0, 0, 0.15);\n",
              "      filter: drop-shadow(0px 1px 2px rgba(0, 0, 0, 0.3));\n",
              "      fill: #FFFFFF;\n",
              "    }\n",
              "  </style>\n",
              "\n",
              "    <script>\n",
              "      const buttonEl =\n",
              "        document.querySelector('#df-f14c0b42-e8de-4082-9b52-b9d98ba30192 button.colab-df-convert');\n",
              "      buttonEl.style.display =\n",
              "        google.colab.kernel.accessAllowed ? 'block' : 'none';\n",
              "\n",
              "      async function convertToInteractive(key) {\n",
              "        const element = document.querySelector('#df-f14c0b42-e8de-4082-9b52-b9d98ba30192');\n",
              "        const dataTable =\n",
              "          await google.colab.kernel.invokeFunction('convertToInteractive',\n",
              "                                                    [key], {});\n",
              "        if (!dataTable) return;\n",
              "\n",
              "        const docLinkHtml = 'Like what you see? Visit the ' +\n",
              "          '<a target=\"_blank\" href=https://colab.research.google.com/notebooks/data_table.ipynb>data table notebook</a>'\n",
              "          + ' to learn more about interactive tables.';\n",
              "        element.innerHTML = '';\n",
              "        dataTable['output_type'] = 'display_data';\n",
              "        await google.colab.output.renderOutput(dataTable, element);\n",
              "        const docLink = document.createElement('div');\n",
              "        docLink.innerHTML = docLinkHtml;\n",
              "        element.appendChild(docLink);\n",
              "      }\n",
              "    </script>\n",
              "  </div>\n",
              "\n",
              "\n",
              "<div id=\"df-22fe9746-649f-433b-ac3f-d328a7ba5637\">\n",
              "  <button class=\"colab-df-quickchart\" onclick=\"quickchart('df-22fe9746-649f-433b-ac3f-d328a7ba5637')\"\n",
              "            title=\"Suggest charts\"\n",
              "            style=\"display:none;\">\n",
              "\n",
              "<svg xmlns=\"http://www.w3.org/2000/svg\" height=\"24px\"viewBox=\"0 0 24 24\"\n",
              "     width=\"24px\">\n",
              "    <g>\n",
              "        <path d=\"M19 3H5c-1.1 0-2 .9-2 2v14c0 1.1.9 2 2 2h14c1.1 0 2-.9 2-2V5c0-1.1-.9-2-2-2zM9 17H7v-7h2v7zm4 0h-2V7h2v10zm4 0h-2v-4h2v4z\"/>\n",
              "    </g>\n",
              "</svg>\n",
              "  </button>\n",
              "\n",
              "<style>\n",
              "  .colab-df-quickchart {\n",
              "      --bg-color: #E8F0FE;\n",
              "      --fill-color: #1967D2;\n",
              "      --hover-bg-color: #E2EBFA;\n",
              "      --hover-fill-color: #174EA6;\n",
              "      --disabled-fill-color: #AAA;\n",
              "      --disabled-bg-color: #DDD;\n",
              "  }\n",
              "\n",
              "  [theme=dark] .colab-df-quickchart {\n",
              "      --bg-color: #3B4455;\n",
              "      --fill-color: #D2E3FC;\n",
              "      --hover-bg-color: #434B5C;\n",
              "      --hover-fill-color: #FFFFFF;\n",
              "      --disabled-bg-color: #3B4455;\n",
              "      --disabled-fill-color: #666;\n",
              "  }\n",
              "\n",
              "  .colab-df-quickchart {\n",
              "    background-color: var(--bg-color);\n",
              "    border: none;\n",
              "    border-radius: 50%;\n",
              "    cursor: pointer;\n",
              "    display: none;\n",
              "    fill: var(--fill-color);\n",
              "    height: 32px;\n",
              "    padding: 0;\n",
              "    width: 32px;\n",
              "  }\n",
              "\n",
              "  .colab-df-quickchart:hover {\n",
              "    background-color: var(--hover-bg-color);\n",
              "    box-shadow: 0 1px 2px rgba(60, 64, 67, 0.3), 0 1px 3px 1px rgba(60, 64, 67, 0.15);\n",
              "    fill: var(--button-hover-fill-color);\n",
              "  }\n",
              "\n",
              "  .colab-df-quickchart-complete:disabled,\n",
              "  .colab-df-quickchart-complete:disabled:hover {\n",
              "    background-color: var(--disabled-bg-color);\n",
              "    fill: var(--disabled-fill-color);\n",
              "    box-shadow: none;\n",
              "  }\n",
              "\n",
              "  .colab-df-spinner {\n",
              "    border: 2px solid var(--fill-color);\n",
              "    border-color: transparent;\n",
              "    border-bottom-color: var(--fill-color);\n",
              "    animation:\n",
              "      spin 1s steps(1) infinite;\n",
              "  }\n",
              "\n",
              "  @keyframes spin {\n",
              "    0% {\n",
              "      border-color: transparent;\n",
              "      border-bottom-color: var(--fill-color);\n",
              "      border-left-color: var(--fill-color);\n",
              "    }\n",
              "    20% {\n",
              "      border-color: transparent;\n",
              "      border-left-color: var(--fill-color);\n",
              "      border-top-color: var(--fill-color);\n",
              "    }\n",
              "    30% {\n",
              "      border-color: transparent;\n",
              "      border-left-color: var(--fill-color);\n",
              "      border-top-color: var(--fill-color);\n",
              "      border-right-color: var(--fill-color);\n",
              "    }\n",
              "    40% {\n",
              "      border-color: transparent;\n",
              "      border-right-color: var(--fill-color);\n",
              "      border-top-color: var(--fill-color);\n",
              "    }\n",
              "    60% {\n",
              "      border-color: transparent;\n",
              "      border-right-color: var(--fill-color);\n",
              "    }\n",
              "    80% {\n",
              "      border-color: transparent;\n",
              "      border-right-color: var(--fill-color);\n",
              "      border-bottom-color: var(--fill-color);\n",
              "    }\n",
              "    90% {\n",
              "      border-color: transparent;\n",
              "      border-bottom-color: var(--fill-color);\n",
              "    }\n",
              "  }\n",
              "</style>\n",
              "\n",
              "  <script>\n",
              "    async function quickchart(key) {\n",
              "      const quickchartButtonEl =\n",
              "        document.querySelector('#' + key + ' button');\n",
              "      quickchartButtonEl.disabled = true;  // To prevent multiple clicks.\n",
              "      quickchartButtonEl.classList.add('colab-df-spinner');\n",
              "      try {\n",
              "        const charts = await google.colab.kernel.invokeFunction(\n",
              "            'suggestCharts', [key], {});\n",
              "      } catch (error) {\n",
              "        console.error('Error during call to suggestCharts:', error);\n",
              "      }\n",
              "      quickchartButtonEl.classList.remove('colab-df-spinner');\n",
              "      quickchartButtonEl.classList.add('colab-df-quickchart-complete');\n",
              "    }\n",
              "    (() => {\n",
              "      let quickchartButtonEl =\n",
              "        document.querySelector('#df-22fe9746-649f-433b-ac3f-d328a7ba5637 button');\n",
              "      quickchartButtonEl.style.display =\n",
              "        google.colab.kernel.accessAllowed ? 'block' : 'none';\n",
              "    })();\n",
              "  </script>\n",
              "</div>\n",
              "    </div>\n",
              "  </div>\n"
            ]
          },
          "metadata": {},
          "execution_count": 12
        }
      ],
      "source": [
        "data_label"
      ]
    },
    {
      "cell_type": "code",
      "execution_count": null,
      "metadata": {
        "colab": {
          "base_uri": "https://localhost:8080/"
        },
        "id": "C8v1lHFSmytl",
        "outputId": "f8cb6ee7-c25a-4dc7-e880-3e2766e57d57"
      },
      "outputs": [
        {
          "output_type": "stream",
          "name": "stdout",
          "text": [
            "60\n",
            "['salam_pembuka', 'salam_penutup', 'skripsi', 'syarat_ujian_ta', 'proposal_ta', 'laporan_ta', 'alur_pengerjaan', 'sempro', 'sidang', 'semhas', 'yudisium', 'wisuda', 'syarat_sempro', 'syarat_sidang', 'syarat_semhas', 'syarat_yudisium', 'syarat_wisuda', 'dosbing', 'dosbing_1', 'memilih_dosbing', 'syarat_bimbingan', 'template_ta', 'template_proposal', 'bimbingan', 'judul', 'pengambilan_ta', 'mengajukan_judul', 'pengambilan_data', 'perbedaan_tahap', 'informasi', 'pendaftaran_sempro', 'pendaftaran_sidang', 'pendaftaran_semhas', 'pendaftaran_yudisium', 'pendaftaran_wisuda', 'lulus_tanpa_ta', 'ekuivalensi', 'pengganti_ta', 'ketentuan_ekuivalensi', 'persiapan_sempro', 'persiapan_sidang', 'persiapan_semhas', 'persiapan_yudisium', 'persiapan_wisuda', 'sks', 'skpi', 'jumlah_SKPI', 'kegiatan_SKPI', 'mulai_ta', 'deadline_revisi_sempro', 'deadline_revisi_sidang', 'syarat_kelulusan', 'predikat_kelulusan', 'indikator_predikat', 'ipk', 'lulusan_terbaik', 'tata_tertib_ujian_ta', 'wajib_lulus', 'taep', 'sk_ta']\n",
            "60\n",
            "[['Halloo, Selamat Datang. Ada yang bisa dibantu?'], ['Dengan senang hati membantu kamu'], ['Skripsi adalah salah satu mata kuliah dan menjadi tugas akhir sebagai syarat untuk kelulusan dalam bentuk penelitian sebanyak 6 sks'], ['Persyaratan mengikuti ujian Tugas Akhir telah lulus semua matakuliah dan telah mengumpulkan naskah TA yang telah disetujui pembimbing'], ['Proposal Tugas AKhir merupakan usulan dari ide yang ingin di teliti. Proposal TA terdiri dari 3 BAB, yaitu Pendahuluan, Metode Penelitian, dan Kesimpulan. Template Laporan Tugas Akhir dapat diakses melalui link berikut: https://bit.ly/TemplateTugasAkhirUMM'], ['Laporan Tugas Akhir merupakan sebuah karya tulis yang dibuat mahasiswa setelah menyelesaikan peneltiannya. Laporan TA terdiri 5 BAB, yaitu Pendahuluan, Tinjaun Pustaka, Metodologi Penelitian, Hasil dan Pembahasan, dan Kesimpulan. Template Laporan Tugas Akhir dapat diakses melalui link berikut: https://bit.ly/TemplateTugasAkhirUMM '], ['Alur pengerjaan tugas akhir sebagai berikut : 1. Pengajuan judul, 2. Pembuatan proposal, 3. Seminar proposal, 4. SK TA, 5. Sidang Tugas Akhir, 6. Seminar Hasil, 7. Yudisium, 8. Wisuda'], ['Seminar proposal adalah seminar untuk mempresentasikan proposal tugas akhir. Untuk informasi pendaftaran proposal TA dapat dilihat pada panduan berikut https://bit.ly/PanduanSIMTA'], ['Sidang untuk mempresentasikan laporan tugas akhir. Untuk informasi pendaftaran sidang TA dapat dilihat pada panduan berikut https://bit.ly/PanduanSIMTA'], ['Seminar hasil adalah seminar untuk mempresentasikan hasil dari penelitian kepada adik tingkat. Untuk informasi pendaftaran seminar hasil dapat dilihat pada panduan berikut https://bit.ly/PanduanSIMTA '], ['Yudisium adalah proses akademik yang menyangkut penerapan nilai dan kelulusan mahasiswa dari seluruh proses akademik yang telah dijalaninya. Untuk informasi pendaftaran yudisium dapat dilihat pada panduan berikut https://bit.ly/PanduanSIMTA '], ['Wisuda adalah proses akhir dalam rangkaian kegiata akademik pada sebuah perguruan tinggi. Untuk pendaftara wisuda dapat dilakukan di https://infokhs.umm.ac.id/'], ['Untuk mendaftar seminar proposal diperlukan dokumen sebagai berikut: 1. Form rekomendasi judul TA oleh dosen pembimbing (tanda tangan dari dua dosen pembimbing), 2. Lembar Kendali menghadiri Seminar Hasil sebagai audiens (minimal 10 judul tugas akhir dan ditandatangani oleh Ketua Tugas Akhir), 3. Draft Proposal TA'], ['Untuk  mendaftar sidang TA diperlukan dokumen administrasi sesuai dengan Check list persyaratan ujian TA (https://bit.ly/FormChecklistTA)'], ['Untuk mendaftar seminar hasil diperlukan dokumen administrasi sebagai berikut Lembar Berita Acara Seminar Proposal, Lembar Asistensi Dosen Pembimbing (Minimal 10x bimbingan), dan draft buku TA'], ['Untuk melakukan pendaftaran yudisium harus melengkapi berkas seperti berita acara ujian TA, form cek plagiasi, dll'], ['Prasyarat pendaftaran wisuda sebagai berikut: 1. Bebas tanggungan dari Program Studi, 2. Kesesuaian periode wisuda, 3. Pembayaran wisuda, 4. Pengisian tracer studi (http://karir.umm.ac.id/v2), 5. Deposit Toga. Untuk info lebih lanjut silahkan konfirmasi ke biro kemahasiswaan UMM.'], ['Dalam pengerjaan tugas akhir mahasiswa akan dibantu oleh dua (2) dosen pembimbing'], ['Dosen Pembimbing Tugas Akhir dapat dipilih sendiri oleh mahasiswa. Untuk melihat ketersediaan dosen dapat diakses di https://simanta.umm.ac.id/'], ['Pemilihan Dosen Pembimbing Tugas Akhir disarankan memilih sesuai dengan penjurusan yang diambil. Untuk melihat ketersediaan dosen dapat diakses di https://simanta.umm.ac.id'], ['Jumlah minimal bimbingan Tugas Akhir adalah 10 (sepuluh) kali bimbingan'], ['Template Laporan Tugas Akhir dapat diakses melalui link berikut: https://bit.ly/TemplateTugasAkhirUMM'], ['Template Proposal Tugas Akhir dapat diakses melalui link berikut: https://bit.ly/TemplateTugasAkhirUMM'], ['Jadwal bimbingan setiap dosen sudah ditentukan oleh program studi, namun beberapa dosen memiliki jadwal bimbingan tersendiri. Informasi mengenai bimbingan diinfokan melalui grup monitoring mahasiswa setiap angkatan atau langsung menghubungi dosen pembimbing.'], ['Pengambilan judul atau menentukan topik tugas akhir sebaiknya sesuai dengan penjurusan yang diambil dan kemampuan pribadi atau dapat mengambil tawaran tugas akhir dari dosen yang dapat dilihat di https://bit.ly/TawaranTopikTA'], ['Bisa saja, yang penting kamu mampu dan dapat membagi waktu dengan baik ^^'], ['Mengajukan judul tugas akhir langsung menghubungi dosen pembimbing yang telah dipilih. Jika ingin mengambil tawaran topik tugas akhir juga langsung menghubungi dosen yang bersangkutan.'], ['Jika penelitian diperlukan data, dapat mengambil data publik atau mengumpulkan data sendiri dengan observasi, interview, ataupun mengambil dari website yang bersangkutan'], ['Seminar proposal adalah seminar untuk mempresentasikan proposal tugas akhir. Sidang tugas akhir merupakan sidang untuk mempresentasikan laporan tugas akhir. Seminar hasil adalah seminar untuk mempresentasikan hasil dari penelitian kepada adik tingkat.'], ['Informasi mengenai tugas akhir secara lengkap dapat di akses di https://simanta.umm.ac.id/ serta informasi mengenai jadwal serangkaian alur tugas akhir terdapat pada Grup Monitoring.'], ['Panduan pendaftaran seminar proposal dapat dilihat di panduan https://bit.ly/PanduanSIMTA dan informasi mengenai jadwal dapat dilihat di https://bit.ly/JadwalTugasAkhir. Untuk melakukan pendaftaran seminar proposal harus melengkapi berkas seperti Form rekomendasi judul TA oleh dosen pembimbing, Lembar Kendali menghadiri Seminar Hasil sebagai audiens, dan Draft Proposal TA'], ['Panduan pendaftaran sidang TA dapat dilihat di panduan https://bit.ly/PanduanSIMTA dan informasi mengenai jadwal dapat dilihat di https://bit.ly/JadwalTugasAkhir'], ['Panduan pendaftaran seminar hasil dapat dilihat di panduan https://bit.ly/PanduanSIMTA dan informasi mengenai jadwal dapat dilihat di https://bit.ly/JadwalTugasAkhir. Untuk melakukan pendaftaran seminar hasil harus melengkapi berkas seperti Lembar Berita Acara Seminar Proposal, Lembar Asistensi Dosen Pembimbing (Minimal 10x bimbingan), dan draft buku TA'], ['Panduan pendaftaran yudisium dapat dilihat di panduan https://bit.ly/PanduanSIMTA dan informasi mengenai jadwal dapat dilihat di https://bit.ly/JadwalTugasAkhir. Untuk melakukan pendaftaran seminar hasil harus melengkapi berkas seperti berita acara ujian TA, form cek plagiarism, dll'], ['Pendafaran wisuda dapat dilakukan melalui https://infokhs.umm.ac.id/'], ['Mahasiswa dapat lulus tanpa mengikuti serangkaian kegiatan untuk kelulusan dengan ekuivalensi dan hanya membuat laporan Tugas Akhir saja.'], ['Mahasiswa dapat lulus tanpa mengejakan tugas akhir dengan cara ekuvalensi dari kegiatan yang telah diikuti.'], ['Tugas akhir dapat digantikan dengan 8 kegiatan seperti publikasi karya ilmiah terakreditasi, pembicaraan seminar ilmiah berskala internasional, hak cipta tingkat nasional, paten tingkat nasional, magang bersertifikat BUMN, juara dalam kompetisi karya inovasi, juara pimnas, dan mahasiswa berprestasi.'], ['Untuk dapat melakukan ekuivalensi mahasiswa harus memenuhi salah satu dari kegiatan yang dapat di ekuivalensi. Info lebih lanjut dapat dilihat di https://bit.ly/EkuivalensiTA'], ['Untuk melakukan seminar proposal harus memenuhi syarat seminar proposal dan harus membuat presentasi. Untuk info lebih lanjut dapat dilihat di https://bit.ly/PanduanSIMTA'], ['Untuk melakukan sidang TA harus memenuhi syarat sidang TA dan harus membuat presentasi. Untuk info lebih lanjut dapat dilihat di https://bit.ly/PanduanSIMTA'], ['Untuk melakukan seminar hasil harus memenuhi syarat seminar hasil dan harus membuat presentasi. Untuk info lebih lanjut dapat dilihat di https://bit.ly/PanduanSIMTA'], ['Untuk melakukan yudisium harus memenuhi syarat yudisium. Untuk info lebih lanjut dapat dilihat di https://bit.ly/PanduanSIMTA'], ['Sebelum wisuda mahasiswa diwajibkan untuk mengurus administrasi terlebih dahulu. Lebih lengkap dapat dilihat di https://bit.ly/AdministrasiWisuda'], ['Mahasiswa harus menyelesaikan 144 sks untuk kelulusan'], ['Surat Keterangan Pendamping Ijazah (SKPI) merupakan surat pernyataan resmi yang dikeluarkan oleh Perguruan Tinggi, berisi informasi tentang pencapainan akademik atau kualifikasi dari lulusan pendidikan tinggi bergelar.'], ['Jumlah minimal SKPI yang harus dipenuhi adalah 350 point'], ['1. Bidang Kegiatan Organisasi dan Kepemimpinan, 2. Bidang Kegiatan Penalaran dan Keilmuan, 3. Bidang Kegiatan Minat Bakat dan Kegemaran, 4. Bidang Kegiatan Sosial, 5. Kegiatan Lain (Study Comparatif, Magang, dll), 6. Bidang Kegiatan Keagamaan, 7. Kegiatan Wajib (Kegiatan yang wajib diikuti mahasiswa dan bersertifikat). Dapat dilihat di https://SKPI.umm.ac.id/'], ['Pada semester terdapat mata kuliah praskripsi yang menjadi awal dari pembuatan proposal skripsi'], ['Pengerjaan revisi setelah seminar proposal paling lambat 1 minggu atau 7 hari.'], ['Pengerjaan revisi setelah sidang TA paling lambat 2 minggu atau 14 hari'], ['Mahasiswa Program Sarjana dinyatakan lulus bila telah berhasil menyelesaikan seluruh beban studi dan kewajiban lainnya dengan IPK >= 2,00 tanpa nilai D dan E'], ['Kepada lulusan program Diploma, Sarjana, Profesi, Magister, dan Doktor diberikan Predikat kelulusan yang terdiri dari 3 (tiga) tingkat yaitu: Memuaskan, Sangat Memuaskan, dan Dengan Pujian'], ['Predikat kelulusan dilihat dari Indeks Prestasi Kumulatif(IPK) dan waktu penyelesaian studi'], ['1. Memuaskan IPK 2,76 sampai 3,00; 2. Sangat memuaskan IPK 3,01 sampai 3,50; 3. Dengan pujian IPK lebih dari 3,50 dan lulus dalam masa studi maksimal 6 (enam) semester untuk Diploma Tiga dan 8 (delapan) semester untuk Program Sarjana.'], ['Penentuan Lulusan Terbaik tingkat Fakultas dan Universitas berdasarkan indeks dengan mempertimbangkan Indeks Prestasi Kumulatif, lama Studi, Surat Keterangan Pendamping Ijazah (SKPI), prosentase plagiasi, nilai Tugas Akhir bagi lulusan Diploma dan Sarjana; dengan porsi: Indeks Prestasi Kumulatif: 40%, Lama Studi: 30%, SKPI: 10%, prosentase plagiasi: 10%, dan nilai Tugas Akhir: 10%'], ['1. Ujian Tugas Akhir diikuti oleh mahasiswa aktif yang namanya tercantum dalam daftar peserta Ujian Tugas Akhir sesuai dengan keputusan Dekan/Direktur. 2. Persyaratan mengikuti Ujian Tugas Akhir telah lulus semua matakuliah dan telah mengumpulkan naskah TA yang telah disetujui pembimbing. 3. Perserta hadir 15 (lima belas) menit sebelum ujian berlangsung. 4. Peserta berbaju putih, berdasi, celana/bawahan gelap, bersepatu, dengan mengenakan jas almamater. 5. Peserta tidak melakukan pelanggaran terhadap pertaturan disiplin mahasiswa dan alumnus UMM. 6. Hal-hal yang belum tercantum dalam tata tertib ini diatur lebih lanjut Fakultas/Program Studi'], ['Mahasiswa dinyatakan lulus sebagai Sarjana jika telah menyelesaikan beban studi dalam program studinya dengan IPK >= 2,0 tanpa nilai D dan E dalam waktu maksimal 14 (empat belas) semester.'], ['Test TAEP wajib diikuti semua wisudawan yang diselenggarakan tiap kali sebelum wisuda universitas dilaksanakan. Test ini bertujuan untuk mengetahui perkembangan kompetensi mahasiswa dalam bahasa Inggris setelah mereka mengikuti kuliah ESP'], ['Surat Keputusan Tugas Akhir (SK TA) merupakan surat yang dikeluarkan setelah mendapat nilai atau hasil seminar proposal. SK TA biasanya keluar dalam waktu sekitar sebulan']]\n"
          ]
        }
      ],
      "source": [
        "print(len(labels))\n",
        "print(labels)\n",
        "print(len(responses))\n",
        "print(responses)"
      ]
    },
    {
      "cell_type": "code",
      "execution_count": null,
      "metadata": {
        "id": "b-GnIrCRXke4"
      },
      "outputs": [],
      "source": [
        "lbl_encoder = LabelEncoder()\n",
        "lbl_encoder.fit(training_labels)\n",
        "training_labels = lbl_encoder.transform(training_labels)"
      ]
    },
    {
      "cell_type": "code",
      "execution_count": null,
      "metadata": {
        "colab": {
          "base_uri": "https://localhost:8080/",
          "height": 423
        },
        "id": "Aep9J6g6QqqF",
        "outputId": "03e05635-6a48-436e-a705-3d9d5687c558"
      },
      "outputs": [
        {
          "output_type": "execute_result",
          "data": {
            "text/plain": [
              "       0\n",
              "23    36\n",
              "24    36\n",
              "25    36\n",
              "26    36\n",
              "27    36\n",
              "...   ..\n",
              "3455  41\n",
              "3456  41\n",
              "3457  41\n",
              "3458  41\n",
              "3459  41\n",
              "\n",
              "[3437 rows x 1 columns]"
            ],
            "text/html": [
              "\n",
              "  <div id=\"df-f75f3ed6-7e46-4e09-bb74-c5f6de981b06\" class=\"colab-df-container\">\n",
              "    <div>\n",
              "<style scoped>\n",
              "    .dataframe tbody tr th:only-of-type {\n",
              "        vertical-align: middle;\n",
              "    }\n",
              "\n",
              "    .dataframe tbody tr th {\n",
              "        vertical-align: top;\n",
              "    }\n",
              "\n",
              "    .dataframe thead th {\n",
              "        text-align: right;\n",
              "    }\n",
              "</style>\n",
              "<table border=\"1\" class=\"dataframe\">\n",
              "  <thead>\n",
              "    <tr style=\"text-align: right;\">\n",
              "      <th></th>\n",
              "      <th>0</th>\n",
              "    </tr>\n",
              "  </thead>\n",
              "  <tbody>\n",
              "    <tr>\n",
              "      <th>23</th>\n",
              "      <td>36</td>\n",
              "    </tr>\n",
              "    <tr>\n",
              "      <th>24</th>\n",
              "      <td>36</td>\n",
              "    </tr>\n",
              "    <tr>\n",
              "      <th>25</th>\n",
              "      <td>36</td>\n",
              "    </tr>\n",
              "    <tr>\n",
              "      <th>26</th>\n",
              "      <td>36</td>\n",
              "    </tr>\n",
              "    <tr>\n",
              "      <th>27</th>\n",
              "      <td>36</td>\n",
              "    </tr>\n",
              "    <tr>\n",
              "      <th>...</th>\n",
              "      <td>...</td>\n",
              "    </tr>\n",
              "    <tr>\n",
              "      <th>3455</th>\n",
              "      <td>41</td>\n",
              "    </tr>\n",
              "    <tr>\n",
              "      <th>3456</th>\n",
              "      <td>41</td>\n",
              "    </tr>\n",
              "    <tr>\n",
              "      <th>3457</th>\n",
              "      <td>41</td>\n",
              "    </tr>\n",
              "    <tr>\n",
              "      <th>3458</th>\n",
              "      <td>41</td>\n",
              "    </tr>\n",
              "    <tr>\n",
              "      <th>3459</th>\n",
              "      <td>41</td>\n",
              "    </tr>\n",
              "  </tbody>\n",
              "</table>\n",
              "<p>3437 rows × 1 columns</p>\n",
              "</div>\n",
              "    <div class=\"colab-df-buttons\">\n",
              "\n",
              "  <div class=\"colab-df-container\">\n",
              "    <button class=\"colab-df-convert\" onclick=\"convertToInteractive('df-f75f3ed6-7e46-4e09-bb74-c5f6de981b06')\"\n",
              "            title=\"Convert this dataframe to an interactive table.\"\n",
              "            style=\"display:none;\">\n",
              "\n",
              "  <svg xmlns=\"http://www.w3.org/2000/svg\" height=\"24px\" viewBox=\"0 -960 960 960\">\n",
              "    <path d=\"M120-120v-720h720v720H120Zm60-500h600v-160H180v160Zm220 220h160v-160H400v160Zm0 220h160v-160H400v160ZM180-400h160v-160H180v160Zm440 0h160v-160H620v160ZM180-180h160v-160H180v160Zm440 0h160v-160H620v160Z\"/>\n",
              "  </svg>\n",
              "    </button>\n",
              "\n",
              "  <style>\n",
              "    .colab-df-container {\n",
              "      display:flex;\n",
              "      gap: 12px;\n",
              "    }\n",
              "\n",
              "    .colab-df-convert {\n",
              "      background-color: #E8F0FE;\n",
              "      border: none;\n",
              "      border-radius: 50%;\n",
              "      cursor: pointer;\n",
              "      display: none;\n",
              "      fill: #1967D2;\n",
              "      height: 32px;\n",
              "      padding: 0 0 0 0;\n",
              "      width: 32px;\n",
              "    }\n",
              "\n",
              "    .colab-df-convert:hover {\n",
              "      background-color: #E2EBFA;\n",
              "      box-shadow: 0px 1px 2px rgba(60, 64, 67, 0.3), 0px 1px 3px 1px rgba(60, 64, 67, 0.15);\n",
              "      fill: #174EA6;\n",
              "    }\n",
              "\n",
              "    .colab-df-buttons div {\n",
              "      margin-bottom: 4px;\n",
              "    }\n",
              "\n",
              "    [theme=dark] .colab-df-convert {\n",
              "      background-color: #3B4455;\n",
              "      fill: #D2E3FC;\n",
              "    }\n",
              "\n",
              "    [theme=dark] .colab-df-convert:hover {\n",
              "      background-color: #434B5C;\n",
              "      box-shadow: 0px 1px 3px 1px rgba(0, 0, 0, 0.15);\n",
              "      filter: drop-shadow(0px 1px 2px rgba(0, 0, 0, 0.3));\n",
              "      fill: #FFFFFF;\n",
              "    }\n",
              "  </style>\n",
              "\n",
              "    <script>\n",
              "      const buttonEl =\n",
              "        document.querySelector('#df-f75f3ed6-7e46-4e09-bb74-c5f6de981b06 button.colab-df-convert');\n",
              "      buttonEl.style.display =\n",
              "        google.colab.kernel.accessAllowed ? 'block' : 'none';\n",
              "\n",
              "      async function convertToInteractive(key) {\n",
              "        const element = document.querySelector('#df-f75f3ed6-7e46-4e09-bb74-c5f6de981b06');\n",
              "        const dataTable =\n",
              "          await google.colab.kernel.invokeFunction('convertToInteractive',\n",
              "                                                    [key], {});\n",
              "        if (!dataTable) return;\n",
              "\n",
              "        const docLinkHtml = 'Like what you see? Visit the ' +\n",
              "          '<a target=\"_blank\" href=https://colab.research.google.com/notebooks/data_table.ipynb>data table notebook</a>'\n",
              "          + ' to learn more about interactive tables.';\n",
              "        element.innerHTML = '';\n",
              "        dataTable['output_type'] = 'display_data';\n",
              "        await google.colab.output.renderOutput(dataTable, element);\n",
              "        const docLink = document.createElement('div');\n",
              "        docLink.innerHTML = docLinkHtml;\n",
              "        element.appendChild(docLink);\n",
              "      }\n",
              "    </script>\n",
              "  </div>\n",
              "\n",
              "\n",
              "<div id=\"df-4466161a-f979-4065-b9b5-61c8e1c70762\">\n",
              "  <button class=\"colab-df-quickchart\" onclick=\"quickchart('df-4466161a-f979-4065-b9b5-61c8e1c70762')\"\n",
              "            title=\"Suggest charts\"\n",
              "            style=\"display:none;\">\n",
              "\n",
              "<svg xmlns=\"http://www.w3.org/2000/svg\" height=\"24px\"viewBox=\"0 0 24 24\"\n",
              "     width=\"24px\">\n",
              "    <g>\n",
              "        <path d=\"M19 3H5c-1.1 0-2 .9-2 2v14c0 1.1.9 2 2 2h14c1.1 0 2-.9 2-2V5c0-1.1-.9-2-2-2zM9 17H7v-7h2v7zm4 0h-2V7h2v10zm4 0h-2v-4h2v4z\"/>\n",
              "    </g>\n",
              "</svg>\n",
              "  </button>\n",
              "\n",
              "<style>\n",
              "  .colab-df-quickchart {\n",
              "      --bg-color: #E8F0FE;\n",
              "      --fill-color: #1967D2;\n",
              "      --hover-bg-color: #E2EBFA;\n",
              "      --hover-fill-color: #174EA6;\n",
              "      --disabled-fill-color: #AAA;\n",
              "      --disabled-bg-color: #DDD;\n",
              "  }\n",
              "\n",
              "  [theme=dark] .colab-df-quickchart {\n",
              "      --bg-color: #3B4455;\n",
              "      --fill-color: #D2E3FC;\n",
              "      --hover-bg-color: #434B5C;\n",
              "      --hover-fill-color: #FFFFFF;\n",
              "      --disabled-bg-color: #3B4455;\n",
              "      --disabled-fill-color: #666;\n",
              "  }\n",
              "\n",
              "  .colab-df-quickchart {\n",
              "    background-color: var(--bg-color);\n",
              "    border: none;\n",
              "    border-radius: 50%;\n",
              "    cursor: pointer;\n",
              "    display: none;\n",
              "    fill: var(--fill-color);\n",
              "    height: 32px;\n",
              "    padding: 0;\n",
              "    width: 32px;\n",
              "  }\n",
              "\n",
              "  .colab-df-quickchart:hover {\n",
              "    background-color: var(--hover-bg-color);\n",
              "    box-shadow: 0 1px 2px rgba(60, 64, 67, 0.3), 0 1px 3px 1px rgba(60, 64, 67, 0.15);\n",
              "    fill: var(--button-hover-fill-color);\n",
              "  }\n",
              "\n",
              "  .colab-df-quickchart-complete:disabled,\n",
              "  .colab-df-quickchart-complete:disabled:hover {\n",
              "    background-color: var(--disabled-bg-color);\n",
              "    fill: var(--disabled-fill-color);\n",
              "    box-shadow: none;\n",
              "  }\n",
              "\n",
              "  .colab-df-spinner {\n",
              "    border: 2px solid var(--fill-color);\n",
              "    border-color: transparent;\n",
              "    border-bottom-color: var(--fill-color);\n",
              "    animation:\n",
              "      spin 1s steps(1) infinite;\n",
              "  }\n",
              "\n",
              "  @keyframes spin {\n",
              "    0% {\n",
              "      border-color: transparent;\n",
              "      border-bottom-color: var(--fill-color);\n",
              "      border-left-color: var(--fill-color);\n",
              "    }\n",
              "    20% {\n",
              "      border-color: transparent;\n",
              "      border-left-color: var(--fill-color);\n",
              "      border-top-color: var(--fill-color);\n",
              "    }\n",
              "    30% {\n",
              "      border-color: transparent;\n",
              "      border-left-color: var(--fill-color);\n",
              "      border-top-color: var(--fill-color);\n",
              "      border-right-color: var(--fill-color);\n",
              "    }\n",
              "    40% {\n",
              "      border-color: transparent;\n",
              "      border-right-color: var(--fill-color);\n",
              "      border-top-color: var(--fill-color);\n",
              "    }\n",
              "    60% {\n",
              "      border-color: transparent;\n",
              "      border-right-color: var(--fill-color);\n",
              "    }\n",
              "    80% {\n",
              "      border-color: transparent;\n",
              "      border-right-color: var(--fill-color);\n",
              "      border-bottom-color: var(--fill-color);\n",
              "    }\n",
              "    90% {\n",
              "      border-color: transparent;\n",
              "      border-bottom-color: var(--fill-color);\n",
              "    }\n",
              "  }\n",
              "</style>\n",
              "\n",
              "  <script>\n",
              "    async function quickchart(key) {\n",
              "      const quickchartButtonEl =\n",
              "        document.querySelector('#' + key + ' button');\n",
              "      quickchartButtonEl.disabled = true;  // To prevent multiple clicks.\n",
              "      quickchartButtonEl.classList.add('colab-df-spinner');\n",
              "      try {\n",
              "        const charts = await google.colab.kernel.invokeFunction(\n",
              "            'suggestCharts', [key], {});\n",
              "      } catch (error) {\n",
              "        console.error('Error during call to suggestCharts:', error);\n",
              "      }\n",
              "      quickchartButtonEl.classList.remove('colab-df-spinner');\n",
              "      quickchartButtonEl.classList.add('colab-df-quickchart-complete');\n",
              "    }\n",
              "    (() => {\n",
              "      let quickchartButtonEl =\n",
              "        document.querySelector('#df-4466161a-f979-4065-b9b5-61c8e1c70762 button');\n",
              "      quickchartButtonEl.style.display =\n",
              "        google.colab.kernel.accessAllowed ? 'block' : 'none';\n",
              "    })();\n",
              "  </script>\n",
              "</div>\n",
              "    </div>\n",
              "  </div>\n"
            ]
          },
          "metadata": {},
          "execution_count": 15
        }
      ],
      "source": [
        "data_en = pd.DataFrame(training_labels)\n",
        "data_en[23:]"
      ]
    },
    {
      "cell_type": "code",
      "execution_count": null,
      "metadata": {
        "colab": {
          "base_uri": "https://localhost:8080/"
        },
        "id": "1Olu476SnwUe",
        "outputId": "25cef35e-c48d-4c90-c2d8-f0a700d22db5"
      },
      "outputs": [
        {
          "output_type": "stream",
          "name": "stdout",
          "text": [
            "[36 36 36 ... 41 41 41]\n",
            "(3460,)\n"
          ]
        }
      ],
      "source": [
        "print(training_labels)\n",
        "print(training_labels.shape)"
      ]
    },
    {
      "cell_type": "code",
      "execution_count": null,
      "metadata": {
        "id": "VS8nJ35uXnMZ"
      },
      "outputs": [],
      "source": [
        "vocab_size = 1000\n",
        "embedding_dim = 16\n",
        "max_len = 20\n",
        "oov_token = \"<OOV>\"\n",
        "\n",
        "tokenizer = Tokenizer(num_words=vocab_size, oov_token=oov_token)\n",
        "tokenizer.fit_on_texts(training_sentences)\n",
        "tfidf = tokenizer.texts_to_matrix(training_sentences,mode=\"tfidf\")"
      ]
    },
    {
      "cell_type": "code",
      "execution_count": null,
      "metadata": {
        "colab": {
          "base_uri": "https://localhost:8080/"
        },
        "id": "9SOL-_uIWTod",
        "outputId": "f4707f5d-b7db-4199-c3b4-f493a093cc7e"
      },
      "outputs": [
        {
          "output_type": "stream",
          "name": "stderr",
          "text": [
            "<ipython-input-18-2636ef461b37>:1: VisibleDeprecationWarning: Creating an ndarray from ragged nested sequences (which is a list-or-tuple of lists-or-tuples-or ndarrays with different lengths or shapes) is deprecated. If you meant to do this, you must specify 'dtype=object' when creating the ndarray.\n",
            "  np.array(training_sentences).shape\n"
          ]
        },
        {
          "output_type": "execute_result",
          "data": {
            "text/plain": [
              "(3460,)"
            ]
          },
          "metadata": {},
          "execution_count": 18
        }
      ],
      "source": [
        "np.array(training_sentences).shape"
      ]
    },
    {
      "cell_type": "code",
      "execution_count": null,
      "metadata": {
        "colab": {
          "base_uri": "https://localhost:8080/"
        },
        "id": "A6NIMUskyVIP",
        "outputId": "aeffad87-e15b-4e50-8dc7-5811de647b03"
      },
      "outputs": [
        {
          "output_type": "stream",
          "name": "stdout",
          "text": [
            "[0.         0.         0.         0.         0.         0.\n",
            " 0.         0.         0.         0.         0.         0.\n",
            " 0.         0.         0.         0.         0.         0.\n",
            " 0.         0.         0.         0.         0.         0.\n",
            " 0.         0.         0.         0.         0.         0.\n",
            " 0.         0.         0.         0.         0.         0.\n",
            " 0.         0.         0.         0.         0.         0.\n",
            " 0.         0.         0.         0.         0.         0.\n",
            " 0.         0.         0.         0.         0.         0.\n",
            " 0.         0.         0.         0.         0.         0.\n",
            " 0.         0.         0.         0.         0.         0.\n",
            " 0.         0.         0.         0.         0.         0.\n",
            " 0.         0.         0.         0.         0.         0.\n",
            " 0.         0.         0.         0.         0.         0.\n",
            " 0.         0.         0.         0.         0.         0.\n",
            " 0.         0.         4.44723185 0.         0.         0.\n",
            " 0.         0.         0.         0.         0.         0.\n",
            " 0.         0.         0.         0.         0.         0.\n",
            " 0.         0.         0.         0.         0.         0.\n",
            " 0.         0.         0.         0.         0.         0.\n",
            " 0.         0.         0.         0.         0.         0.\n",
            " 0.         0.         0.         0.         0.         0.\n",
            " 0.         0.         0.         0.         0.         0.\n",
            " 0.         0.         0.         0.         0.         0.\n",
            " 0.         0.         0.         0.         0.         0.\n",
            " 0.         0.         0.         0.         0.         0.\n",
            " 0.         0.         0.         0.         0.         0.\n",
            " 0.         0.         0.         0.         0.         0.\n",
            " 0.         0.         0.         0.         0.         0.\n",
            " 0.         0.         0.         0.         0.         0.\n",
            " 0.         0.         0.         0.         0.         0.\n",
            " 0.         0.         0.         0.         0.         0.\n",
            " 0.         0.         0.         0.         0.         0.\n",
            " 0.         0.         0.         0.         0.         0.\n",
            " 0.         0.         0.         0.         0.         0.\n",
            " 0.         0.         0.         0.         0.         0.\n",
            " 0.         0.         0.         0.         0.         0.\n",
            " 0.         0.         0.         6.54103    0.         0.\n",
            " 0.         0.         0.         0.         0.         0.\n",
            " 0.         0.         0.         0.         0.         0.\n",
            " 0.         0.         0.         0.         0.         0.\n",
            " 0.         0.         0.         0.         0.         0.\n",
            " 0.         0.         0.         0.         0.         0.\n",
            " 0.         0.         0.         0.         0.         0.\n",
            " 0.         0.         0.         0.         0.         0.\n",
            " 0.         0.         0.         0.         0.         0.\n",
            " 0.         0.         0.         0.         0.         0.\n",
            " 0.         0.         0.         0.         0.         0.\n",
            " 0.         0.         0.         0.         0.         0.\n",
            " 0.         0.         0.         0.         0.         0.\n",
            " 0.         0.         0.         0.         0.         0.\n",
            " 0.         0.         0.         0.         0.         0.\n",
            " 0.         0.         0.         0.         0.         0.\n",
            " 0.         0.         0.         0.         0.         0.\n",
            " 0.         0.         0.         0.         0.         0.\n",
            " 0.         0.         0.         0.         0.         0.\n",
            " 0.         0.         0.         0.         0.         0.\n",
            " 0.         0.         0.         0.         0.         0.\n",
            " 0.         0.         0.         0.         0.         0.\n",
            " 0.         0.         0.         0.         0.         0.\n",
            " 0.         0.         0.         0.         0.         0.\n",
            " 0.         0.         0.         0.         0.         0.\n",
            " 0.         0.         0.         0.         0.         0.\n",
            " 0.         0.         0.         0.         0.         0.\n",
            " 0.         0.         0.         0.         0.         0.\n",
            " 0.         0.         0.         0.         0.         0.\n",
            " 0.         0.         0.         0.         0.         0.\n",
            " 0.         0.         0.         0.         0.         0.\n",
            " 0.         0.         0.         0.         0.         0.\n",
            " 0.         0.         0.         0.         0.         0.\n",
            " 0.         0.         0.         0.         0.         0.\n",
            " 0.         0.         0.         0.         0.         0.\n",
            " 0.         0.         0.         0.         0.         0.\n",
            " 0.         0.         0.         0.         0.         0.\n",
            " 0.         0.         0.         0.         0.         0.\n",
            " 0.         0.         0.         0.         0.         0.\n",
            " 0.         0.         0.         0.         0.         0.\n",
            " 0.         0.         0.         0.         0.         0.\n",
            " 0.         0.         0.         0.         0.         0.\n",
            " 0.         0.         0.         0.         0.         0.\n",
            " 0.         0.         0.         0.         0.         0.\n",
            " 0.         0.         0.         0.         0.         0.\n",
            " 0.         0.         0.         0.         0.         0.\n",
            " 0.         0.         0.         0.         0.         0.\n",
            " 0.         0.         0.         0.         0.         0.\n",
            " 0.         0.         0.         0.         0.         0.\n",
            " 0.         0.         0.         0.         0.         0.\n",
            " 0.         0.         0.         0.         0.         0.\n",
            " 0.         0.         0.         0.         0.         0.\n",
            " 0.         0.         0.         0.         0.         0.\n",
            " 0.         0.         0.         0.         0.         0.\n",
            " 0.         0.         0.         0.         0.         0.\n",
            " 0.         0.         0.         0.         0.         0.\n",
            " 0.         0.         0.         0.         0.         0.\n",
            " 0.         0.         0.         0.         0.         0.\n",
            " 0.         0.         0.         0.         0.         0.\n",
            " 0.         0.         0.         0.         0.         0.\n",
            " 0.         0.         0.         0.         0.         0.\n",
            " 0.         0.         0.         0.         0.         0.\n",
            " 0.         0.         0.         0.         0.         0.\n",
            " 0.         0.         0.         0.         0.         0.\n",
            " 0.         0.         0.         0.         0.         0.\n",
            " 0.         0.         0.         0.         0.         0.\n",
            " 0.         0.         0.         0.         0.         0.\n",
            " 0.         0.         0.         0.         0.         0.\n",
            " 0.         0.         0.         0.         0.         0.\n",
            " 0.         0.         0.         0.         0.         0.\n",
            " 0.         0.         0.         0.         0.         0.\n",
            " 0.         0.         0.         0.         0.         0.\n",
            " 0.         0.         0.         0.         0.         0.\n",
            " 0.         0.         0.         0.         0.         0.\n",
            " 0.         0.         0.         0.         0.         0.\n",
            " 0.         0.         0.         0.         0.         0.\n",
            " 0.         0.         0.         0.         0.         0.\n",
            " 0.         0.         0.         0.         0.         0.\n",
            " 0.         0.         0.         0.         0.         0.\n",
            " 0.         0.         0.         0.         0.         0.\n",
            " 0.         0.         0.         0.         0.         0.\n",
            " 0.         0.         0.         0.         0.         0.\n",
            " 0.         0.         0.         0.         0.         0.\n",
            " 0.         0.         0.         0.         0.         0.\n",
            " 0.         0.         0.         0.         0.         0.\n",
            " 0.         0.         0.         0.         0.         0.\n",
            " 0.         0.         0.         0.         0.         0.\n",
            " 0.         0.         0.         0.         0.         0.\n",
            " 0.         0.         0.         0.         0.         0.\n",
            " 0.         0.         0.         0.         0.         0.\n",
            " 0.         0.         0.         0.         0.         0.\n",
            " 0.         0.         0.         0.         0.         0.\n",
            " 0.         0.         0.         0.         0.         0.\n",
            " 0.         0.         0.         0.         0.         0.\n",
            " 0.         0.         0.         0.         0.         0.\n",
            " 0.         0.         0.         0.         0.         0.\n",
            " 0.         0.         0.         0.         0.         0.\n",
            " 0.         0.         0.         0.         0.         0.\n",
            " 0.         0.         0.         0.         0.         0.\n",
            " 0.         0.         0.         0.         0.         0.\n",
            " 0.         0.         0.         0.         0.         0.\n",
            " 0.         0.         0.         0.         0.         0.\n",
            " 0.         0.         0.         0.         0.         0.\n",
            " 0.         0.         0.         0.         0.         0.\n",
            " 0.         0.         0.         0.         0.         0.\n",
            " 0.         0.         0.         0.         0.         0.\n",
            " 0.         0.         0.         0.         0.         0.\n",
            " 0.         0.         0.         0.         0.         0.\n",
            " 0.         0.         0.         0.         0.         0.\n",
            " 0.         0.         0.         0.         0.         0.\n",
            " 0.         0.         0.         0.         0.         0.\n",
            " 0.         0.         0.         0.         0.         0.\n",
            " 0.         0.         0.         0.         0.         0.\n",
            " 0.         0.         0.         0.         0.         0.\n",
            " 0.         0.         0.         0.         0.         0.\n",
            " 0.         0.         0.         0.         0.         0.\n",
            " 0.         0.         0.         0.         0.         0.\n",
            " 0.         0.         0.         0.         0.         0.\n",
            " 0.         0.         0.         0.         0.         0.\n",
            " 0.         0.         0.         0.         0.         0.\n",
            " 0.         0.         0.         0.         0.         0.\n",
            " 0.         0.         0.         0.         0.         0.\n",
            " 0.         0.         0.         0.         0.         0.\n",
            " 0.         0.         0.         0.         0.         0.\n",
            " 0.         0.         0.         0.         0.         0.\n",
            " 0.         0.         0.         0.         0.         0.\n",
            " 0.         0.         0.         0.         0.         0.\n",
            " 0.         0.         0.         0.         0.         0.\n",
            " 0.         0.         0.         0.         0.         0.\n",
            " 0.         0.         0.         0.        ]\n"
          ]
        }
      ],
      "source": [
        "print(tfidf[90])"
      ]
    },
    {
      "cell_type": "code",
      "execution_count": null,
      "metadata": {
        "id": "YBUmHVKqwZCf"
      },
      "outputs": [],
      "source": [
        "# from sklearn.model_selection import GridSearchCV\n",
        "# from sklearn.svm import SVC\n",
        "\n",
        "# # defining parameter range\n",
        "# param_grid = {'C': [0.1, 1, 10,  1000],\n",
        "#               'gamma': [1, 0.1, 0.01, 0.0001],\n",
        "#               'kernel': ['rbf', 'linear', 'poly', 'sigmoid']}\n",
        "\n",
        "# grid = GridSearchCV(SVC(), param_grid, refit = True, verbose = 3)\n",
        "\n",
        "# # fitting the model for grid search\n",
        "# grid.fit(tfidf, np.array(training_labels))"
      ]
    },
    {
      "cell_type": "code",
      "execution_count": null,
      "metadata": {
        "id": "Nbmk1LFXw5FV"
      },
      "outputs": [],
      "source": [
        "# # print best parameter after tuning\n",
        "# print(grid.best_params_)\n",
        "\n",
        "# # print how our model looks after hyper-parameter tuning\n",
        "# print(grid.best_estimator_)"
      ]
    },
    {
      "cell_type": "code",
      "execution_count": null,
      "metadata": {
        "id": "-fy7k3z_mbpU"
      },
      "outputs": [],
      "source": [
        "from sklearn.svm import SVC\n",
        "clf = SVC(kernel='linear', C=10, gamma=0.001)\n",
        "clf = clf.fit(tfidf,np.array(training_labels))\n",
        "pred_svm = clf.predict(tfidf)"
      ]
    },
    {
      "cell_type": "code",
      "execution_count": null,
      "metadata": {
        "colab": {
          "base_uri": "https://localhost:8080/"
        },
        "id": "5cCMLJMmZCum",
        "outputId": "7c38817d-78d7-49a3-a082-7dffe611774c"
      },
      "outputs": [
        {
          "output_type": "stream",
          "name": "stdout",
          "text": [
            "0.9971098265895953\n"
          ]
        }
      ],
      "source": [
        "from sklearn.metrics import confusion_matrix, accuracy_score\n",
        "cm = confusion_matrix(training_labels, pred_svm)\n",
        "acc_score = accuracy_score(np.array(training_labels), pred_svm)\n",
        "print(acc_score)"
      ]
    },
    {
      "cell_type": "code",
      "execution_count": null,
      "metadata": {
        "id": "EHSXQao-5PWv"
      },
      "outputs": [],
      "source": [
        "# import matplotlib.pyplot as plt\n",
        "# from mlxtend.plotting import plot_confusion_matrix\n",
        "\n",
        "# fig, ax = plot_confusion_matrix(conf_mat=cm)\n",
        "# plt.show()"
      ]
    },
    {
      "cell_type": "code",
      "execution_count": null,
      "metadata": {
        "colab": {
          "base_uri": "https://localhost:8080/"
        },
        "id": "pDYeYa_mUtHT",
        "outputId": "503e125f-222d-43c4-d879-7ea43d092cef"
      },
      "outputs": [
        {
          "output_type": "stream",
          "name": "stdout",
          "text": [
            "              precision    recall  f1-score   support\n",
            "\n",
            "           0       1.00      1.00      1.00        53\n",
            "           1       1.00      1.00      1.00        51\n",
            "           2       1.00      1.00      1.00        52\n",
            "           3       1.00      1.00      1.00        55\n",
            "           4       1.00      0.94      0.97        62\n",
            "           5       1.00      1.00      1.00        51\n",
            "           6       0.96      1.00      0.98        51\n",
            "           7       1.00      1.00      1.00        51\n",
            "           8       1.00      1.00      1.00        51\n",
            "           9       1.00      1.00      1.00        52\n",
            "          10       1.00      1.00      1.00        52\n",
            "          11       1.00      1.00      1.00        55\n",
            "          12       1.00      1.00      1.00        52\n",
            "          13       1.00      1.00      1.00        54\n",
            "          14       1.00      1.00      1.00       102\n",
            "          15       1.00      1.00      1.00        53\n",
            "          16       1.00      1.00      1.00        54\n",
            "          17       1.00      1.00      1.00        53\n",
            "          18       1.00      1.00      1.00        51\n",
            "          19       1.00      1.00      1.00        51\n",
            "          20       1.00      1.00      1.00        58\n",
            "          21       0.96      0.96      0.96        52\n",
            "          22       1.00      1.00      1.00       101\n",
            "          23       1.00      1.00      1.00        55\n",
            "          24       1.00      1.00      1.00        51\n",
            "          25       1.00      1.00      1.00        51\n",
            "          26       1.00      1.00      1.00        52\n",
            "          27       1.00      0.96      0.98        54\n",
            "          28       1.00      1.00      1.00        51\n",
            "          29       1.00      1.00      1.00        51\n",
            "          30       1.00      1.00      1.00        53\n",
            "          31       1.00      1.00      1.00        56\n",
            "          32       1.00      1.00      1.00        51\n",
            "          33       1.00      1.00      1.00        51\n",
            "          34       1.00      1.00      1.00        52\n",
            "          35       1.00      1.00      1.00       104\n",
            "          36       1.00      1.00      1.00        72\n",
            "          37       1.00      1.00      1.00        72\n",
            "          38       1.00      1.00      1.00        52\n",
            "          39       1.00      1.00      1.00        58\n",
            "          40       1.00      1.00      1.00        54\n",
            "          41       1.00      1.00      1.00        51\n",
            "          42       1.00      1.00      1.00        51\n",
            "          43       1.00      1.00      1.00        53\n",
            "          44       1.00      1.00      1.00        51\n",
            "          45       0.93      1.00      0.96        55\n",
            "          46       1.00      1.00      1.00        52\n",
            "          47       1.00      1.00      1.00        60\n",
            "          48       0.97      0.97      0.97        71\n",
            "          49       1.00      1.00      1.00       107\n",
            "          50       1.00      1.00      1.00        53\n",
            "          51       1.00      1.00      1.00        62\n",
            "          52       1.00      1.00      1.00        67\n",
            "          53       1.00      1.00      1.00        51\n",
            "          54       1.00      1.00      1.00        55\n",
            "          55       1.00      1.00      1.00        54\n",
            "          56       1.00      1.00      1.00        53\n",
            "          57       1.00      1.00      1.00        51\n",
            "          58       1.00      1.00      1.00        55\n",
            "          59       1.00      1.00      1.00        51\n",
            "\n",
            "    accuracy                           1.00      3460\n",
            "   macro avg       1.00      1.00      1.00      3460\n",
            "weighted avg       1.00      1.00      1.00      3460\n",
            "\n"
          ]
        }
      ],
      "source": [
        "from sklearn.metrics import classification_report\n",
        "print(classification_report(np.array(training_labels), pred_svm))"
      ]
    },
    {
      "cell_type": "code",
      "execution_count": null,
      "metadata": {
        "colab": {
          "base_uri": "https://localhost:8080/"
        },
        "id": "-dYL1pOiZOQp",
        "outputId": "d4f91178-3092-48bf-bc62-8e6f0b24d10a"
      },
      "outputs": [
        {
          "output_type": "execute_result",
          "data": {
            "text/plain": [
              "['chat_model.h5']"
            ]
          },
          "metadata": {},
          "execution_count": 27
        }
      ],
      "source": [
        "import joblib\n",
        "filename = 'chat_model.h5'\n",
        "joblib.dump(clf, filename)"
      ]
    },
    {
      "cell_type": "code",
      "execution_count": null,
      "metadata": {
        "id": "WoYOeAXlX8Ox"
      },
      "outputs": [],
      "source": [
        "# model.save(\"chat_model\")\n",
        "\n",
        "import pickle\n",
        "\n",
        "# to save the fitted tokenizer\n",
        "with open('tokenizer.pickle', 'wb') as handle:\n",
        "    pickle.dump(tokenizer, handle, protocol=pickle.HIGHEST_PROTOCOL)\n",
        "\n",
        "# to save the fitted label encoder\n",
        "with open('label_encoder.pickle', 'wb') as ecn_file:\n",
        "    pickle.dump(lbl_encoder, ecn_file, protocol=pickle.HIGHEST_PROTOCOL)"
      ]
    },
    {
      "cell_type": "code",
      "execution_count": null,
      "metadata": {
        "colab": {
          "base_uri": "https://localhost:8080/"
        },
        "id": "2dbXjceSYClP",
        "outputId": "77b17b5f-383b-49a0-826e-6f0d86029d75"
      },
      "outputs": [
        {
          "name": "stdout",
          "output_type": "stream",
          "text": [
            "Start messaging with the bot (type quit to stop)!\n",
            "User: sidang\n",
            "ChatBot: Sidang untuk mempresentasikan laporan tugas akhir. Untuk informasi pendaftaran sidang TA dapat dilihat pada panduan berikut https://bit.ly/PanduanSIMTA\n",
            "User: sempro\n",
            "ChatBot: Seminar proposal adalah seminar untuk mempresentasikan proposal tugas akhir. Untuk informasi pendaftaran proposal TA dapat dilihat pada panduan berikut https://bit.ly/PanduanSIMTA\n",
            "User: wisdua\n",
            "ChatBot: Halloo, Selamat Datang. Ada yang bisa dibantu?\n",
            "User: wisuda\n",
            "ChatBot: Wisuda adalah proses akhir dalam rangkaian kegiata akademik pada sebuah perguruan tinggi. Untuk pendaftara wisuda dapat dilakukan di https://infokhs.umm.ac.id/\n",
            "User: template laporan\n",
            "ChatBot: Template Laporan Tugas Akhir dapat diakses melalui link berikut: https://bit.ly/TemplateTugasAkhirUMM\n",
            "User: quit\n"
          ]
        }
      ],
      "source": [
        "import json\n",
        "import sklearn\n",
        "import numpy as np\n",
        "from tensorflow import keras\n",
        "import warnings\n",
        "warnings.filterwarnings(\"ignore\")\n",
        "\n",
        "import random\n",
        "import pickle\n",
        "\n",
        "with open(\"data.json\") as file:\n",
        "    data = json.load(file)\n",
        "\n",
        "\n",
        "def chat():\n",
        "    # load trained model\n",
        "    model = joblib.load(filename)\n",
        "    # load tokenizer object\n",
        "    with open('tokenizer.pickle', 'rb') as handle:\n",
        "        tokenizer = pickle.load(handle)\n",
        "\n",
        "    # load label encoder object\n",
        "    with open('label_encoder.pickle', 'rb') as enc:\n",
        "        lbl_encoder = pickle.load(enc)\n",
        "\n",
        "    # parameters\n",
        "    # max_len = 20\n",
        "\n",
        "    while True:\n",
        "        print(\"User: \" , end=\"\")\n",
        "        inp = input()\n",
        "        if inp.lower() == \"quit\":\n",
        "            break\n",
        "\n",
        "        inp = inp.translate(str.maketrans(\"\",\"\",string.punctuation))\n",
        "        inp = inp.lower()\n",
        "        inp = word_tokenize(inp)\n",
        "        inp = [stemmer.stem(w.lower()) for w in inp if w not in string.punctuation]\n",
        "        tfidf = tokenizer.texts_to_matrix([inp],mode=\"tfidf\")\n",
        "        # print(tfidf)\n",
        "\n",
        "        result = model.predict(tfidf)\n",
        "        tag = lbl_encoder.inverse_transform([result])\n",
        "\n",
        "        for i in data['simanta']:\n",
        "           if i['tag'] == tag:\n",
        "               print( \"ChatBot:\" , np.random.choice(i['answer']))\n",
        "               break\n",
        "\n",
        "print(\"Start messaging with the bot (type quit to stop)!\")\n",
        "chat()"
      ]
    }
  ],
  "metadata": {
    "colab": {
      "provenance": [],
      "authorship_tag": "ABX9TyMx7U+nUpaTgLK+g785ZGAv",
      "include_colab_link": true
    },
    "gpuClass": "standard",
    "kernelspec": {
      "display_name": "Python 3",
      "name": "python3"
    },
    "language_info": {
      "name": "python"
    }
  },
  "nbformat": 4,
  "nbformat_minor": 0
}